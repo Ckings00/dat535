{
 "cells": [
  {
   "cell_type": "code",
   "execution_count": 3,
   "metadata": {},
   "outputs": [],
   "source": [
    "import pandas as pd"
   ]
  },
  {
   "cell_type": "code",
   "execution_count": 4,
   "metadata": {},
   "outputs": [],
   "source": [
    "df = pd.read_csv('./archive/test_data.csv')"
   ]
  },
  {
   "cell_type": "code",
   "execution_count": null,
   "metadata": {},
   "outputs": [],
   "source": [
    "with open('./archive/test_data.csv', 'r') as f:\n",
    "    for i in f:\n",
    "        print(i)\n",
    "        break"
   ]
  },
  {
   "cell_type": "code",
   "execution_count": null,
   "metadata": {},
   "outputs": [],
   "source": [
    "df_direct = df[df[\"isNonStop\"] == True]\n",
    "print(df.columns)"
   ]
  },
  {
   "cell_type": "code",
   "execution_count": null,
   "metadata": {},
   "outputs": [],
   "source": [
    "df_dropped = df_direct.drop(columns=[\"isNonStop\", \"legId\", \"isBasicEconomy\"])\n",
    "print(df.columns)"
   ]
  },
  {
   "cell_type": "code",
   "execution_count": null,
   "metadata": {},
   "outputs": [],
   "source": [
    "def iterrate_merge(df):\n",
    "    for i, row in df.iterrows():\n",
    "        print(row.iloc[:])\n",
    "        print(row[row.iloc[:]], str)\n",
    "        print(row)\n",
    "        break\n",
    "        #strlist = row[row.columns]\n",
    "        #print(strlist)\n",
    "\n",
    "#iterrate_merge(df_dropped)\n",
    "\n",
    "test = [i for index, row in df_dropped.head(10).iterrows() for i in row]\n",
    "#test[0] == \";\".join(test)\n",
    "test1 = [test[i:i + 12] for i in range(0, len(test), 12)]\n",
    "print(len(test1))\n",
    "scrambled = []\n",
    "with open(\"./archive/test_data_clean.txt\", \"w\") as f:\n",
    "    for i in test1:\n",
    "        print(i)\n",
    "        i = [str(element) for element in i]\n",
    "        test5 = \",\".join(i)\n",
    "        f.write(test5 + \"\\n\")\n",
    "        \n",
    "        break\n",
    "\n",
    "    #i.join()\n",
    "    #scrambled.append(\";\".join(i.t))\n",
    "\n",
    "#print(test1)\n",
    "\n",
    "#test = df_dropped[for i in df_dropped.iloc[]:]\n"
   ]
  },
  {
   "cell_type": "code",
   "execution_count": null,
   "metadata": {},
   "outputs": [],
   "source": [
    "df_filtered = df[df['startingAirport'] == 'ATL']\n",
    "print(df['startingAirport'].unique())\n",
    "print(df['destinationAirport'].unique())\n",
    "print(df['days_between_search_and_flight'].unique())\n",
    "test = df['baseFare'].unique()\n",
    "len(test)\n",
    "for i in range(1, 61):\n",
    "    print(f\"Days between search and flight: {i}, Count: {df_filtered[df_filtered['days_between_search_and_flight'] == i].shape[0]}\")\n",
    "\n",
    "\n",
    "\n",
    "print(len(df_filtered))\n",
    "print(df_filtered)"
   ]
  }
 ],
 "metadata": {
  "kernelspec": {
   "display_name": "venv",
   "language": "python",
   "name": "python3"
  },
  "language_info": {
   "codemirror_mode": {
    "name": "ipython",
    "version": 3
   },
   "file_extension": ".py",
   "mimetype": "text/x-python",
   "name": "python",
   "nbconvert_exporter": "python",
   "pygments_lexer": "ipython3",
   "version": "3.12.5"
  }
 },
 "nbformat": 4,
 "nbformat_minor": 2
}
