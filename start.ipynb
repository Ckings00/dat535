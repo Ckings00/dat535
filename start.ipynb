{
 "cells": [
  {
   "cell_type": "code",
   "execution_count": 3,
   "metadata": {},
   "outputs": [],
   "source": [
    "import pandas as pd"
   ]
  },
  {
   "cell_type": "code",
   "execution_count": 4,
   "metadata": {},
   "outputs": [],
   "source": [
    "df = pd.read_csv('./archive/test_data.csv')"
   ]
  },
  {
   "cell_type": "code",
   "execution_count": 2,
   "metadata": {},
   "outputs": [
    {
     "name": "stdout",
     "output_type": "stream",
     "text": [
      "legId,searchDate,flightDate,startingAirport,destinationAirport,travelDuration,elapsedDays,isBasicEconomy,isNonStop,baseFare,totalFare,seatsRemaining,totalTravelDistance,day_of_week,days_between_search_and_flight\n",
      "\n"
     ]
    }
   ],
   "source": [
    "with open('./archive/test_data.csv', 'r') as f:\n",
    "    for i in f:\n",
    "        print(i)\n",
    "        break"
   ]
  },
  {
   "cell_type": "code",
   "execution_count": 5,
   "metadata": {},
   "outputs": [
    {
     "name": "stdout",
     "output_type": "stream",
     "text": [
      "Index(['legId', 'searchDate', 'flightDate', 'startingAirport',\n",
      "       'destinationAirport', 'travelDuration', 'elapsedDays', 'isBasicEconomy',\n",
      "       'isNonStop', 'baseFare', 'totalFare', 'seatsRemaining',\n",
      "       'totalTravelDistance', 'day_of_week', 'days_between_search_and_flight'],\n",
      "      dtype='object')\n"
     ]
    }
   ],
   "source": [
    "df_direct = df[df[\"isNonStop\"] == True]\n",
    "print(df.columns)"
   ]
  },
  {
   "cell_type": "code",
   "execution_count": 6,
   "metadata": {},
   "outputs": [
    {
     "name": "stdout",
     "output_type": "stream",
     "text": [
      "Index(['legId', 'searchDate', 'flightDate', 'startingAirport',\n",
      "       'destinationAirport', 'travelDuration', 'elapsedDays', 'isBasicEconomy',\n",
      "       'isNonStop', 'baseFare', 'totalFare', 'seatsRemaining',\n",
      "       'totalTravelDistance', 'day_of_week', 'days_between_search_and_flight'],\n",
      "      dtype='object')\n"
     ]
    }
   ],
   "source": [
    "df_dropped = df_direct.drop(columns=[\"isNonStop\", \"legId\", \"isBasicEconomy\"])\n",
    "print(df.columns)"
   ]
  },
  {
   "cell_type": "code",
   "execution_count": 8,
   "metadata": {},
   "outputs": [
    {
     "name": "stdout",
     "output_type": "stream",
     "text": [
      "10\n",
      "['2022-04-16', '2022-04-17', 'ATL', 'CLT', 'PT1H10M', 0, 357.21, 398.6, 6, 228.0, 'Sunday', 1]\n",
      "2022-04-16,2022-04-17,ATL,CLT,PT1H10M,0,357.21,398.6,6,228.0,Sunday,1\n"
     ]
    }
   ],
   "source": [
    "def iterrate_merge(df):\n",
    "    for i, row in df.iterrows():\n",
    "        print(row.iloc[:])\n",
    "        print(row[row.iloc[:]], str)\n",
    "        print(row)\n",
    "        break\n",
    "        #strlist = row[row.columns]\n",
    "        #print(strlist)\n",
    "\n",
    "#iterrate_merge(df_dropped)\n",
    "\n",
    "test = [i for index, row in df_dropped.head(10).iterrows() for i in row]\n",
    "#test[0] == \";\".join(test)\n",
    "test1 = [test[i:i + 12] for i in range(0, len(test), 12)]\n",
    "print(len(test1))\n",
    "scrambled = []\n",
    "with open(\"./archive/test_data_clean.txt\", \"w\") as f:\n",
    "    for i in test1:\n",
    "        print(i)\n",
    "        i = [str(element) for element in i]\n",
    "        test5 = \",\".join(i)\n",
    "        f.write(test5 + \"\\n\")\n",
    "        \n",
    "        print(test5)\n",
    "        break\n",
    "\n",
    "    #i.join()\n",
    "    #scrambled.append(\";\".join(i.t))\n",
    "\n",
    "#print(test1)\n",
    "\n",
    "#test = df_dropped[for i in df_dropped.iloc[]:]\n"
   ]
  },
  {
   "cell_type": "code",
   "execution_count": 15,
   "metadata": {},
   "outputs": [
    {
     "name": "stdout",
     "output_type": "stream",
     "text": [
      "['ATL' 'BOS' 'CLT' 'DEN' 'DFW' 'DTW' 'EWR' 'IAD' 'JFK' 'LAX' 'LGA' 'MIA'\n",
      " 'OAK' 'ORD' 'PHL' 'SFO']\n",
      "['BOS' 'CLT' 'DEN' 'DFW' 'DTW' 'EWR' 'IAD' 'JFK' 'LAX' 'LGA' 'MIA' 'OAK'\n",
      " 'ORD' 'PHL' 'SFO' 'ATL']\n",
      "[ 1  2  3  4  5  6  7  8  9 10 11 12 13 14 15 16 17 18 19 20 21 22 23 24\n",
      " 25 26 27 28 29 30 31 32 33 34 35 36 37 38 39 40 41 42 43 44 45 46 47 48\n",
      " 49 50 51 52 53 54 55 56 57 58 59 60]\n",
      "Days between search and flight: 1, Count: 23172\n",
      "Days between search and flight: 2, Count: 23817\n",
      "Days between search and flight: 3, Count: 23841\n",
      "Days between search and flight: 4, Count: 23846\n",
      "Days between search and flight: 5, Count: 22811\n",
      "Days between search and flight: 6, Count: 21772\n",
      "Days between search and flight: 7, Count: 21813\n",
      "Days between search and flight: 8, Count: 22027\n",
      "Days between search and flight: 9, Count: 22046\n",
      "Days between search and flight: 10, Count: 22229\n",
      "Days between search and flight: 11, Count: 22033\n",
      "Days between search and flight: 12, Count: 22304\n",
      "Days between search and flight: 13, Count: 20973\n",
      "Days between search and flight: 14, Count: 20249\n",
      "Days between search and flight: 15, Count: 20085\n",
      "Days between search and flight: 16, Count: 20325\n",
      "Days between search and flight: 17, Count: 20235\n",
      "Days between search and flight: 18, Count: 19996\n",
      "Days between search and flight: 19, Count: 19866\n",
      "Days between search and flight: 20, Count: 19372\n",
      "Days between search and flight: 21, Count: 19181\n",
      "Days between search and flight: 22, Count: 19007\n",
      "Days between search and flight: 23, Count: 19081\n",
      "Days between search and flight: 24, Count: 18978\n",
      "Days between search and flight: 25, Count: 18866\n",
      "Days between search and flight: 26, Count: 18866\n",
      "Days between search and flight: 27, Count: 18633\n",
      "Days between search and flight: 28, Count: 18656\n",
      "Days between search and flight: 29, Count: 18483\n",
      "Days between search and flight: 30, Count: 18680\n",
      "Days between search and flight: 31, Count: 18742\n",
      "Days between search and flight: 32, Count: 18728\n",
      "Days between search and flight: 33, Count: 18806\n",
      "Days between search and flight: 34, Count: 18897\n",
      "Days between search and flight: 35, Count: 18578\n",
      "Days between search and flight: 36, Count: 18167\n",
      "Days between search and flight: 37, Count: 18234\n",
      "Days between search and flight: 38, Count: 17891\n",
      "Days between search and flight: 39, Count: 17777\n",
      "Days between search and flight: 40, Count: 17667\n",
      "Days between search and flight: 41, Count: 17300\n",
      "Days between search and flight: 42, Count: 17204\n",
      "Days between search and flight: 43, Count: 17229\n",
      "Days between search and flight: 44, Count: 16799\n",
      "Days between search and flight: 45, Count: 16570\n",
      "Days between search and flight: 46, Count: 16034\n",
      "Days between search and flight: 47, Count: 15251\n",
      "Days between search and flight: 48, Count: 14470\n",
      "Days between search and flight: 49, Count: 13578\n",
      "Days between search and flight: 50, Count: 12539\n",
      "Days between search and flight: 51, Count: 12090\n",
      "Days between search and flight: 52, Count: 11326\n",
      "Days between search and flight: 53, Count: 11142\n",
      "Days between search and flight: 54, Count: 10332\n",
      "Days between search and flight: 55, Count: 9804\n",
      "Days between search and flight: 56, Count: 9285\n",
      "Days between search and flight: 57, Count: 8933\n",
      "Days between search and flight: 58, Count: 8752\n",
      "Days between search and flight: 59, Count: 8530\n",
      "Days between search and flight: 60, Count: 8090\n",
      "1059988\n",
      "                                     legId  searchDate  flightDate  \\\n",
      "0         3904bf87f2d1daf334f1ae7e3b876028  2022-04-16  2022-04-17   \n",
      "1         e7c4054e85cca9bc7134b3cc93deaf7c  2022-04-16  2022-04-17   \n",
      "2         cb345693479e84838dfaac346b8e8d6a  2022-04-16  2022-04-17   \n",
      "3         eaf033a044596f0a76b132a490927524  2022-04-16  2022-04-17   \n",
      "4         676e25bb0ec021d335241354b668c674  2022-04-16  2022-04-17   \n",
      "...                                    ...         ...         ...   \n",
      "16449441  cc5ab7d9eb1bd7312bb73cf07dba1814  2022-10-05  2022-11-12   \n",
      "16449442  edab434e40f8f5e2f59c84068aea709c  2022-10-05  2022-11-12   \n",
      "16449443  198b9f2cf8bc5ec74ff2678989ed098f  2022-10-05  2022-11-12   \n",
      "16449444  85a9dafa4b185db66397b676fbd01077  2022-10-05  2022-11-12   \n",
      "16449445  30bd7f2f2fadc4af6ef9198866ecd620  2022-10-05  2022-11-12   \n",
      "\n",
      "         startingAirport destinationAirport travelDuration  elapsedDays  \\\n",
      "0                    ATL                BOS        PT5H18M            0   \n",
      "1                    ATL                BOS        PT5H59M            0   \n",
      "2                    ATL                BOS        PT5H39M            0   \n",
      "3                    ATL                BOS        PT4H17M            0   \n",
      "4                    ATL                BOS         PT6H2M            0   \n",
      "...                  ...                ...            ...          ...   \n",
      "16449441             ATL                SFO       PT11H22M            1   \n",
      "16449442             ATL                SFO        PT5H19M            0   \n",
      "16449443             ATL                SFO        PT5H29M            0   \n",
      "16449444             ATL                SFO        PT9H28M            0   \n",
      "16449445             ATL                SFO        PT8H53M            0   \n",
      "\n",
      "          isBasicEconomy  isNonStop  baseFare  totalFare  seatsRemaining  \\\n",
      "0                  False      False    213.02     251.10               3   \n",
      "1                  False      False    213.02     252.60               5   \n",
      "2                  False      False    183.00     290.58               0   \n",
      "3                  False      False    260.47     302.11               1   \n",
      "4                  False      False    260.47     302.11               1   \n",
      "...                  ...        ...       ...        ...             ...   \n",
      "16449441           False      False    215.81     255.60               7   \n",
      "16449442            True       True    282.79     318.60               9   \n",
      "16449443            True       True    282.79     318.60               9   \n",
      "16449444           False      False    435.34     491.59               7   \n",
      "16449445           False      False    459.54     517.61               9   \n",
      "\n",
      "          totalTravelDistance day_of_week  days_between_search_and_flight  \n",
      "0                       956.0      Sunday                               1  \n",
      "1                      1462.0      Sunday                               1  \n",
      "2                         NaN      Sunday                               1  \n",
      "3                       956.0      Sunday                               1  \n",
      "4                       956.0      Sunday                               1  \n",
      "...                       ...         ...                             ...  \n",
      "16449441               3338.0    Saturday                              38  \n",
      "16449442               2135.0    Saturday                              38  \n",
      "16449443               2135.0    Saturday                              38  \n",
      "16449444               2967.0    Saturday                              38  \n",
      "16449445               2282.0    Saturday                              38  \n",
      "\n",
      "[1059988 rows x 15 columns]\n"
     ]
    }
   ],
   "source": [
    "df_filtered = df[df['startingAirport'] == 'ATL']\n",
    "print(df['startingAirport'].unique())\n",
    "print(df['destinationAirport'].unique())\n",
    "print(df['days_between_search_and_flight'].unique())\n",
    "test = df['baseFare'].unique()\n",
    "len(test)\n",
    "for i in range(1, 61):\n",
    "    print(f\"Days between search and flight: {i}, Count: {df_filtered[df_filtered['days_between_search_and_flight'] == i].shape[0]}\")\n",
    "\n",
    "\n",
    "\n",
    "print(len(df_filtered))\n",
    "print(df_filtered)"
   ]
  }
 ],
 "metadata": {
  "kernelspec": {
   "display_name": "venv",
   "language": "python",
   "name": "python3"
  },
  "language_info": {
   "codemirror_mode": {
    "name": "ipython",
    "version": 3
   },
   "file_extension": ".py",
   "mimetype": "text/x-python",
   "name": "python",
   "nbconvert_exporter": "python",
   "pygments_lexer": "ipython3",
   "version": "3.9.19"
  }
 },
 "nbformat": 4,
 "nbformat_minor": 2
}
