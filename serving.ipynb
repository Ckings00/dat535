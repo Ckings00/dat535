{
 "cells": [
  {
   "cell_type": "code",
   "execution_count": 1,
   "metadata": {},
   "outputs": [],
   "source": [
    "import findspark\n",
    "findspark.init()\n",
    "\n",
    "from pyspark.sql import SparkSession \n",
    "import pyspark.sql.functions as F \n",
    "from pyspark.sql.types import *"
   ]
  },
  {
   "cell_type": "code",
   "execution_count": 2,
   "metadata": {},
   "outputs": [],
   "source": [
    "table = StructType([\n",
    "    StructField(\"searchDate\", DateType(), False), \n",
    "    StructField(\"flightDate\", DateType(), False),\n",
    "    StructField(\"startingAirport\", StringType(), False),\n",
    "    StructField(\"destinationAirport\", StringType(), False),\n",
    "    StructField(\"travelDuration\", StringType(), False),\n",
    "    StructField(\"totalFare\", FloatType(), False),\n",
    "    StructField(\"totalTravelDistance\", FloatType(), False),\n",
    "    StructField(\"days_between_search_and_flight\", IntegerType(), False)\n",
    "])"
   ]
  },
  {
   "cell_type": "code",
   "execution_count": 3,
   "metadata": {},
   "outputs": [],
   "source": [
    "spark = (SparkSession.builder.appName(\"Serving\").getOrCreate())\n",
    "\n",
    "df = spark.read.csv(\"hdfs://namenode:9000/project/data_clean\", schema=table)\n"
   ]
  },
  {
   "cell_type": "code",
   "execution_count": 4,
   "metadata": {},
   "outputs": [
    {
     "name": "stdout",
     "output_type": "stream",
     "text": [
      "root\n",
      " |-- searchDate: date (nullable = true)\n",
      " |-- flightDate: date (nullable = true)\n",
      " |-- startingAirport: string (nullable = true)\n",
      " |-- destinationAirport: string (nullable = true)\n",
      " |-- travelDuration: string (nullable = true)\n",
      " |-- totalFare: float (nullable = true)\n",
      " |-- totalTravelDistance: float (nullable = true)\n",
      " |-- days_between_search_and_flight: integer (nullable = true)\n",
      "\n"
     ]
    }
   ],
   "source": [
    "df.printSchema()"
   ]
  },
  {
   "cell_type": "code",
   "execution_count": 5,
   "metadata": {},
   "outputs": [
    {
     "name": "stderr",
     "output_type": "stream",
     "text": [
      "                                                                                \r"
     ]
    },
    {
     "name": "stdout",
     "output_type": "stream",
     "text": [
      "+---------------+------------------+\n",
      "|startingAirport|destinationAirport|\n",
      "+---------------+------------------+\n",
      "|            JFK|               ORD|\n",
      "|            MIA|               DTW|\n",
      "|            BOS|               JFK|\n",
      "|            CLT|               MIA|\n",
      "|            LAX|               DFW|\n",
      "|            DTW|               PHL|\n",
      "|            JFK|               MIA|\n",
      "|            ATL|               LGA|\n",
      "|            BOS|               DEN|\n",
      "|            DEN|               CLT|\n",
      "|            ATL|               ORD|\n",
      "|            PHL|               ATL|\n",
      "|            DFW|               ORD|\n",
      "|            DEN|               SFO|\n",
      "|            IAD|               JFK|\n",
      "|            LAX|               MIA|\n",
      "|            ATL|               CLT|\n",
      "|            DFW|               DEN|\n",
      "|            DFW|               IAD|\n",
      "|            DTW|               DEN|\n",
      "|            CLT|               DTW|\n",
      "|            CLT|               IAD|\n",
      "|            IAD|               LAX|\n",
      "|            JFK|               SFO|\n",
      "|            ORD|               BOS|\n",
      "|            ATL|               DEN|\n",
      "|            MIA|               EWR|\n",
      "|            ORD|               CLT|\n",
      "|            SFO|               ORD|\n",
      "|            IAD|               DTW|\n",
      "|            DTW|               OAK|\n",
      "|            DTW|               MIA|\n",
      "|            SFO|               CLT|\n",
      "|            CLT|               EWR|\n",
      "|            DEN|               DTW|\n",
      "|            LGA|               DFW|\n",
      "|            EWR|               LAX|\n",
      "|            BOS|               ATL|\n",
      "|            DFW|               CLT|\n",
      "|            SFO|               DFW|\n",
      "|            ORD|               DTW|\n",
      "|            EWR|               DEN|\n",
      "|            ATL|               SFO|\n",
      "|            PHL|               LAX|\n",
      "|            EWR|               LGA|\n",
      "|            ORD|               DEN|\n",
      "|            CLT|               DEN|\n",
      "|            DTW|               EWR|\n",
      "|            IAD|               DEN|\n",
      "|            DEN|               LGA|\n",
      "|            EWR|               ORD|\n",
      "|            ORD|               PHL|\n",
      "|            SFO|               MIA|\n",
      "|            ATL|               JFK|\n",
      "|            JFK|               DEN|\n",
      "|            DFW|               MIA|\n",
      "|            MIA|               ORD|\n",
      "|            ORD|               MIA|\n",
      "|            EWR|               DTW|\n",
      "|            SFO|               DEN|\n",
      "|            CLT|               ORD|\n",
      "|            MIA|               ATL|\n",
      "|            PHL|               EWR|\n",
      "|            IAD|               DFW|\n",
      "|            LAX|               JFK|\n",
      "|            ORD|               IAD|\n",
      "|            ATL|               PHL|\n",
      "|            IAD|               EWR|\n",
      "|            CLT|               ATL|\n",
      "|            PHL|               SFO|\n",
      "|            LAX|               OAK|\n",
      "|            ORD|               ATL|\n",
      "|            CLT|               BOS|\n",
      "|            DFW|               JFK|\n",
      "|            DTW|               ORD|\n",
      "|            MIA|               SFO|\n",
      "|            OAK|               DEN|\n",
      "|            EWR|               CLT|\n",
      "|            MIA|               JFK|\n",
      "|            DEN|               JFK|\n",
      "|            DTW|               SFO|\n",
      "|            OAK|               LAX|\n",
      "|            IAD|               ATL|\n",
      "|            JFK|               ATL|\n",
      "|            PHL|               DTW|\n",
      "|            JFK|               DFW|\n",
      "|            PHL|               DEN|\n",
      "|            ATL|               MIA|\n",
      "|            DEN|               LAX|\n",
      "|            EWR|               IAD|\n",
      "|            DTW|               CLT|\n",
      "|            SFO|               ATL|\n",
      "|            BOS|               DTW|\n",
      "|            JFK|               CLT|\n",
      "|            MIA|               BOS|\n",
      "|            MIA|               LAX|\n",
      "|            ORD|               DFW|\n",
      "|            LGA|               DTW|\n",
      "|            DFW|               ATL|\n",
      "|            ORD|               LGA|\n",
      "|            ORD|               JFK|\n",
      "|            DEN|               ORD|\n",
      "|            LAX|               CLT|\n",
      "|            ATL|               DTW|\n",
      "|            BOS|               CLT|\n",
      "|            CLT|               PHL|\n",
      "|            DFW|               EWR|\n",
      "|            LAX|               DEN|\n",
      "|            BOS|               EWR|\n",
      "|            IAD|               BOS|\n",
      "|            LAX|               SFO|\n",
      "|            EWR|               SFO|\n",
      "|            SFO|               BOS|\n",
      "|            BOS|               LGA|\n",
      "|            PHL|               CLT|\n",
      "|            BOS|               DFW|\n",
      "|            PHL|               MIA|\n",
      "|            DEN|               PHL|\n",
      "|            PHL|               ORD|\n",
      "|            BOS|               IAD|\n",
      "|            EWR|               ATL|\n",
      "|            SFO|               IAD|\n",
      "|            IAD|               SFO|\n",
      "|            ATL|               BOS|\n",
      "|            LGA|               CLT|\n",
      "|            MIA|               CLT|\n",
      "|            JFK|               IAD|\n",
      "|            DEN|               ATL|\n",
      "|            DTW|               IAD|\n",
      "|            ORD|               EWR|\n",
      "|            EWR|               BOS|\n",
      "|            DEN|               EWR|\n",
      "|            DTW|               ATL|\n",
      "|            LGA|               MIA|\n",
      "|            PHL|               DFW|\n",
      "|            JFK|               BOS|\n",
      "|            DFW|               LAX|\n",
      "|            IAD|               CLT|\n",
      "|            DEN|               MIA|\n",
      "|            EWR|               DFW|\n",
      "|            IAD|               ORD|\n",
      "|            LAX|               ATL|\n",
      "|            BOS|               ORD|\n",
      "|            MIA|               IAD|\n",
      "|            ATL|               LAX|\n",
      "|            ORD|               SFO|\n",
      "|            DFW|               SFO|\n",
      "|            DTW|               JFK|\n",
      "|            LAX|               IAD|\n",
      "|            DFW|               LGA|\n",
      "|            LGA|               ORD|\n",
      "|            CLT|               JFK|\n",
      "|            DTW|               BOS|\n",
      "|            LAX|               BOS|\n",
      "|            JFK|               LAX|\n",
      "|            SFO|               JFK|\n",
      "|            DEN|               DFW|\n",
      "|            ATL|               EWR|\n",
      "|            DTW|               LAX|\n",
      "|            LAX|               EWR|\n",
      "|            DTW|               DFW|\n",
      "|            PHL|               BOS|\n",
      "|            DEN|               IAD|\n",
      "|            SFO|               DTW|\n",
      "|            SFO|               LAX|\n",
      "|            CLT|               DFW|\n",
      "|            MIA|               DFW|\n",
      "|            EWR|               MIA|\n",
      "|            CLT|               LAX|\n",
      "|            DEN|               BOS|\n",
      "|            JFK|               DTW|\n",
      "|            LAX|               DTW|\n",
      "|            SFO|               PHL|\n",
      "|            LGA|               PHL|\n",
      "|            MIA|               DEN|\n",
      "|            LGA|               DEN|\n",
      "|            SFO|               EWR|\n",
      "|            LAX|               ORD|\n",
      "|            IAD|               LGA|\n",
      "|            LAX|               PHL|\n",
      "|            CLT|               LGA|\n",
      "|            DFW|               BOS|\n",
      "|            BOS|               SFO|\n",
      "|            BOS|               PHL|\n",
      "|            DEN|               OAK|\n",
      "|            DFW|               DTW|\n",
      "|            BOS|               MIA|\n",
      "|            EWR|               PHL|\n",
      "|            MIA|               PHL|\n",
      "|            DFW|               PHL|\n",
      "|            BOS|               LAX|\n",
      "|            ATL|               IAD|\n",
      "|            IAD|               MIA|\n",
      "|            LGA|               ATL|\n",
      "|            CLT|               SFO|\n",
      "|            OAK|               DTW|\n",
      "|            ATL|               DFW|\n",
      "|            MIA|               LGA|\n",
      "|            LGA|               BOS|\n",
      "|            DTW|               LGA|\n",
      "|            ORD|               LAX|\n",
      "|            LGA|               IAD|\n",
      "|            OAK|               DFW|\n",
      "|            OAK|               ATL|\n",
      "|            IAD|               OAK|\n",
      "|            IAD|               PHL|\n",
      "+---------------+------------------+\n",
      "\n"
     ]
    },
    {
     "name": "stderr",
     "output_type": "stream",
     "text": [
      "                                                                                \r"
     ]
    },
    {
     "data": {
      "text/plain": [
       "101881"
      ]
     },
     "execution_count": 5,
     "metadata": {},
     "output_type": "execute_result"
    }
   ],
   "source": [
    "df.select(\"startingAirport\", \"destinationAirport\").distinct().show(1000)\n",
    "cnt_one_flight = (df.select(\"startingAirport\", \"destinationAirport\")\n",
    "        .where((F.col(\"startingAirport\") == \"JFK\") & (F.col(\"destinationAirport\") == \"ORD\"))\n",
    "        .count())\n",
    "cnt_one_flight"
   ]
  },
  {
   "cell_type": "code",
   "execution_count": 6,
   "metadata": {},
   "outputs": [
    {
     "name": "stderr",
     "output_type": "stream",
     "text": [
      "                                                                                \r"
     ]
    },
    {
     "name": "stdout",
     "output_type": "stream",
     "text": [
      "+------------------------------+-------+--------+-------+\n",
      "|days_between_search_and_flight|MinFare|MeanFare|MaxFare|\n",
      "+------------------------------+-------+--------+-------+\n",
      "|                             1|  182.1|   422.8| 2175.1|\n",
      "|                             2|  182.1|  362.84| 2175.1|\n",
      "|                             3|  182.1|  350.49| 2175.1|\n",
      "|                             4|  182.1|  346.25| 2175.1|\n",
      "|                             5|  182.1|  342.08| 1017.1|\n",
      "|                             6|  171.1|  315.83| 1161.1|\n",
      "|                             7|  171.1|  314.27| 1161.1|\n",
      "|                             8|  171.1|  312.56| 1161.1|\n",
      "|                             9|  171.1|  308.87|  677.1|\n",
      "|                            10|  171.1|  309.82| 766.11|\n",
      "|                            11|  171.1|  309.42| 766.11|\n",
      "|                            12|  171.1|  308.98| 766.11|\n",
      "|                            13|  171.1|  310.79| 766.11|\n",
      "|                            14|  110.1|  305.05| 766.11|\n",
      "|                            15|  127.1|   305.3| 1181.1|\n",
      "|                            16|  127.1|  303.83| 766.11|\n",
      "|                            17|  127.1|  305.87| 766.11|\n",
      "|                            18|  109.1|  308.11| 1161.1|\n",
      "|                            19|  109.1|  305.49| 1161.1|\n",
      "|                            20|  109.1|  302.88|  657.1|\n",
      "+------------------------------+-------+--------+-------+\n",
      "only showing top 20 rows\n",
      "\n"
     ]
    },
    {
     "name": "stderr",
     "output_type": "stream",
     "text": [
      "                                                                                \r"
     ]
    },
    {
     "name": "stdout",
     "output_type": "stream",
     "text": [
      "+------------------+-----+\n",
      "|destinationAirport|count|\n",
      "+------------------+-----+\n",
      "|               LAX|24971|\n",
      "|               DEN| 4822|\n",
      "|               DTW|  568|\n",
      "|               DFW|    8|\n",
      "|               ATL|    8|\n",
      "+------------------+-----+\n",
      "\n"
     ]
    },
    {
     "name": "stderr",
     "output_type": "stream",
     "text": [
      "                                                                                \r"
     ]
    },
    {
     "data": {
      "text/plain": [
       "['OAK',\n",
       " 'LGA',\n",
       " 'BOS',\n",
       " 'EWR',\n",
       " 'DEN',\n",
       " 'IAD',\n",
       " 'CLT',\n",
       " 'MIA',\n",
       " 'DFW',\n",
       " 'SFO',\n",
       " 'ATL',\n",
       " 'ORD',\n",
       " 'DTW',\n",
       " 'LAX',\n",
       " 'JFK',\n",
       " 'PHL']"
      ]
     },
     "execution_count": 6,
     "metadata": {},
     "output_type": "execute_result"
    }
   ],
   "source": [
    "## First algorithm \n",
    "# Get specific flight journey (from starting airport to destination airport)\n",
    "def specific_flight(startingAirport, destinationAirport):\n",
    "    cnt_one_flight = (df.select(\"startingAirport\", \"destinationAirport\", \"totalFare\", \"days_between_search_and_flight\")\n",
    "        .where((F.col(\"startingAirport\") == startingAirport) & (F.col(\"destinationAirport\") == destinationAirport)))\n",
    "    return cnt_one_flight\n",
    "\n",
    "# Get statistics for a specific flight journey \n",
    "def get_stats_for_flight(flight):\n",
    "    flight_stats = (flight.groupBy(\"days_between_search_and_flight\")\n",
    "    .agg(F.min(\"totalFare\").alias(\"MinFare\"), F.round(F.mean(\"totalFare\"), 2).alias(\"MeanFare\")\n",
    "        , F.max(\"totalFare\").alias(\"MaxFare\")).sort(F.col(\"days_between_search_and_flight\").asc())    \n",
    "    )\n",
    "    flight_stats.show()\n",
    "\n",
    "flight = specific_flight(\"CLT\", \"MIA\")\n",
    "get_stats_for_flight(flight)\n",
    "\n",
    "\n",
    "## Second algorithm\n",
    "# Get top 5 destinations from a starting location/airport\n",
    "def get_top5_destinations_from(starting_location):\n",
    "    valid_airports = df.select(\"startingAirport\").distinct().rdd.flatMap(lambda x: x).collect()\n",
    "    if starting_location not in valid_airports:\n",
    "        print(f\"{starting_location} is not a valid starting airport code.\")\n",
    "        return\n",
    "    \n",
    "    flights_from = (df.select(\"startingAirport\", \"destinationAirport\").where(F.col(\"startingAirport\") == starting_location))\n",
    "    hot_dest = (flights_from.groupBy(\"destinationAirport\").count().sort(F.col(\"count\").desc()))\n",
    "    hot_dest.show(5)\n",
    "\n",
    "get_top5_destinations_from(\"OAK\")\n",
    "\n",
    "## Third algorithm\n",
    "# Get all airportcodes available in the dataset\n",
    "def get_airports():\n",
    "    airports = (df.select(\"startingAirport\").union(df.select(\"destinationAirport\"))\n",
    "                .distinct().rdd.flatMap(lambda x: x).collect())\n",
    "    return airports\n",
    "\n",
    "get_airports() "
   ]
  },
  {
   "cell_type": "code",
   "execution_count": 7,
   "metadata": {},
   "outputs": [
    {
     "name": "stderr",
     "output_type": "stream",
     "text": [
      "                                                                                \r"
     ]
    },
    {
     "name": "stdout",
     "output_type": "stream",
     "text": [
      "Number of distinct flights: 206\n"
     ]
    },
    {
     "name": "stderr",
     "output_type": "stream",
     "text": [
      "                                                                                \r"
     ]
    },
    {
     "name": "stdout",
     "output_type": "stream",
     "text": [
      "+---------------+------------------+\n",
      "|startingAirport|destinationAirport|\n",
      "+---------------+------------------+\n",
      "|            JFK|               ORD|\n",
      "|            MIA|               DTW|\n",
      "|            BOS|               JFK|\n",
      "|            CLT|               MIA|\n",
      "|            LAX|               DFW|\n",
      "|            DTW|               PHL|\n",
      "|            JFK|               MIA|\n",
      "|            ATL|               LGA|\n",
      "|            BOS|               DEN|\n",
      "|            DEN|               CLT|\n",
      "|            ATL|               ORD|\n",
      "|            PHL|               ATL|\n",
      "|            DFW|               ORD|\n",
      "|            DEN|               SFO|\n",
      "|            IAD|               JFK|\n",
      "|            LAX|               MIA|\n",
      "|            ATL|               CLT|\n",
      "|            DFW|               DEN|\n",
      "|            DFW|               IAD|\n",
      "|            DTW|               DEN|\n",
      "|            CLT|               DTW|\n",
      "|            IAD|               LAX|\n",
      "|            CLT|               IAD|\n",
      "|            JFK|               SFO|\n",
      "|            ORD|               BOS|\n",
      "|            MIA|               EWR|\n",
      "|            ORD|               CLT|\n",
      "|            SFO|               ORD|\n",
      "|            ATL|               DEN|\n",
      "|            IAD|               DTW|\n",
      "|            DTW|               OAK|\n",
      "|            DTW|               MIA|\n",
      "|            SFO|               CLT|\n",
      "|            DEN|               DTW|\n",
      "|            LGA|               DFW|\n",
      "|            CLT|               EWR|\n",
      "|            EWR|               LAX|\n",
      "|            DFW|               CLT|\n",
      "|            SFO|               DFW|\n",
      "|            BOS|               ATL|\n",
      "|            ORD|               DTW|\n",
      "|            EWR|               DEN|\n",
      "|            PHL|               LAX|\n",
      "|            ATL|               SFO|\n",
      "|            EWR|               LGA|\n",
      "|            ORD|               DEN|\n",
      "|            DTW|               EWR|\n",
      "|            CLT|               DEN|\n",
      "|            IAD|               DEN|\n",
      "|            DEN|               LGA|\n",
      "|            EWR|               ORD|\n",
      "|            ORD|               PHL|\n",
      "|            SFO|               MIA|\n",
      "|            ATL|               JFK|\n",
      "|            JFK|               DEN|\n",
      "|            DFW|               MIA|\n",
      "|            MIA|               ORD|\n",
      "|            ORD|               MIA|\n",
      "|            EWR|               DTW|\n",
      "|            SFO|               DEN|\n",
      "|            CLT|               ORD|\n",
      "|            MIA|               ATL|\n",
      "|            PHL|               EWR|\n",
      "|            IAD|               DFW|\n",
      "|            LAX|               JFK|\n",
      "|            ORD|               IAD|\n",
      "|            IAD|               EWR|\n",
      "|            ATL|               PHL|\n",
      "|            PHL|               SFO|\n",
      "|            CLT|               ATL|\n",
      "|            LAX|               OAK|\n",
      "|            ORD|               ATL|\n",
      "|            CLT|               BOS|\n",
      "|            DFW|               JFK|\n",
      "|            DTW|               ORD|\n",
      "|            MIA|               SFO|\n",
      "|            OAK|               DEN|\n",
      "|            EWR|               CLT|\n",
      "|            MIA|               JFK|\n",
      "|            DEN|               JFK|\n",
      "|            DTW|               SFO|\n",
      "|            OAK|               LAX|\n",
      "|            IAD|               ATL|\n",
      "|            JFK|               ATL|\n",
      "|            PHL|               DTW|\n",
      "|            JFK|               DFW|\n",
      "|            PHL|               DEN|\n",
      "|            DEN|               LAX|\n",
      "|            EWR|               IAD|\n",
      "|            ATL|               MIA|\n",
      "|            DTW|               CLT|\n",
      "|            SFO|               ATL|\n",
      "|            JFK|               CLT|\n",
      "|            MIA|               BOS|\n",
      "|            MIA|               LAX|\n",
      "|            BOS|               DTW|\n",
      "|            ORD|               DFW|\n",
      "|            LGA|               DTW|\n",
      "|            DFW|               ATL|\n",
      "|            ORD|               LGA|\n",
      "|            ORD|               JFK|\n",
      "|            DEN|               ORD|\n",
      "|            LAX|               CLT|\n",
      "|            CLT|               PHL|\n",
      "|            DFW|               EWR|\n",
      "|            LAX|               DEN|\n",
      "|            ATL|               DTW|\n",
      "|            BOS|               CLT|\n",
      "|            IAD|               BOS|\n",
      "|            LAX|               SFO|\n",
      "|            BOS|               EWR|\n",
      "|            EWR|               SFO|\n",
      "|            SFO|               BOS|\n",
      "|            PHL|               CLT|\n",
      "|            BOS|               LGA|\n",
      "|            PHL|               MIA|\n",
      "|            BOS|               DFW|\n",
      "|            DEN|               PHL|\n",
      "|            PHL|               ORD|\n",
      "|            EWR|               ATL|\n",
      "|            SFO|               IAD|\n",
      "|            BOS|               IAD|\n",
      "|            IAD|               SFO|\n",
      "|            LGA|               CLT|\n",
      "|            ATL|               BOS|\n",
      "|            MIA|               CLT|\n",
      "|            JFK|               IAD|\n",
      "|            DEN|               ATL|\n",
      "|            DTW|               IAD|\n",
      "|            ORD|               EWR|\n",
      "|            EWR|               BOS|\n",
      "|            DEN|               EWR|\n",
      "|            DTW|               ATL|\n",
      "|            LGA|               MIA|\n",
      "|            PHL|               DFW|\n",
      "|            JFK|               BOS|\n",
      "|            DFW|               LAX|\n",
      "|            IAD|               CLT|\n",
      "|            DEN|               MIA|\n",
      "|            EWR|               DFW|\n",
      "|            IAD|               ORD|\n",
      "|            LAX|               ATL|\n",
      "|            BOS|               ORD|\n",
      "|            MIA|               IAD|\n",
      "|            ATL|               LAX|\n",
      "|            ORD|               SFO|\n",
      "|            DFW|               SFO|\n",
      "|            DTW|               JFK|\n",
      "|            LAX|               IAD|\n",
      "|            DFW|               LGA|\n",
      "|            LGA|               ORD|\n",
      "|            CLT|               JFK|\n",
      "|            DTW|               BOS|\n",
      "|            LAX|               BOS|\n",
      "|            JFK|               LAX|\n",
      "|            SFO|               JFK|\n",
      "|            DEN|               DFW|\n",
      "|            ATL|               EWR|\n",
      "|            DTW|               LAX|\n",
      "|            LAX|               EWR|\n",
      "|            DTW|               DFW|\n",
      "|            PHL|               BOS|\n",
      "|            DEN|               IAD|\n",
      "|            SFO|               DTW|\n",
      "|            SFO|               LAX|\n",
      "|            MIA|               DFW|\n",
      "|            CLT|               DFW|\n",
      "|            EWR|               MIA|\n",
      "|            CLT|               LAX|\n",
      "|            DEN|               BOS|\n",
      "|            JFK|               DTW|\n",
      "|            LAX|               DTW|\n",
      "|            SFO|               PHL|\n",
      "|            MIA|               DEN|\n",
      "|            LGA|               DEN|\n",
      "|            SFO|               EWR|\n",
      "|            LAX|               ORD|\n",
      "|            IAD|               LGA|\n",
      "|            LAX|               PHL|\n",
      "|            CLT|               LGA|\n",
      "|            DFW|               BOS|\n",
      "|            BOS|               SFO|\n",
      "|            DFW|               DTW|\n",
      "|            BOS|               PHL|\n",
      "|            DEN|               OAK|\n",
      "|            BOS|               MIA|\n",
      "|            EWR|               PHL|\n",
      "|            MIA|               PHL|\n",
      "|            DFW|               PHL|\n",
      "|            BOS|               LAX|\n",
      "|            ATL|               IAD|\n",
      "|            IAD|               MIA|\n",
      "|            LGA|               ATL|\n",
      "|            CLT|               SFO|\n",
      "|            OAK|               DTW|\n",
      "|            MIA|               LGA|\n",
      "|            ATL|               DFW|\n",
      "|            LGA|               BOS|\n",
      "|            DTW|               LGA|\n",
      "|            ORD|               LAX|\n",
      "|            LGA|               IAD|\n",
      "|            LGA|               PHL|\n",
      "|            OAK|               DFW|\n",
      "|            OAK|               ATL|\n",
      "|            IAD|               OAK|\n",
      "|            IAD|               PHL|\n",
      "+---------------+------------------+\n",
      "\n"
     ]
    }
   ],
   "source": [
    "# Showing all combinations of starting and destination airports\n",
    "num_flight = df.select(\"startingAirport\", \"destinationAirport\").distinct()\n",
    "num_flight_opt = num_flight.count()\n",
    "print(f\"Number of distinct flights: {num_flight_opt}\")\n",
    "num_flight.show(num_flight_opt)\n"
   ]
  },
  {
   "cell_type": "code",
   "execution_count": null,
   "metadata": {},
   "outputs": [
    {
     "name": "stderr",
     "output_type": "stream",
     "text": [
      "                                                                                \r"
     ]
    },
    {
     "name": "stdout",
     "output_type": "stream",
     "text": [
      "+------------------------------+-------+--------+-------+\n",
      "|days_between_search_and_flight|MinFare|MeanFare|MaxFare|\n",
      "+------------------------------+-------+--------+-------+\n",
      "|                             1|  108.6|  255.77| 1686.6|\n",
      "|                             2|   93.6|  232.71| 1686.6|\n",
      "|                             3|   85.6|  231.73|  804.6|\n",
      "|                             4|   78.6|  227.46| 1686.6|\n",
      "|                             5|   78.6|  227.34| 764.61|\n",
      "|                             6|   78.6|  218.41|  804.6|\n",
      "|                             7|   78.6|  218.67|  804.6|\n",
      "|                             8|   78.6|  216.39|  804.6|\n",
      "|                             9|   78.6|  214.24|  734.6|\n",
      "|                            10|   78.6|  212.03| 724.61|\n",
      "|                            11|   78.6|  211.72| 724.61|\n",
      "|                            12|   78.6|  211.78|  718.6|\n",
      "|                            13|   78.6|  211.51| 678.61|\n",
      "|                            14|   78.6|  207.25| 678.61|\n",
      "|                            15|   78.6|  205.26|  648.6|\n",
      "|                            16|   78.6|  204.97| 678.61|\n",
      "|                            17|   78.6|   201.9|  668.6|\n",
      "|                            18|   78.6|  204.02|  718.6|\n",
      "|                            19|   78.6|  203.15|  718.6|\n",
      "|                            20|   78.6|  203.45|  648.6|\n",
      "+------------------------------+-------+--------+-------+\n",
      "only showing top 20 rows\n",
      "\n"
     ]
    },
    {
     "name": "stderr",
     "output_type": "stream",
     "text": [
      "                                                                                \r"
     ]
    },
    {
     "name": "stdout",
     "output_type": "stream",
     "text": [
      "+------------------------------+-------+--------+-------+\n",
      "|days_between_search_and_flight|MinFare|MeanFare|MaxFare|\n",
      "+------------------------------+-------+--------+-------+\n",
      "|                             1| 296.61|  378.99| 1684.6|\n",
      "|                             2| 296.61|  358.13| 1684.6|\n",
      "|                             3| 296.61|  353.63| 1098.6|\n",
      "|                             4| 296.61|  350.23| 1318.6|\n",
      "|                             5| 296.61|  349.49| 1318.6|\n",
      "|                             6|  138.6|  277.84| 1098.6|\n",
      "|                             7|  128.6|  276.33| 1098.6|\n",
      "|                             8|  128.6|  280.63| 1364.6|\n",
      "|                             9|  128.6|  277.21| 1684.6|\n",
      "|                            10|  128.6|  276.59| 1684.6|\n",
      "|                            11|  128.6|   274.9| 1318.6|\n",
      "|                            12|  128.6|  274.61| 1318.6|\n",
      "|                            13|  128.6|  275.24| 1318.6|\n",
      "|                            14|  108.6|  244.71| 1318.6|\n",
      "|                            15|  108.6|  244.59| 1318.6|\n",
      "|                            16|  108.6|  244.26| 1318.6|\n",
      "|                            17|  108.6|  246.89| 1318.6|\n",
      "|                            18|  108.6|  244.17| 1318.6|\n",
      "|                            19|  108.6|  243.61| 1098.6|\n",
      "|                            20|  108.6|  251.34|  678.6|\n",
      "+------------------------------+-------+--------+-------+\n",
      "only showing top 20 rows\n",
      "\n"
     ]
    },
    {
     "name": "stderr",
     "output_type": "stream",
     "text": [
      "                                                                                \r"
     ]
    },
    {
     "name": "stdout",
     "output_type": "stream",
     "text": [
      "+------------------------------+-------+--------+-------+\n",
      "|days_between_search_and_flight|MinFare|MeanFare|MaxFare|\n",
      "+------------------------------+-------+--------+-------+\n",
      "|                             1|   93.6|  207.89| 1535.6|\n",
      "|                             2|   54.6|  178.12| 1535.6|\n",
      "|                             3|   54.6|  181.09| 1535.6|\n",
      "|                             4|   48.6|  177.94| 1535.6|\n",
      "|                             5|   48.6|  176.86| 1535.6|\n",
      "|                             6|   48.6|  168.44| 1535.6|\n",
      "|                             7|   48.6|  170.05| 1535.6|\n",
      "|                             8|   48.6|  168.71| 1535.6|\n",
      "|                             9|   48.6|  168.09| 1535.6|\n",
      "|                            10|   48.6|  168.33| 1535.6|\n",
      "|                            11|   48.6|  167.06| 1535.6|\n",
      "|                            12|   48.6|  167.09| 1535.6|\n",
      "|                            13|   48.6|  165.19| 1535.6|\n",
      "|                            14|   48.6|   155.7| 1535.6|\n",
      "|                            15|   48.6|  156.55| 1535.6|\n",
      "|                            16|   48.6|  155.81| 1535.6|\n",
      "|                            17|   48.6|  155.66| 1535.6|\n",
      "|                            18|   48.6|  155.42| 1244.6|\n",
      "|                            19|   48.6|  153.46| 1244.6|\n",
      "|                            20|   48.6|   152.4| 1535.6|\n",
      "+------------------------------+-------+--------+-------+\n",
      "only showing top 20 rows\n",
      "\n"
     ]
    },
    {
     "name": "stderr",
     "output_type": "stream",
     "text": [
      "                                                                                \r"
     ]
    },
    {
     "name": "stdout",
     "output_type": "stream",
     "text": [
      "+------------------------------+-------+--------+-------+\n",
      "|days_between_search_and_flight|MinFare|MeanFare|MaxFare|\n",
      "+------------------------------+-------+--------+-------+\n",
      "|                             1|  182.1|   422.8| 2175.1|\n",
      "|                             2|  182.1|  362.84| 2175.1|\n",
      "|                             3|  182.1|  350.49| 2175.1|\n",
      "|                             4|  182.1|  346.25| 2175.1|\n",
      "|                             5|  182.1|  342.08| 1017.1|\n",
      "|                             6|  171.1|  315.83| 1161.1|\n",
      "|                             7|  171.1|  314.27| 1161.1|\n",
      "|                             8|  171.1|  312.56| 1161.1|\n",
      "|                             9|  171.1|  308.87|  677.1|\n",
      "|                            10|  171.1|  309.82| 766.11|\n",
      "|                            11|  171.1|  309.42| 766.11|\n",
      "|                            12|  171.1|  308.98| 766.11|\n",
      "|                            13|  171.1|  310.79| 766.11|\n",
      "|                            14|  110.1|  305.05| 766.11|\n",
      "|                            15|  127.1|   305.3| 1181.1|\n",
      "|                            16|  127.1|  303.83| 766.11|\n",
      "|                            17|  127.1|  305.87| 766.11|\n",
      "|                            18|  109.1|  308.11| 1161.1|\n",
      "|                            19|  109.1|  305.49| 1161.1|\n",
      "|                            20|  109.1|  302.88|  657.1|\n",
      "+------------------------------+-------+--------+-------+\n",
      "only showing top 20 rows\n",
      "\n"
     ]
    },
    {
     "name": "stderr",
     "output_type": "stream",
     "text": [
      "                                                                                \r"
     ]
    },
    {
     "name": "stdout",
     "output_type": "stream",
     "text": [
      "+------------------------------+-------+--------+-------+\n",
      "|days_between_search_and_flight|MinFare|MeanFare|MaxFare|\n",
      "+------------------------------+-------+--------+-------+\n",
      "|                             1| 118.98|   360.4| 2499.6|\n",
      "|                             2|  73.98|  333.98| 2499.6|\n",
      "|                             3|  73.98|  332.26| 2499.6|\n",
      "|                             4|  73.98|  325.69| 2499.6|\n",
      "|                             5|  45.98|  320.25| 1098.6|\n",
      "|                             6|  45.98|  311.79| 1368.6|\n",
      "|                             7|  45.98|   311.2| 1368.6|\n",
      "|                             8|  45.98|  312.55| 1368.6|\n",
      "|                             9|  45.98|  306.32| 1368.6|\n",
      "|                            10|  45.98|  303.84| 1368.6|\n",
      "|                            11|  45.98|  302.57| 1368.6|\n",
      "|                            12|  45.98|  301.85|  943.6|\n",
      "|                            13|  45.98|  302.84|  943.6|\n",
      "|                            14|  45.98|  267.78|  943.6|\n",
      "|                            15|  45.98|  266.44|  973.6|\n",
      "|                            16|  45.98|  265.87|  901.6|\n",
      "|                            17|  45.98|  265.07| 1368.6|\n",
      "|                            18|  45.98|  268.97| 1368.6|\n",
      "|                            19|  45.98|  267.74| 1368.6|\n",
      "|                            20|  45.98|  267.92| 1368.6|\n",
      "+------------------------------+-------+--------+-------+\n",
      "only showing top 20 rows\n",
      "\n"
     ]
    },
    {
     "name": "stderr",
     "output_type": "stream",
     "text": [
      "                                                                                \r"
     ]
    },
    {
     "name": "stdout",
     "output_type": "stream",
     "text": [
      "+------------------------------+-------+--------+-------+\n",
      "|days_between_search_and_flight|MinFare|MeanFare|MaxFare|\n",
      "+------------------------------+-------+--------+-------+\n",
      "|                             1|  159.6|  504.68|1627.61|\n",
      "|                             2|  159.6|  501.87|1627.61|\n",
      "|                             3|  159.6|  500.68|1627.61|\n",
      "|                             4|  159.6|  496.99|1627.61|\n",
      "|                             5|  159.6|  503.19|1627.61|\n",
      "|                             6|  151.6|  389.99|1627.61|\n",
      "|                             7|  151.6|  385.63|1627.61|\n",
      "|                             8|  151.6|  377.89|1627.61|\n",
      "|                             9|  151.6|   375.2| 899.61|\n",
      "|                            10|  151.6|  371.63| 899.61|\n",
      "|                            11|  151.6|  373.29|1627.61|\n",
      "|                            12|  119.6|  372.44| 899.61|\n",
      "|                            13|  119.6|  374.32|1627.61|\n",
      "|                            14|   98.6|  280.65|1627.61|\n",
      "|                            15|   98.6|  278.89|1627.61|\n",
      "|                            16|   98.6|  276.26|1627.61|\n",
      "|                            17|   98.6|  276.93|1627.61|\n",
      "|                            18|   98.6|   275.5| 899.61|\n",
      "|                            19|   98.6|  276.17| 1353.6|\n",
      "|                            20|   94.6|  273.52| 1353.6|\n",
      "+------------------------------+-------+--------+-------+\n",
      "only showing top 20 rows\n",
      "\n"
     ]
    },
    {
     "name": "stderr",
     "output_type": "stream",
     "text": [
      "                                                                                \r"
     ]
    },
    {
     "name": "stdout",
     "output_type": "stream",
     "text": [
      "+------------------------------+-------+--------+-------+\n",
      "|days_between_search_and_flight|MinFare|MeanFare|MaxFare|\n",
      "+------------------------------+-------+--------+-------+\n",
      "|                             1|  132.6|  274.23| 2412.6|\n",
      "|                             2|   93.6|  221.68| 2412.6|\n",
      "|                             3|   93.6|  196.85| 2412.6|\n",
      "|                             4|   58.6|  189.99| 2412.6|\n",
      "|                             5|   58.6|  186.73| 548.11|\n",
      "|                             6|   58.6|  168.13|  604.6|\n",
      "|                             7|   58.6|  160.68|  648.6|\n",
      "|                             8|   58.6|  159.89|  648.6|\n",
      "|                             9|   58.6|  157.57|  841.6|\n",
      "|                            10|   58.6|   155.2|  658.6|\n",
      "|                            11|   58.6|  155.52|  648.6|\n",
      "|                            12|   58.6|  153.96|  648.6|\n",
      "|                            13|   58.6|  155.92|  648.6|\n",
      "|                            14|   48.6|  155.45|  648.6|\n",
      "|                            15|   48.6|  154.03|  408.6|\n",
      "|                            16|   48.6|  153.23|  418.6|\n",
      "|                            17|   48.6|  154.32|  728.6|\n",
      "|                            18|   48.6|  155.85|  518.6|\n",
      "|                            19|   48.6|  155.48|  488.6|\n",
      "|                            20|   48.6|  155.43|  488.6|\n",
      "+------------------------------+-------+--------+-------+\n",
      "only showing top 20 rows\n",
      "\n"
     ]
    },
    {
     "name": "stderr",
     "output_type": "stream",
     "text": [
      "                                                                                \r"
     ]
    },
    {
     "name": "stdout",
     "output_type": "stream",
     "text": [
      "+------------------------------+-------+--------+-------+\n",
      "|days_between_search_and_flight|MinFare|MeanFare|MaxFare|\n",
      "+------------------------------+-------+--------+-------+\n",
      "|                             1|  93.99|  305.63|2057.61|\n",
      "|                             2|  81.98|  251.77|2057.61|\n",
      "|                             3|  53.99|  252.91|2057.61|\n",
      "|                             4|  53.99|  253.17|2057.61|\n",
      "|                             5|  50.99|  255.43|2057.61|\n",
      "|                             6|  46.98|  232.94|2057.61|\n",
      "|                             7|  46.98|  228.02|2057.61|\n",
      "|                             8|  42.98|  224.18|2057.61|\n",
      "|                             9|  43.98|  217.41|2057.61|\n",
      "|                            10|  43.98|  213.41|2057.61|\n",
      "|                            11|  43.98|  212.55|2057.61|\n",
      "|                            12|  46.98|  210.13|2057.61|\n",
      "|                            13|  42.98|  210.36|2057.61|\n",
      "|                            14|  42.98|  193.76|2057.61|\n",
      "|                            15|  42.98|  192.02|2057.61|\n",
      "|                            16|  43.98|  189.92|2057.61|\n",
      "|                            17|  42.98|  192.21|2057.61|\n",
      "|                            18|  43.98|  192.04|2057.61|\n",
      "|                            19|  42.98|  190.44|2057.61|\n",
      "|                            20|  42.98|  188.99| 983.61|\n",
      "+------------------------------+-------+--------+-------+\n",
      "only showing top 20 rows\n",
      "\n"
     ]
    },
    {
     "name": "stderr",
     "output_type": "stream",
     "text": [
      "                                                                                \r"
     ]
    },
    {
     "name": "stdout",
     "output_type": "stream",
     "text": [
      "+------------------------------+-------+--------+-------+\n",
      "|days_between_search_and_flight|MinFare|MeanFare|MaxFare|\n",
      "+------------------------------+-------+--------+-------+\n",
      "|                             1|  228.6|  337.39| 2149.6|\n",
      "|                             2|  198.6|  308.26| 1897.6|\n",
      "|                             3|  198.6|  313.53|1584.61|\n",
      "|                             4|  198.6|  315.28|  798.6|\n",
      "|                             5|  198.6|  319.96|  788.6|\n",
      "|                             6|  115.6|  312.83| 2271.6|\n",
      "|                             7|  115.6|  313.49| 1897.6|\n",
      "|                             8|  118.6|  315.14| 1048.6|\n",
      "|                             9|  118.6|  319.05| 1048.6|\n",
      "|                            10|  118.6|  320.84|  808.6|\n",
      "|                            11|  118.6|  326.12| 1128.6|\n",
      "|                            12|  118.6|   328.1|  808.6|\n",
      "|                            13|  118.6|   331.3| 1128.6|\n",
      "|                            14|  118.6|  326.08| 1128.6|\n",
      "|                            15|  118.6|  328.93| 1128.6|\n",
      "|                            16|  118.6|  330.34|  788.6|\n",
      "|                            17|  118.6|  333.34| 1128.6|\n",
      "|                            18|  118.6|  339.37| 1128.6|\n",
      "|                            19|  118.6|  338.36|  848.6|\n",
      "|                            20|  118.6|  339.78|  848.6|\n",
      "+------------------------------+-------+--------+-------+\n",
      "only showing top 20 rows\n",
      "\n"
     ]
    },
    {
     "name": "stderr",
     "output_type": "stream",
     "text": [
      "                                                                                \r"
     ]
    },
    {
     "name": "stdout",
     "output_type": "stream",
     "text": [
      "+------------------------------+-------+--------+-------+\n",
      "|days_between_search_and_flight|MinFare|MeanFare|MaxFare|\n",
      "+------------------------------+-------+--------+-------+\n",
      "|                             1| 113.98|  424.98| 2149.6|\n",
      "|                             2| 133.98|  404.39| 1951.6|\n",
      "|                             3| 113.98|  396.29| 1951.6|\n",
      "|                             4|  83.98|  402.01| 1951.6|\n",
      "|                             5|  84.98|  402.16| 1951.6|\n",
      "|                             6|  81.98|  381.26| 1747.6|\n",
      "|                             7|  83.98|  370.12| 1747.6|\n",
      "|                             8|  84.98|  375.25| 1747.6|\n",
      "|                             9|  78.98|  373.66| 1827.6|\n",
      "|                            10|  84.98|  374.27| 1951.6|\n",
      "|                            11|  84.98|  370.69| 1332.6|\n",
      "|                            12|  88.98|  378.92| 1951.6|\n",
      "|                            13|  81.98|  375.05| 1332.6|\n",
      "|                            14|  83.98|  370.52| 1332.6|\n",
      "|                            15|  93.99|  374.82| 1951.6|\n",
      "|                            16|  84.98|  375.64| 1951.6|\n",
      "|                            17|  84.98|  366.73| 1951.6|\n",
      "|                            18|  78.98|  366.36| 1951.6|\n",
      "|                            19|  78.98|   366.3| 1951.6|\n",
      "|                            20|  78.98|  367.47| 1951.6|\n",
      "+------------------------------+-------+--------+-------+\n",
      "only showing top 20 rows\n",
      "\n"
     ]
    },
    {
     "name": "stderr",
     "output_type": "stream",
     "text": [
      "                                                                                \r"
     ]
    },
    {
     "name": "stdout",
     "output_type": "stream",
     "text": [
      "+------------------------------+-------+--------+-------+\n",
      "|days_between_search_and_flight|MinFare|MeanFare|MaxFare|\n",
      "+------------------------------+-------+--------+-------+\n",
      "|                             1|  140.6|  295.51| 1718.6|\n",
      "|                             2|  140.6|  285.34| 1718.6|\n",
      "|                             3|  140.6|  290.57| 1718.6|\n",
      "|                             4|  140.6|   285.2| 1718.6|\n",
      "|                             5|  140.6|  287.41| 1718.6|\n",
      "|                             6|   68.6|  273.28| 1718.6|\n",
      "|                             7|   68.6|  267.73| 1718.6|\n",
      "|                             8|   68.6|  263.26| 1718.6|\n",
      "|                             9|   68.6|  258.16| 1718.6|\n",
      "|                            10|   68.6|  254.49| 1298.6|\n",
      "|                            11|   68.6|  255.31| 1718.6|\n",
      "|                            12|   68.6|  254.53|  848.6|\n",
      "|                            13|   68.6|  252.92|  848.6|\n",
      "|                            14|   68.6|  241.34|  848.6|\n",
      "|                            15|   68.6|  240.23|  698.6|\n",
      "|                            16|   68.6|  237.91| 898.59|\n",
      "|                            17|   68.6|  238.22|  698.6|\n",
      "|                            18|   68.6|  240.63|  698.6|\n",
      "|                            19|   68.6|  241.16|  698.6|\n",
      "|                            20|   68.6|  237.41|  738.6|\n",
      "+------------------------------+-------+--------+-------+\n",
      "only showing top 20 rows\n",
      "\n"
     ]
    },
    {
     "name": "stderr",
     "output_type": "stream",
     "text": [
      "                                                                                \r"
     ]
    },
    {
     "name": "stdout",
     "output_type": "stream",
     "text": [
      "+------------------------------+-------+--------+-------+\n",
      "|days_between_search_and_flight|MinFare|MeanFare|MaxFare|\n",
      "+------------------------------+-------+--------+-------+\n",
      "|                             1|  47.98|  278.75|1627.61|\n",
      "|                             2|  42.98|  259.43|1627.61|\n",
      "|                             3|  42.98|  254.67|1627.61|\n",
      "|                             4|  42.98|  255.37|1627.61|\n",
      "|                             5|  40.98|  253.54|1627.61|\n",
      "|                             6|  23.97|  235.43|1627.61|\n",
      "|                             7|  23.97|  235.21|1627.61|\n",
      "|                             8|  23.97|  234.54|1627.61|\n",
      "|                             9|  23.97|  232.92|1627.61|\n",
      "|                            10|  23.97|  232.07|1627.61|\n",
      "|                            11|  23.97|  233.52|  848.6|\n",
      "|                            12|  23.97|  234.07|1627.61|\n",
      "|                            13|  23.97|  232.73|1627.61|\n",
      "|                            14|  23.97|  216.91|1627.61|\n",
      "|                            15|  23.97|  216.44|1627.61|\n",
      "|                            16|  23.97|  216.77|  878.6|\n",
      "|                            17|  23.97|  216.81|  878.6|\n",
      "|                            18|  23.97|  217.85|  833.6|\n",
      "|                            19|  23.97|  216.64|1627.61|\n",
      "|                            20|  23.97|  214.94|1627.61|\n",
      "+------------------------------+-------+--------+-------+\n",
      "only showing top 20 rows\n",
      "\n"
     ]
    },
    {
     "name": "stderr",
     "output_type": "stream",
     "text": [
      "                                                                                \r"
     ]
    },
    {
     "name": "stdout",
     "output_type": "stream",
     "text": [
      "+------------------------------+-------+--------+-------+\n",
      "|days_between_search_and_flight|MinFare|MeanFare|MaxFare|\n",
      "+------------------------------+-------+--------+-------+\n",
      "|                             1|  186.6|  362.44| 2249.6|\n",
      "|                             2|  186.6|   320.5| 2249.6|\n",
      "|                             3|  186.6|  311.59| 2249.6|\n",
      "|                             4|  186.6|  309.59| 2249.6|\n",
      "|                             5|  215.6|  307.03| 2249.6|\n",
      "|                             6|  82.61|  298.17| 1547.6|\n",
      "|                             7|  82.61|  293.98| 1607.6|\n",
      "|                             8|  82.61|  287.44| 1849.6|\n",
      "|                             9|  82.61|  274.11| 1398.6|\n",
      "|                            10|  82.61|  269.03| 1849.6|\n",
      "|                            11|  82.61|  269.13|  848.6|\n",
      "|                            12|  82.61|  268.51|  757.6|\n",
      "|                            13|  82.61|   267.9|  991.6|\n",
      "|                            14|   68.6|  251.78|  617.6|\n",
      "|                            15|   68.6|  250.01|  608.6|\n",
      "|                            16|   68.6|  246.88|  617.6|\n",
      "|                            17|   68.6|  246.44|  798.6|\n",
      "|                            18|   68.6|  250.77|  798.6|\n",
      "|                            19|   68.6|   250.0|  617.6|\n",
      "|                            20|   68.6|  250.54|  627.6|\n",
      "+------------------------------+-------+--------+-------+\n",
      "only showing top 20 rows\n",
      "\n"
     ]
    },
    {
     "name": "stderr",
     "output_type": "stream",
     "text": [
      "                                                                                \r"
     ]
    },
    {
     "name": "stdout",
     "output_type": "stream",
     "text": [
      "+------------------------------+-------+--------+-------+\n",
      "|days_between_search_and_flight|MinFare|MeanFare|MaxFare|\n",
      "+------------------------------+-------+--------+-------+\n",
      "|                             1|  75.98|  288.23| 1890.6|\n",
      "|                             2|  75.98|  276.19| 1890.6|\n",
      "|                             3|  73.98|  276.36| 1810.6|\n",
      "|                             4|  73.98|  279.45| 1810.6|\n",
      "|                             5|  73.98|   279.2| 1912.6|\n",
      "|                             6|  66.99|  245.37| 1912.6|\n",
      "|                             7|  66.99|  239.63| 1597.6|\n",
      "|                             8|  66.99|   236.4| 1810.6|\n",
      "|                             9|  66.99|  235.52| 1810.6|\n",
      "|                            10|  66.99|  229.53| 1810.6|\n",
      "|                            11|  73.98|  229.29| 1810.6|\n",
      "|                            12|  66.99|  227.19|  848.6|\n",
      "|                            13|  57.99|  223.98|  928.6|\n",
      "|                            14|   52.6|  211.11|  998.6|\n",
      "|                            15|   52.6|  211.15|  998.6|\n",
      "|                            16|   52.6|  208.95| 1447.6|\n",
      "|                            17|   52.6|  209.66|  998.6|\n",
      "|                            18|   52.6|  209.76| 678.61|\n",
      "|                            19|   52.6|  204.41| 678.61|\n",
      "|                            20|   52.6|  201.02|  848.6|\n",
      "+------------------------------+-------+--------+-------+\n",
      "only showing top 20 rows\n",
      "\n"
     ]
    },
    {
     "name": "stderr",
     "output_type": "stream",
     "text": [
      "                                                                                \r"
     ]
    },
    {
     "name": "stdout",
     "output_type": "stream",
     "text": [
      "+------------------------------+-------+--------+-------+\n",
      "|days_between_search_and_flight|MinFare|MeanFare|MaxFare|\n",
      "+------------------------------+-------+--------+-------+\n",
      "|                             1|  278.6|  336.02|  613.6|\n",
      "|                             2|  278.6|  332.66|  617.6|\n",
      "|                             3|  278.6|  333.13|  617.6|\n",
      "|                             4|  278.6|  331.85|  617.6|\n",
      "|                             5|  278.6|  333.71| 683.61|\n",
      "|                             6|  108.6|  288.87| 683.61|\n",
      "|                             7|  108.6|  282.12|  547.6|\n",
      "|                             8|  108.6|  282.77|  617.6|\n",
      "|                             9|  116.6|  283.43|  617.6|\n",
      "|                            10|  116.6|  284.02|  617.6|\n",
      "|                            11|  116.6|  285.51|  557.6|\n",
      "|                            12|  128.6|  286.63|  557.6|\n",
      "|                            13|  128.6|  287.79|  557.6|\n",
      "|                            14|   90.6|  195.03|  518.6|\n",
      "|                            15|   90.6|   196.5|  557.6|\n",
      "|                            16|   90.6|  195.56|  518.6|\n",
      "|                            17|   90.6|  194.26|  518.6|\n",
      "|                            18|   90.6|  194.13|  478.6|\n",
      "|                            19|   90.6|  192.39|  478.6|\n",
      "|                            20|   90.6|  192.97|  478.6|\n",
      "+------------------------------+-------+--------+-------+\n",
      "only showing top 20 rows\n",
      "\n"
     ]
    },
    {
     "name": "stderr",
     "output_type": "stream",
     "text": [
      "                                                                                \r"
     ]
    },
    {
     "name": "stdout",
     "output_type": "stream",
     "text": [
      "+------------------------------+-------+--------+-------+\n",
      "|days_between_search_and_flight|MinFare|MeanFare|MaxFare|\n",
      "+------------------------------+-------+--------+-------+\n",
      "|                             1|  183.6|  464.96| 4351.6|\n",
      "|                             2|  138.6|  413.33| 4351.6|\n",
      "|                             3|  138.6|  414.84| 4351.6|\n",
      "|                             4|  148.6|   398.3| 3016.6|\n",
      "|                             5|  148.6|  401.18| 3016.6|\n",
      "|                             6|  128.6|  411.85| 3422.6|\n",
      "|                             7|  128.6|  401.93| 3016.6|\n",
      "|                             8|  128.6|  390.23| 3016.6|\n",
      "|                             9|  128.6|  379.19| 3016.6|\n",
      "|                            10|  128.6|  368.44| 3016.6|\n",
      "|                            11|  128.6|   364.8| 3016.6|\n",
      "|                            12|  128.6|  355.42| 1322.6|\n",
      "|                            13|  128.6|  356.15|2831.61|\n",
      "|                            14|  108.6|  344.17| 3016.6|\n",
      "|                            15|  108.6|  331.51| 1322.6|\n",
      "|                            16|  108.6|  326.22| 1322.6|\n",
      "|                            17|  108.6|  322.85| 1352.6|\n",
      "|                            18|  108.6|  316.01| 1322.6|\n",
      "|                            19|  108.6|  317.88| 1322.6|\n",
      "|                            20|  108.6|  316.06| 1322.6|\n",
      "+------------------------------+-------+--------+-------+\n",
      "only showing top 20 rows\n",
      "\n"
     ]
    },
    {
     "name": "stderr",
     "output_type": "stream",
     "text": [
      "                                                                                \r"
     ]
    },
    {
     "name": "stdout",
     "output_type": "stream",
     "text": [
      "+------------------------------+-------+--------+-------+\n",
      "|days_between_search_and_flight|MinFare|MeanFare|MaxFare|\n",
      "+------------------------------+-------+--------+-------+\n",
      "|                             1|  202.6|  422.82| 1881.6|\n",
      "|                             2|  202.6|   413.3| 1881.6|\n",
      "|                             3|  202.6|  413.12| 1881.6|\n",
      "|                             4|  202.6|  414.17| 1881.6|\n",
      "|                             5|  202.6|  412.26| 1881.6|\n",
      "|                             6|  118.6|  362.22| 1881.6|\n",
      "|                             7|  118.6|  359.58|  839.6|\n",
      "|                             8|  118.6|  359.17|  839.6|\n",
      "|                             9|   96.6|  359.44|  839.6|\n",
      "|                            10|   96.6|  359.67|  839.6|\n",
      "|                            11|   96.6|  360.63|  839.6|\n",
      "|                            12|   96.6|  361.21|  607.6|\n",
      "|                            13|   96.6|  361.48|  839.6|\n",
      "|                            14|   96.6|  212.94|  839.6|\n",
      "|                            15|   96.6|  212.27|  819.6|\n",
      "|                            16|   96.6|  212.62|  819.6|\n",
      "|                            17|   96.6|   213.2|  859.6|\n",
      "|                            18|   96.6|  215.18| 1921.6|\n",
      "|                            19|   96.6|  215.29| 598.61|\n",
      "|                            20|   96.6|  215.47| 598.61|\n",
      "+------------------------------+-------+--------+-------+\n",
      "only showing top 20 rows\n",
      "\n"
     ]
    },
    {
     "name": "stderr",
     "output_type": "stream",
     "text": [
      "                                                                                \r"
     ]
    },
    {
     "name": "stdout",
     "output_type": "stream",
     "text": [
      "+------------------------------+-------+--------+-------+\n",
      "|days_between_search_and_flight|MinFare|MeanFare|MaxFare|\n",
      "+------------------------------+-------+--------+-------+\n",
      "|                             1|  93.99|  236.14| 2131.6|\n",
      "|                             2|  63.99|  222.12|  914.6|\n",
      "|                             3|  63.99|  224.13|  914.6|\n",
      "|                             4|  63.99|  222.82| 2131.6|\n",
      "|                             5|  38.98|  223.18|  749.0|\n",
      "|                             6|  38.98|   205.6|  914.6|\n",
      "|                             7|  38.98|  202.42| 1298.6|\n",
      "|                             8|  38.98|  200.35|  914.6|\n",
      "|                             9|  38.98|  197.72|  749.0|\n",
      "|                            10|  38.98|  196.16|  911.6|\n",
      "|                            11|  38.98|  197.18|  911.6|\n",
      "|                            12|  38.98|  198.19|  911.6|\n",
      "|                            13|  38.98|  198.45|  749.0|\n",
      "|                            14|  38.98|  190.64|  749.0|\n",
      "|                            15|  38.98|  189.16|  749.0|\n",
      "|                            16|  38.98|  187.89|  749.0|\n",
      "|                            17|  38.98|   188.9|  749.0|\n",
      "|                            18|  38.98|  191.32|  749.0|\n",
      "|                            19|  38.98|  192.64|  749.0|\n",
      "|                            20|  38.98|  193.04|  749.0|\n",
      "+------------------------------+-------+--------+-------+\n",
      "only showing top 20 rows\n",
      "\n"
     ]
    },
    {
     "name": "stderr",
     "output_type": "stream",
     "text": [
      "                                                                                \r"
     ]
    },
    {
     "name": "stdout",
     "output_type": "stream",
     "text": [
      "+------------------------------+-------+--------+-------+\n",
      "|days_between_search_and_flight|MinFare|MeanFare|MaxFare|\n",
      "+------------------------------+-------+--------+-------+\n",
      "|                             1|  225.6|  369.68| 2408.6|\n",
      "|                             2|  225.6|  352.81| 2408.6|\n",
      "|                             3|  225.6|  344.44| 2408.6|\n",
      "|                             4|  225.6|   339.9| 2408.6|\n",
      "|                             5|  259.6|  338.41| 2408.6|\n",
      "|                             6|  130.6|   317.5| 2408.6|\n",
      "|                             7| 168.61|  311.08| 2408.6|\n",
      "|                             8| 168.61|  303.26| 2408.6|\n",
      "|                             9|  128.6|   298.1| 2408.6|\n",
      "|                            10|  128.6|  291.28| 1555.6|\n",
      "|                            11|  128.6|  289.58| 1555.6|\n",
      "|                            12|  128.6|  286.31|  748.6|\n",
      "|                            13|  128.6|  286.36|  748.6|\n",
      "|                            14|  128.6|  261.68|  748.6|\n",
      "|                            15| 123.61|  261.59| 1575.6|\n",
      "|                            16| 123.61|   263.3| 1555.6|\n",
      "|                            17| 123.61|  264.65| 1555.6|\n",
      "|                            18|  128.6|  261.46| 1555.6|\n",
      "|                            19|  128.6|  263.28|  748.6|\n",
      "|                            20| 123.61|  262.73|  748.6|\n",
      "+------------------------------+-------+--------+-------+\n",
      "only showing top 20 rows\n",
      "\n"
     ]
    },
    {
     "name": "stderr",
     "output_type": "stream",
     "text": [
      "                                                                                \r"
     ]
    },
    {
     "name": "stdout",
     "output_type": "stream",
     "text": [
      "+------------------------------+-------+--------+-------+\n",
      "|days_between_search_and_flight|MinFare|MeanFare|MaxFare|\n",
      "+------------------------------+-------+--------+-------+\n",
      "|                             1|  93.99|  359.05|1974.61|\n",
      "|                             2| 113.98|  345.24| 1697.6|\n",
      "|                             3| 113.98|  345.63| 2090.6|\n",
      "|                             4|  98.99|   341.8| 1697.6|\n",
      "|                             5|  76.98|  343.66| 1697.6|\n",
      "|                             6|  63.99|  311.11| 1697.6|\n",
      "|                             7|  68.98|  307.29| 1697.6|\n",
      "|                             8|  73.98|  303.84| 1098.6|\n",
      "|                             9|  73.98|  306.04| 1098.6|\n",
      "|                            10|  73.98|  304.15| 1098.6|\n",
      "|                            11|  66.99|   308.8| 1098.6|\n",
      "|                            12|  73.98|   310.8| 1098.6|\n",
      "|                            13|  63.99|  310.17| 1098.6|\n",
      "|                            14|  53.99|   307.3| 1098.6|\n",
      "|                            15|  86.98|  306.83| 1098.6|\n",
      "|                            16|  76.98|  305.17| 1098.6|\n",
      "|                            17|  81.98|  306.67| 1098.6|\n",
      "|                            18|  43.98|  307.85| 1098.6|\n",
      "|                            19|  43.98|   306.5| 1098.6|\n",
      "|                            20|  73.98|  304.36| 1697.6|\n",
      "+------------------------------+-------+--------+-------+\n",
      "only showing top 20 rows\n",
      "\n"
     ]
    },
    {
     "name": "stderr",
     "output_type": "stream",
     "text": [
      "                                                                                \r"
     ]
    },
    {
     "name": "stdout",
     "output_type": "stream",
     "text": [
      "+------------------------------+-------+--------+-------+\n",
      "|days_between_search_and_flight|MinFare|MeanFare|MaxFare|\n",
      "+------------------------------+-------+--------+-------+\n",
      "|                             1|  201.1|  486.26| 2009.1|\n",
      "|                             2|  201.1|  468.22| 2009.1|\n",
      "|                             3|  201.1|  462.75| 2009.1|\n",
      "|                             4|  201.1|  460.69| 2009.1|\n",
      "|                             5|  201.1|  457.96|  567.1|\n",
      "|                             6|  201.1|  365.22|  951.1|\n",
      "|                             7|  201.1|  360.51|  869.1|\n",
      "|                             8|  201.1|  360.12|  849.1|\n",
      "|                             9|  201.1|  359.68|  849.1|\n",
      "|                            10|  201.1|  359.42|  849.1|\n",
      "|                            11|  201.1|  360.36| 2009.1|\n",
      "|                            12|  201.1|  359.23|  849.1|\n",
      "|                            13|  201.1|  358.67|  849.1|\n",
      "|                            14|  103.1|  255.26|  557.1|\n",
      "|                            15|  153.1|  256.15|  849.1|\n",
      "|                            16|  153.1|   256.0|  562.1|\n",
      "|                            17|  153.1|  256.82|  557.1|\n",
      "|                            18|  103.1|  259.63| 2009.1|\n",
      "|                            19|  103.1|  256.99| 2009.1|\n",
      "|                            20|  103.1|  255.79|  557.1|\n",
      "+------------------------------+-------+--------+-------+\n",
      "only showing top 20 rows\n",
      "\n"
     ]
    },
    {
     "name": "stderr",
     "output_type": "stream",
     "text": [
      "                                                                                \r"
     ]
    },
    {
     "name": "stdout",
     "output_type": "stream",
     "text": [
      "+------------------------------+-------+--------+-------+\n",
      "|days_between_search_and_flight|MinFare|MeanFare|MaxFare|\n",
      "+------------------------------+-------+--------+-------+\n",
      "|                             1|  158.1|  264.07| 1637.1|\n",
      "|                             2|  158.1|  241.65| 1637.1|\n",
      "|                             3|  158.1|  234.54| 1637.1|\n",
      "|                             4|  158.1|  231.71| 1637.1|\n",
      "|                             5|  158.1|  231.34| 1637.1|\n",
      "|                             6|   99.1|  205.06|1196.11|\n",
      "|                             7|   99.1|  202.51|1196.11|\n",
      "|                             8|   99.1|  202.71| 1637.1|\n",
      "|                             9|   99.1|  195.54| 1637.1|\n",
      "|                            10|   64.1|  194.03| 1637.1|\n",
      "|                            11|   94.1|  193.51|  947.1|\n",
      "|                            12|   94.1|  194.16|  692.1|\n",
      "|                            13|   74.1|  193.36|  772.1|\n",
      "|                            14|   64.1|  168.85|1196.11|\n",
      "|                            15|   64.1|  168.34| 1177.1|\n",
      "|                            16|   64.1|   169.3| 1177.1|\n",
      "|                            17|   69.1|  170.09| 1126.1|\n",
      "|                            18|   69.1|  168.88|  772.1|\n",
      "|                            19|   69.1|  167.49| 1177.1|\n",
      "|                            20|   69.1|  164.64| 1177.1|\n",
      "+------------------------------+-------+--------+-------+\n",
      "only showing top 20 rows\n",
      "\n"
     ]
    },
    {
     "name": "stderr",
     "output_type": "stream",
     "text": [
      "                                                                                \r"
     ]
    },
    {
     "name": "stdout",
     "output_type": "stream",
     "text": [
      "+------------------------------+-------+--------+-------+\n",
      "|days_between_search_and_flight|MinFare|MeanFare|MaxFare|\n",
      "+------------------------------+-------+--------+-------+\n",
      "|                             1|  260.6|   457.1| 2296.6|\n",
      "|                             2|  220.6|  436.84| 2296.6|\n",
      "|                             3|  220.6|  447.04| 2296.6|\n",
      "|                             4|  220.6|  451.44| 2296.6|\n",
      "|                             5|  220.6|  461.98| 2296.6|\n",
      "|                             6|  205.6|  435.64| 2296.6|\n",
      "|                             7|  205.6|  431.12| 2296.6|\n",
      "|                             8|  205.6|  433.77| 2296.6|\n",
      "|                             9|  205.6|  439.48| 2296.6|\n",
      "|                            10|  205.6|  426.94| 2296.6|\n",
      "|                            11|  205.6|  436.46| 2296.6|\n",
      "|                            12|  220.6|   440.1| 2296.6|\n",
      "|                            13|  220.6|  442.45| 2296.6|\n",
      "|                            14|  132.6|  407.84| 2296.6|\n",
      "|                            15|  132.6|  408.44| 2296.6|\n",
      "|                            16|  112.6|  405.03| 2296.6|\n",
      "|                            17|  132.6|  409.96| 2296.6|\n",
      "|                            18|  132.6|  405.99| 2296.6|\n",
      "|                            19|  132.6|   402.0| 2296.6|\n",
      "|                            20|  132.6|  401.46| 2296.6|\n",
      "+------------------------------+-------+--------+-------+\n",
      "only showing top 20 rows\n",
      "\n"
     ]
    },
    {
     "name": "stderr",
     "output_type": "stream",
     "text": [
      "                                                                                \r"
     ]
    },
    {
     "name": "stdout",
     "output_type": "stream",
     "text": [
      "+------------------------------+-------+--------+-------+\n",
      "|days_between_search_and_flight|MinFare|MeanFare|MaxFare|\n",
      "+------------------------------+-------+--------+-------+\n",
      "|                             1|  356.6|  501.77| 4762.6|\n",
      "|                             2|  238.6|  441.15| 4752.6|\n",
      "|                             3|  238.6|  442.61| 3414.6|\n",
      "|                             4|  238.6|  441.23| 4762.6|\n",
      "|                             5|  238.6|  446.91| 4762.6|\n",
      "|                             6|  133.6|  418.62| 4762.6|\n",
      "|                             7|  133.6|   415.0| 4752.6|\n",
      "|                             8|  133.6|  416.17| 4752.6|\n",
      "|                             9|  133.6|  415.88| 4752.6|\n",
      "|                            10|  133.6|  413.18| 3214.6|\n",
      "|                            11|  133.6|  414.02| 4752.6|\n",
      "|                            12|  133.6|  417.43| 4752.6|\n",
      "|                            13|  133.6|  417.29| 4752.6|\n",
      "|                            14|   98.6|  410.95| 4752.6|\n",
      "|                            15|   98.6|  411.52| 4752.6|\n",
      "|                            16|   98.6|  416.17| 4752.6|\n",
      "|                            17|   98.6|  414.27| 4752.6|\n",
      "|                            18|  111.6|  412.62| 4752.6|\n",
      "|                            19|  108.6|  412.35| 4752.6|\n",
      "|                            20|  118.6|  415.79| 4752.6|\n",
      "+------------------------------+-------+--------+-------+\n",
      "only showing top 20 rows\n",
      "\n"
     ]
    },
    {
     "name": "stderr",
     "output_type": "stream",
     "text": [
      "                                                                                \r"
     ]
    },
    {
     "name": "stdout",
     "output_type": "stream",
     "text": [
      "+------------------------------+-------+--------+-------+\n",
      "|days_between_search_and_flight|MinFare|MeanFare|MaxFare|\n",
      "+------------------------------+-------+--------+-------+\n",
      "|                             1|  80.61|  220.64|2361.61|\n",
      "|                             2|   58.6|  217.88|2361.61|\n",
      "|                             3|   58.6|  218.88|2361.61|\n",
      "|                             4|   58.6|  218.51|2361.61|\n",
      "|                             5|   63.6|   225.7|2361.61|\n",
      "|                             6|   56.6|  228.91|2361.61|\n",
      "|                             7|   63.6|   226.9|2361.61|\n",
      "|                             8|   56.6|   225.5|2361.61|\n",
      "|                             9|   56.6|  219.31|2361.61|\n",
      "|                            10|   56.6|  217.09|2361.61|\n",
      "|                            11|   56.6|  219.03|2361.61|\n",
      "|                            12|   58.6|  216.83|2361.61|\n",
      "|                            13|   58.6|  218.35|2361.61|\n",
      "|                            14|   58.6|  217.39|2361.61|\n",
      "|                            15|   58.6|  217.46|2361.61|\n",
      "|                            16|   58.6|  215.31|2361.61|\n",
      "|                            17|   56.6|  217.48|2361.61|\n",
      "|                            18|   58.6|  219.93|2361.61|\n",
      "|                            19|   58.6|  220.05|2361.61|\n",
      "|                            20|   58.6|  216.87|  931.6|\n",
      "+------------------------------+-------+--------+-------+\n",
      "only showing top 20 rows\n",
      "\n"
     ]
    },
    {
     "name": "stderr",
     "output_type": "stream",
     "text": [
      "                                                                                \r"
     ]
    },
    {
     "name": "stdout",
     "output_type": "stream",
     "text": [
      "+------------------------------+-------+--------+-------+\n",
      "|days_between_search_and_flight|MinFare|MeanFare|MaxFare|\n",
      "+------------------------------+-------+--------+-------+\n",
      "|                             1| 103.99|  360.94| 1697.6|\n",
      "|                             2|  75.98|  343.47| 1514.6|\n",
      "|                             3|  73.98|  341.83| 1514.6|\n",
      "|                             4|  73.98|   340.4| 1514.6|\n",
      "|                             5|  73.98|  345.27| 1514.6|\n",
      "|                             6|  66.99|  292.59| 1514.6|\n",
      "|                             7|  66.99|  291.15| 1514.6|\n",
      "|                             8|  66.99|  290.36| 1514.6|\n",
      "|                             9|  66.99|  292.17| 1514.6|\n",
      "|                            10|  66.99|  288.65| 1514.6|\n",
      "|                            11|  66.99|  290.08| 1514.6|\n",
      "|                            12|  66.99|  291.57| 1128.6|\n",
      "|                            13|  66.99|  291.81| 1143.6|\n",
      "|                            14|  66.99|  286.35| 1143.6|\n",
      "|                            15|  73.98|  288.13| 1143.6|\n",
      "|                            16|  66.99|  287.59| 1143.6|\n",
      "|                            17|  66.99|  289.59| 1143.6|\n",
      "|                            18|  66.99|  291.58| 1143.6|\n",
      "|                            19|  64.99|  290.33| 1143.6|\n",
      "|                            20|  64.99|  288.07| 1143.6|\n",
      "+------------------------------+-------+--------+-------+\n",
      "only showing top 20 rows\n",
      "\n"
     ]
    },
    {
     "name": "stderr",
     "output_type": "stream",
     "text": [
      "                                                                                \r"
     ]
    },
    {
     "name": "stdout",
     "output_type": "stream",
     "text": [
      "+------------------------------+-------+--------+-------+\n",
      "|days_between_search_and_flight|MinFare|MeanFare|MaxFare|\n",
      "+------------------------------+-------+--------+-------+\n",
      "|                             1|  128.6|  327.54| 2207.6|\n",
      "|                             2|   74.6|  254.81| 2207.6|\n",
      "|                             3|   74.6|  237.41| 2207.6|\n",
      "|                             4|   58.6|  228.01| 2207.6|\n",
      "|                             5|   74.6|  222.62| 2207.6|\n",
      "|                             6|   54.6|   226.0| 1807.6|\n",
      "|                             7|   54.6|  216.71| 1807.6|\n",
      "|                             8|   44.6|  211.15| 1807.6|\n",
      "|                             9|  38.61|   206.9| 1528.6|\n",
      "|                            10|   44.6|  197.48| 1348.6|\n",
      "|                            11|  38.61|  196.52| 1348.6|\n",
      "|                            12|   44.6|  194.55| 1348.6|\n",
      "|                            13|  38.61|  194.56| 1098.6|\n",
      "|                            14|  38.61|  193.62| 1547.6|\n",
      "|                            15|  38.61|  194.57| 1957.6|\n",
      "|                            16|  38.61|  195.89| 1428.6|\n",
      "|                            17|  38.61|  196.42|1028.61|\n",
      "|                            18|  38.61|  198.73| 1125.6|\n",
      "|                            19|  38.61|  193.93|  698.6|\n",
      "|                            20|  38.61|  194.42|  628.6|\n",
      "+------------------------------+-------+--------+-------+\n",
      "only showing top 20 rows\n",
      "\n"
     ]
    },
    {
     "name": "stderr",
     "output_type": "stream",
     "text": [
      "                                                                                \r"
     ]
    },
    {
     "name": "stdout",
     "output_type": "stream",
     "text": [
      "+------------------------------+-------+--------+-------+\n",
      "|days_between_search_and_flight|MinFare|MeanFare|MaxFare|\n",
      "+------------------------------+-------+--------+-------+\n",
      "|                             1|  183.6|  321.09| 2061.6|\n",
      "|                             2|  183.6|  300.18| 2061.6|\n",
      "|                             3|  183.6|  293.72| 1420.6|\n",
      "|                             4|  183.6|  290.95| 1420.6|\n",
      "|                             5|  183.6|  292.17| 1420.6|\n",
      "|                             6|  147.6|  277.46| 1420.6|\n",
      "|                             7|  147.6|  274.75| 1420.6|\n",
      "|                             8|  151.6|  271.88|  914.6|\n",
      "|                             9|   97.6|  266.01|  914.6|\n",
      "|                            10|   97.6|  266.42| 1298.6|\n",
      "|                            11|   97.6|  266.93| 1298.6|\n",
      "|                            12|   97.6|  264.06|  914.6|\n",
      "|                            13|   97.6|  265.74| 1420.6|\n",
      "|                            14|   97.6|  255.71| 1420.6|\n",
      "|                            15|   97.6|  256.12| 1420.6|\n",
      "|                            16|   97.6|  257.57| 1420.6|\n",
      "|                            17|   97.6|  258.93| 1420.6|\n",
      "|                            18|   97.6|  261.44| 1420.6|\n",
      "|                            19|   97.6|  261.58| 1420.6|\n",
      "|                            20|   97.6|  262.51| 1420.6|\n",
      "+------------------------------+-------+--------+-------+\n",
      "only showing top 20 rows\n",
      "\n"
     ]
    },
    {
     "name": "stderr",
     "output_type": "stream",
     "text": [
      "                                                                                \r"
     ]
    },
    {
     "name": "stdout",
     "output_type": "stream",
     "text": [
      "+------------------------------+-------+--------+-------+\n",
      "|days_between_search_and_flight|MinFare|MeanFare|MaxFare|\n",
      "+------------------------------+-------+--------+-------+\n",
      "|                             1|  274.6|  474.74| 2628.6|\n",
      "|                             2|  274.6|   472.1| 2628.6|\n",
      "|                             3|  274.6|  479.51| 2628.6|\n",
      "|                             4|  278.6|  481.48| 2628.6|\n",
      "|                             5|  274.6|  486.51| 2628.6|\n",
      "|                             6|  160.6|  458.17| 2301.6|\n",
      "|                             7|  160.6|  455.31| 2177.6|\n",
      "|                             8|  190.6|   456.6| 2628.6|\n",
      "|                             9|  144.6|  453.92| 2628.6|\n",
      "|                            10|  144.6|  444.65| 2628.6|\n",
      "|                            11|  144.6|  446.24| 2628.6|\n",
      "|                            12|  144.6|   451.0| 2628.6|\n",
      "|                            13|  144.6|   450.4| 2628.6|\n",
      "|                            14|   88.6|  439.64| 2628.6|\n",
      "|                            15|  120.6|  435.14| 2648.6|\n",
      "|                            16|  120.6|  433.98| 2628.6|\n",
      "|                            17|   88.6|  428.22| 2258.6|\n",
      "|                            18|   88.6|  427.24| 2258.6|\n",
      "|                            19|   88.6|  427.69| 1897.6|\n",
      "|                            20|   88.6|   423.8|2248.59|\n",
      "+------------------------------+-------+--------+-------+\n",
      "only showing top 20 rows\n",
      "\n"
     ]
    },
    {
     "name": "stderr",
     "output_type": "stream",
     "text": [
      "                                                                                \r"
     ]
    },
    {
     "name": "stdout",
     "output_type": "stream",
     "text": [
      "+------------------------------+-------+--------+-------+\n",
      "|days_between_search_and_flight|MinFare|MeanFare|MaxFare|\n",
      "+------------------------------+-------+--------+-------+\n",
      "|                             1|  159.6|  273.52| 1297.6|\n",
      "|                             2|  159.6|  243.76| 1297.6|\n",
      "|                             3|  159.6|  235.28| 1147.6|\n",
      "|                             4|  159.6|   230.5| 1147.6|\n",
      "|                             5|  159.6|  243.99| 1147.6|\n",
      "|                             6|  108.6|  223.68| 1147.6|\n",
      "|                             7|  108.6|  219.72| 1147.6|\n",
      "|                             8|  108.6|  214.26| 1147.6|\n",
      "|                             9|   65.6|  210.37| 1227.6|\n",
      "|                            10|   65.6|  208.83| 1227.6|\n",
      "|                            11|   65.6|  208.99| 1227.6|\n",
      "|                            12|   65.6|  211.05| 1297.6|\n",
      "|                            13|   65.6|  210.93| 1297.6|\n",
      "|                            14|   65.6|  195.45| 1297.6|\n",
      "|                            15|   65.6|  194.42| 1227.6|\n",
      "|                            16|   65.6|  193.96| 1297.6|\n",
      "|                            17|   65.6|  191.09| 1297.6|\n",
      "|                            18|   65.6|  191.72| 1297.6|\n",
      "|                            19|   65.6|  187.14| 723.61|\n",
      "|                            20|   65.6|   189.2| 1227.6|\n",
      "+------------------------------+-------+--------+-------+\n",
      "only showing top 20 rows\n",
      "\n"
     ]
    },
    {
     "name": "stderr",
     "output_type": "stream",
     "text": [
      "                                                                                \r"
     ]
    },
    {
     "name": "stdout",
     "output_type": "stream",
     "text": [
      "+------------------------------+-------+--------+-------+\n",
      "|days_between_search_and_flight|MinFare|MeanFare|MaxFare|\n",
      "+------------------------------+-------+--------+-------+\n",
      "|                             1| 598.61|  606.79|  648.6|\n",
      "|                             2| 598.61|  606.79|  648.6|\n",
      "|                             3| 598.61|  606.79|  648.6|\n",
      "|                             4| 598.61|  606.79|  648.6|\n",
      "|                             5| 598.61|  606.79|  648.6|\n",
      "|                             6|  498.6|  511.33|  548.6|\n",
      "|                             7|  498.6|  511.33|  548.6|\n",
      "|                             8|  498.6|  513.14|  548.6|\n",
      "|                             9|  498.6|  507.69|  548.6|\n",
      "|                            10|  498.6|  503.14|  528.6|\n",
      "|                            11|  498.6|  503.14|  528.6|\n",
      "|                            12|  498.6|  519.51|  593.6|\n",
      "|                            13|  498.6|   523.6|  593.6|\n",
      "|                            14|  378.6|  438.15|  563.6|\n",
      "|                            15|  378.6|  438.15|  563.6|\n",
      "|                            16|  378.6|  440.87|  563.6|\n",
      "|                            17|  378.6|   451.1|  573.6|\n",
      "|                            18|  378.6|   452.1|  633.6|\n",
      "|                            19|  378.6|  429.15|  623.6|\n",
      "|                            20|  378.6|  425.82|  563.6|\n",
      "+------------------------------+-------+--------+-------+\n",
      "only showing top 20 rows\n",
      "\n"
     ]
    },
    {
     "name": "stderr",
     "output_type": "stream",
     "text": [
      "                                                                                \r"
     ]
    },
    {
     "name": "stdout",
     "output_type": "stream",
     "text": [
      "+------------------------------+-------+--------+-------+\n",
      "|days_between_search_and_flight|MinFare|MeanFare|MaxFare|\n",
      "+------------------------------+-------+--------+-------+\n",
      "|                             1| 296.61|  376.58| 1684.6|\n",
      "|                             2| 296.61|  352.37| 1684.6|\n",
      "|                             3| 296.61|  352.38| 1684.6|\n",
      "|                             4| 296.61|  347.65| 1684.6|\n",
      "|                             5| 296.61|   342.9|  658.6|\n",
      "|                             6|  128.6|  266.08|  608.6|\n",
      "|                             7|  128.6|  266.27| 1318.6|\n",
      "|                             8|  128.6|  268.14| 1318.6|\n",
      "|                             9|  128.6|  261.64| 1318.6|\n",
      "|                            10|  128.6|  258.96|  698.6|\n",
      "|                            11|  128.6|  265.04| 1318.6|\n",
      "|                            12|  128.6|  266.08| 1318.6|\n",
      "|                            13|  128.6|  262.83| 1318.6|\n",
      "|                            14|  108.6|  235.14| 1318.6|\n",
      "|                            15|  108.6|  235.45| 1318.6|\n",
      "|                            16|  108.6|  233.25| 1318.6|\n",
      "|                            17|  108.6|  234.36| 1318.6|\n",
      "|                            18|  108.6|  231.09| 1318.6|\n",
      "|                            19|  108.6|  231.72| 1318.6|\n",
      "|                            20|  108.6|  234.57| 1318.6|\n",
      "+------------------------------+-------+--------+-------+\n",
      "only showing top 20 rows\n",
      "\n"
     ]
    },
    {
     "name": "stderr",
     "output_type": "stream",
     "text": [
      "                                                                                \r"
     ]
    },
    {
     "name": "stdout",
     "output_type": "stream",
     "text": [
      "+------------------------------+-------+--------+-------+\n",
      "|days_between_search_and_flight|MinFare|MeanFare|MaxFare|\n",
      "+------------------------------+-------+--------+-------+\n",
      "|                             1|  345.6|  599.26| 2954.6|\n",
      "|                             2|  345.6|   612.4| 2954.6|\n",
      "|                             3|  345.6|  642.47| 2954.6|\n",
      "|                             4|  345.6|  653.64| 2954.6|\n",
      "|                             5|  345.6|  675.85| 2954.6|\n",
      "|                             6| 337.61|  638.11| 2954.6|\n",
      "|                             7| 337.61|  626.18| 2954.6|\n",
      "|                             8|  429.6|  623.55| 2954.6|\n",
      "|                             9|  347.6|  625.62| 2954.6|\n",
      "|                            10|  347.6|  609.86| 1551.6|\n",
      "|                            11|  347.6|  615.78| 2954.6|\n",
      "|                            12| 380.61|  629.91| 2954.6|\n",
      "|                            13|  420.6|  627.34| 2954.6|\n",
      "|                            14|  410.6|  620.37| 2954.6|\n",
      "|                            15| 380.61|  615.33| 2954.6|\n",
      "|                            16| 380.61|  612.79| 2954.6|\n",
      "|                            17|  410.6|  613.66| 2954.6|\n",
      "|                            18| 380.61|  599.23| 2954.6|\n",
      "|                            19|  410.6|  603.99| 2954.6|\n",
      "|                            20| 380.61|  602.55| 2954.6|\n",
      "+------------------------------+-------+--------+-------+\n",
      "only showing top 20 rows\n",
      "\n"
     ]
    },
    {
     "name": "stderr",
     "output_type": "stream",
     "text": [
      "                                                                                \r"
     ]
    },
    {
     "name": "stdout",
     "output_type": "stream",
     "text": [
      "+------------------------------+-------+--------+-------+\n",
      "|days_between_search_and_flight|MinFare|MeanFare|MaxFare|\n",
      "+------------------------------+-------+--------+-------+\n",
      "|                             1|  160.1|  344.07| 1866.1|\n",
      "|                             2| 122.11|   315.3| 1866.1|\n",
      "|                             3| 122.11|  306.14| 1866.1|\n",
      "|                             4| 122.11|  305.85| 1866.1|\n",
      "|                             5| 122.11|  306.01| 1345.1|\n",
      "|                             6|  101.1|  289.79| 1866.1|\n",
      "|                             7|  101.1|  288.57| 1345.1|\n",
      "|                             8|  132.1|  287.88| 1345.1|\n",
      "|                             9|  101.1|  281.57| 1345.1|\n",
      "|                            10|  101.1|  272.24| 1345.1|\n",
      "|                            11|  132.1|  272.57| 1345.1|\n",
      "|                            12|  101.1|  271.12| 1345.1|\n",
      "|                            13|  101.1|   271.2| 1345.1|\n",
      "|                            14|  101.1|  237.71| 1345.1|\n",
      "|                            15|  105.1|  236.91| 1345.1|\n",
      "|                            16|  110.1|  236.41| 1345.1|\n",
      "|                            17|  110.1|   238.0| 1345.1|\n",
      "|                            18|  110.1|  238.97| 1345.1|\n",
      "|                            19|  110.1|  239.75| 1345.1|\n",
      "|                            20|  101.1|  238.24| 1345.1|\n",
      "+------------------------------+-------+--------+-------+\n",
      "only showing top 20 rows\n",
      "\n"
     ]
    },
    {
     "name": "stderr",
     "output_type": "stream",
     "text": [
      "                                                                                \r"
     ]
    },
    {
     "name": "stdout",
     "output_type": "stream",
     "text": [
      "+------------------------------+-------+--------+-------+\n",
      "|days_between_search_and_flight|MinFare|MeanFare|MaxFare|\n",
      "+------------------------------+-------+--------+-------+\n",
      "|                             1| 153.99|  390.78| 2090.6|\n",
      "|                             2| 113.98|  347.79| 1697.6|\n",
      "|                             3| 113.98|  341.07| 1697.6|\n",
      "|                             4|  93.99|  341.03| 1697.6|\n",
      "|                             5|  73.98|  344.06| 1697.6|\n",
      "|                             6|  63.99|  304.25| 2090.6|\n",
      "|                             7|  73.98|  301.61| 2090.6|\n",
      "|                             8|  76.98|  299.49| 1697.6|\n",
      "|                             9|  77.98|  299.66| 1697.6|\n",
      "|                            10|  73.98|  299.01| 1697.6|\n",
      "|                            11|  73.98|  302.73| 1697.6|\n",
      "|                            12|  81.98|  303.76| 1697.6|\n",
      "|                            13|  73.98|  306.02| 1697.6|\n",
      "|                            14|  53.99|  297.72| 1697.6|\n",
      "|                            15|  81.98|  298.95| 1697.6|\n",
      "|                            16|  73.98|  300.26| 1697.6|\n",
      "|                            17|  43.98|  299.59| 1697.6|\n",
      "|                            18|  73.98|   305.1| 2090.6|\n",
      "|                            19|  43.98|  301.33| 1697.6|\n",
      "|                            20|  73.98|  298.62| 1697.6|\n",
      "+------------------------------+-------+--------+-------+\n",
      "only showing top 20 rows\n",
      "\n"
     ]
    },
    {
     "name": "stderr",
     "output_type": "stream",
     "text": [
      "                                                                                \r"
     ]
    },
    {
     "name": "stdout",
     "output_type": "stream",
     "text": [
      "+------------------------------+-------+--------+-------+\n",
      "|days_between_search_and_flight|MinFare|MeanFare|MaxFare|\n",
      "+------------------------------+-------+--------+-------+\n",
      "|                             1|  140.6|  275.04| 2505.6|\n",
      "|                             2|  108.6|  218.95| 2505.6|\n",
      "|                             3|  108.6|  215.76| 2505.6|\n",
      "|                             4|  108.6|  211.09| 2505.6|\n",
      "|                             5|  108.6|  211.39| 1098.6|\n",
      "|                             6|   93.6|  211.62| 1098.6|\n",
      "|                             7|   89.6|  208.06|  668.6|\n",
      "|                             8|   89.6|  211.25| 1105.6|\n",
      "|                             9|   93.6|  207.63|  608.6|\n",
      "|                            10|   93.6|  207.62| 1105.6|\n",
      "|                            11|   93.6|  208.21| 1105.6|\n",
      "|                            12|   93.6|  208.69|  673.6|\n",
      "|                            13|   93.6|  210.77|  668.6|\n",
      "|                            14|   89.6|  210.63| 1105.6|\n",
      "|                            15|   89.6|  207.55|  668.6|\n",
      "|                            16|   89.6|  205.63|  668.6|\n",
      "|                            17|   89.6|   206.2| 1098.6|\n",
      "|                            18|   89.6|  204.12| 1098.6|\n",
      "|                            19|   89.6|   204.0| 1098.6|\n",
      "|                            20|   89.6|  201.76| 1098.6|\n",
      "+------------------------------+-------+--------+-------+\n",
      "only showing top 20 rows\n",
      "\n"
     ]
    },
    {
     "name": "stderr",
     "output_type": "stream",
     "text": [
      "                                                                                \r"
     ]
    },
    {
     "name": "stdout",
     "output_type": "stream",
     "text": [
      "+------------------------------+-------+--------+-------+\n",
      "|days_between_search_and_flight|MinFare|MeanFare|MaxFare|\n",
      "+------------------------------+-------+--------+-------+\n",
      "|                             1|  298.6|  496.28| 2598.6|\n",
      "|                             2| 253.61|  402.94| 3498.6|\n",
      "|                             3| 253.61|  398.91| 3498.6|\n",
      "|                             4|  203.6|  393.97|3384.61|\n",
      "|                             5| 253.61|  394.57|3304.61|\n",
      "|                             6|  148.6|  363.66| 2202.6|\n",
      "|                             7|  148.6|  357.18| 2527.6|\n",
      "|                             8|  148.6|   363.1| 3498.6|\n",
      "|                             9|  148.6|  347.67|3304.61|\n",
      "|                            10|  148.6|  358.67| 3498.6|\n",
      "|                            11|  148.6|  350.94| 3498.6|\n",
      "|                            12|  148.6|  355.45| 3498.6|\n",
      "|                            13|  148.6|  356.82| 3498.6|\n",
      "|                            14|  116.6|  339.91| 3498.6|\n",
      "|                            15|  103.6|  334.43|3304.61|\n",
      "|                            16|  103.6|  336.31|3304.61|\n",
      "|                            17|  103.6|  338.87|3304.61|\n",
      "|                            18|  116.6|  338.62|3304.61|\n",
      "|                            19|  116.6|  334.26|3304.61|\n",
      "|                            20|  103.6|  335.58|3304.61|\n",
      "+------------------------------+-------+--------+-------+\n",
      "only showing top 20 rows\n",
      "\n"
     ]
    },
    {
     "name": "stderr",
     "output_type": "stream",
     "text": [
      "                                                                                \r"
     ]
    },
    {
     "name": "stdout",
     "output_type": "stream",
     "text": [
      "+------------------------------+-------+--------+-------+\n",
      "|days_between_search_and_flight|MinFare|MeanFare|MaxFare|\n",
      "+------------------------------+-------+--------+-------+\n",
      "|                             1| 168.61|  426.84|1284.61|\n",
      "|                             2|  113.6|  408.41| 1064.6|\n",
      "|                             3|  113.6|  408.17| 1014.6|\n",
      "|                             4|   88.6|  402.59| 1014.6|\n",
      "|                             5|   88.6|  403.99| 1099.6|\n",
      "|                             6|   88.6|  337.57|  948.6|\n",
      "|                             7|   88.6|   330.1|  948.6|\n",
      "|                             8|   83.6|  327.22|  948.6|\n",
      "|                             9|   98.6|  327.95| 1099.6|\n",
      "|                            10|   83.6|  327.61| 1099.6|\n",
      "|                            11|   83.6|  327.03| 1099.6|\n",
      "|                            12|   83.6|  326.59| 1099.6|\n",
      "|                            13|   83.6|  326.84|  993.6|\n",
      "|                            14|   83.6|  281.45|1279.61|\n",
      "|                            15|   83.6|  279.45| 978.61|\n",
      "|                            16|   83.6|  279.18| 978.61|\n",
      "|                            17|   83.6|  278.96| 978.61|\n",
      "|                            18|   83.6|  279.59| 978.61|\n",
      "|                            19|   83.6|  278.21| 978.61|\n",
      "|                            20|   83.6|   277.6|  993.6|\n",
      "+------------------------------+-------+--------+-------+\n",
      "only showing top 20 rows\n",
      "\n"
     ]
    },
    {
     "name": "stderr",
     "output_type": "stream",
     "text": [
      "                                                                                \r"
     ]
    },
    {
     "name": "stdout",
     "output_type": "stream",
     "text": [
      "+------------------------------+-------+--------+-------+\n",
      "|days_between_search_and_flight|MinFare|MeanFare|MaxFare|\n",
      "+------------------------------+-------+--------+-------+\n",
      "|                             1|  215.6|   476.8| 2610.6|\n",
      "|                             2|  215.6|  390.02| 1810.6|\n",
      "|                             3|  215.6|  388.04| 1810.6|\n",
      "|                             4|  215.6|  384.32| 1363.6|\n",
      "|                             5|  215.6|  384.14| 1363.6|\n",
      "|                             6|  172.6|  364.01| 1363.6|\n",
      "|                             7|  172.6|  360.85| 1363.6|\n",
      "|                             8|  172.6|  356.86| 2610.6|\n",
      "|                             9|  202.6|  342.81| 2210.6|\n",
      "|                            10|  160.6|  343.48| 1363.6|\n",
      "|                            11|  160.6|  344.01|  952.6|\n",
      "|                            12|  172.6|  342.48|  952.6|\n",
      "|                            13|  202.6|  339.79| 1363.6|\n",
      "|                            14|  138.6|  338.17|  952.6|\n",
      "|                            15|  138.6|  334.07|  952.6|\n",
      "|                            16|  138.6|  332.38|  952.6|\n",
      "|                            17|  138.6|  331.94| 1363.6|\n",
      "|                            18|  172.6|  334.12| 1363.6|\n",
      "|                            19|  138.6|  333.93|  952.6|\n",
      "|                            20|  138.6|  335.27|  952.6|\n",
      "+------------------------------+-------+--------+-------+\n",
      "only showing top 20 rows\n",
      "\n"
     ]
    },
    {
     "name": "stderr",
     "output_type": "stream",
     "text": [
      "                                                                                \r"
     ]
    },
    {
     "name": "stdout",
     "output_type": "stream",
     "text": [
      "+------------------------------+-------+--------+-------+\n",
      "|days_between_search_and_flight|MinFare|MeanFare|MaxFare|\n",
      "+------------------------------+-------+--------+-------+\n",
      "|                             1|  83.98|  334.61| 2203.6|\n",
      "|                             2|  83.98|  343.81| 2203.6|\n",
      "|                             3|  83.98|  342.92| 2203.6|\n",
      "|                             4|  83.98|  346.95| 2203.6|\n",
      "|                             5|  83.98|  346.29| 2203.6|\n",
      "|                             6|  81.98|  339.84| 2203.6|\n",
      "|                             7|  81.98|  336.21| 2203.6|\n",
      "|                             8|  81.98|  335.01| 2203.6|\n",
      "|                             9|  81.98|   331.1| 1377.6|\n",
      "|                            10|  81.98|  326.12| 1377.6|\n",
      "|                            11|  81.98|  328.78| 1377.6|\n",
      "|                            12|  81.98|  325.19| 1377.6|\n",
      "|                            13|  81.98|  329.08| 2203.6|\n",
      "|                            14|  81.98|  319.91| 2203.6|\n",
      "|                            15|  81.98|  315.81| 2203.6|\n",
      "|                            16|  82.98|  313.61| 1397.6|\n",
      "|                            17|  82.98|  311.65|1407.61|\n",
      "|                            18|  81.98|  310.84|1407.61|\n",
      "|                            19|  70.98|  312.42| 1397.6|\n",
      "|                            20|  61.99|  309.66| 1397.6|\n",
      "+------------------------------+-------+--------+-------+\n",
      "only showing top 20 rows\n",
      "\n"
     ]
    },
    {
     "name": "stderr",
     "output_type": "stream",
     "text": [
      "                                                                                \r"
     ]
    },
    {
     "name": "stdout",
     "output_type": "stream",
     "text": [
      "+------------------------------+-------+--------+-------+\n",
      "|days_between_search_and_flight|MinFare|MeanFare|MaxFare|\n",
      "+------------------------------+-------+--------+-------+\n",
      "|                             1|  155.6|  279.86| 1675.6|\n",
      "|                             2|  155.6|  245.95| 1675.6|\n",
      "|                             3|  155.6|  244.92| 1675.6|\n",
      "|                             4|  155.6|   240.3| 1675.6|\n",
      "|                             5|  155.6|  237.53| 1675.6|\n",
      "|                             6|   88.6|  223.39|1197.61|\n",
      "|                             7|   88.6|  219.89|1197.61|\n",
      "|                             8|   88.6|  214.93|  905.6|\n",
      "|                             9|   65.6|  210.61|1197.61|\n",
      "|                            10|   65.6|  209.98|1197.61|\n",
      "|                            11|   88.6|  209.23|1197.61|\n",
      "|                            12|   88.6|  211.55|  905.6|\n",
      "|                            13|   95.6|  212.39|  905.6|\n",
      "|                            14|   70.6|  195.15|  678.6|\n",
      "|                            15|   70.6|  196.85|1197.61|\n",
      "|                            16|   70.6|  195.43|1028.61|\n",
      "|                            17|   70.6|  196.86|1028.61|\n",
      "|                            18|   70.6|  198.39|1197.61|\n",
      "|                            19|   70.6|  198.14|1028.61|\n",
      "|                            20|   70.6|  195.23|  905.6|\n",
      "+------------------------------+-------+--------+-------+\n",
      "only showing top 20 rows\n",
      "\n"
     ]
    },
    {
     "name": "stderr",
     "output_type": "stream",
     "text": [
      "                                                                                \r"
     ]
    },
    {
     "name": "stdout",
     "output_type": "stream",
     "text": [
      "+------------------------------+-------+--------+-------+\n",
      "|days_between_search_and_flight|MinFare|MeanFare|MaxFare|\n",
      "+------------------------------+-------+--------+-------+\n",
      "|                             1| 123.61|  344.74| 2227.6|\n",
      "|                             2|  108.6|  293.65| 2227.6|\n",
      "|                             3|  108.6|  284.27|1198.61|\n",
      "|                             4|  108.6|  290.34|1198.61|\n",
      "|                             5|  108.6|  291.79| 2227.6|\n",
      "|                             6|   88.6|  288.26| 2227.6|\n",
      "|                             7|   88.6|  288.74| 2227.6|\n",
      "|                             8|   88.6|  284.18|  758.6|\n",
      "|                             9|   88.6|  279.87| 1048.6|\n",
      "|                            10|   88.6|  275.38|  738.6|\n",
      "|                            11|   88.6|  278.29|  738.6|\n",
      "|                            12|   88.6|  281.63|  748.6|\n",
      "|                            13|   88.6|  284.28|  738.6|\n",
      "|                            14|   88.6|  279.24| 1048.6|\n",
      "|                            15|   88.6|  280.07|  718.6|\n",
      "|                            16|   88.6|  281.82| 2227.6|\n",
      "|                            17|   88.6|  284.56|  778.6|\n",
      "|                            18|   88.6|  290.26|  778.6|\n",
      "|                            19|   88.6|  287.93|  778.6|\n",
      "|                            20|   88.6|   290.0|  788.6|\n",
      "+------------------------------+-------+--------+-------+\n",
      "only showing top 20 rows\n",
      "\n"
     ]
    },
    {
     "name": "stderr",
     "output_type": "stream",
     "text": [
      "                                                                                \r"
     ]
    },
    {
     "name": "stdout",
     "output_type": "stream",
     "text": [
      "+------------------------------+-------+--------+-------+\n",
      "|days_between_search_and_flight|MinFare|MeanFare|MaxFare|\n",
      "+------------------------------+-------+--------+-------+\n",
      "|                             1| 183.99|  611.19| 1859.6|\n",
      "|                             2| 153.99|  601.22| 1784.6|\n",
      "|                             3| 153.99|  601.95| 1834.6|\n",
      "|                             4| 153.99|  600.78| 1834.6|\n",
      "|                             5|  93.99|  599.87| 1834.6|\n",
      "|                             6|  93.99|  505.84| 1834.6|\n",
      "|                             7|  93.99|  504.53| 1859.6|\n",
      "|                             8| 103.99|  504.88| 1859.6|\n",
      "|                             9| 103.99|  504.63| 1534.6|\n",
      "|                            10| 103.99|  501.79| 1534.6|\n",
      "|                            11|  93.99|   500.5| 1534.6|\n",
      "|                            12|  93.99|  500.37| 1534.6|\n",
      "|                            13|  93.99|  499.71| 1534.6|\n",
      "|                            14|   64.6|  419.45| 1534.6|\n",
      "|                            15| 102.99|  427.13| 1797.6|\n",
      "|                            16|   64.6|  426.08|1278.61|\n",
      "|                            17|   64.6|  428.09|1278.61|\n",
      "|                            18|  93.99|  427.79| 1248.6|\n",
      "|                            19|  93.99|  428.76| 1534.6|\n",
      "|                            20|   64.6|  428.49| 1534.6|\n",
      "+------------------------------+-------+--------+-------+\n",
      "only showing top 20 rows\n",
      "\n"
     ]
    },
    {
     "name": "stderr",
     "output_type": "stream",
     "text": [
      "                                                                                \r"
     ]
    },
    {
     "name": "stdout",
     "output_type": "stream",
     "text": [
      "+------------------------------+-------+--------+-------+\n",
      "|days_between_search_and_flight|MinFare|MeanFare|MaxFare|\n",
      "+------------------------------+-------+--------+-------+\n",
      "|                             1|  443.6|  494.95| 3026.6|\n",
      "|                             2|  443.6|  485.79|1414.61|\n",
      "|                             3|  443.6|   486.4|1414.61|\n",
      "|                             4|  443.6|  488.25|1414.61|\n",
      "|                             5|  443.6|  484.19|1414.61|\n",
      "|                             6|  238.6|  440.44|  831.6|\n",
      "|                             7|  238.6|   435.4|1414.61|\n",
      "|                             8|  238.6|  439.92|1414.61|\n",
      "|                             9|  325.6|  436.75|  743.6|\n",
      "|                            10|  310.6|  440.88|1414.61|\n",
      "|                            11|  325.6|  441.19|1414.61|\n",
      "|                            12|  310.6|  442.34|1414.61|\n",
      "|                            13|  310.6|  446.01|1414.61|\n",
      "|                            14| 166.61|  440.53| 1079.6|\n",
      "|                            15|  178.6|  440.32| 1079.6|\n",
      "|                            16|  178.6|   441.1|1414.61|\n",
      "|                            17|  196.6|  443.65|1414.61|\n",
      "|                            18| 166.61|  442.13|1414.61|\n",
      "|                            19| 166.61|  447.54|1414.61|\n",
      "|                            20| 166.61|  449.87|1414.61|\n",
      "+------------------------------+-------+--------+-------+\n",
      "only showing top 20 rows\n",
      "\n"
     ]
    },
    {
     "name": "stderr",
     "output_type": "stream",
     "text": [
      "                                                                                \r"
     ]
    },
    {
     "name": "stdout",
     "output_type": "stream",
     "text": [
      "+------------------------------+-------+--------+-------+\n",
      "|days_between_search_and_flight|MinFare|MeanFare|MaxFare|\n",
      "+------------------------------+-------+--------+-------+\n",
      "|                            48|   44.6|  149.89|  308.6|\n",
      "+------------------------------+-------+--------+-------+\n",
      "\n"
     ]
    },
    {
     "name": "stderr",
     "output_type": "stream",
     "text": [
      "                                                                                \r"
     ]
    },
    {
     "name": "stdout",
     "output_type": "stream",
     "text": [
      "+------------------------------+-------+--------+-------+\n",
      "|days_between_search_and_flight|MinFare|MeanFare|MaxFare|\n",
      "+------------------------------+-------+--------+-------+\n",
      "|                             1|  186.6|  297.04| 1978.6|\n",
      "|                             2| 116.98|  282.35| 1978.6|\n",
      "|                             3| 116.98|  285.83| 1978.6|\n",
      "|                             4| 116.98|  290.52| 1827.6|\n",
      "|                             5|  78.98|  289.58|1802.61|\n",
      "|                             6|  63.99|   263.9|1802.61|\n",
      "|                             7|  63.99|  260.45| 1827.6|\n",
      "|                             8|   68.6|  256.53|1802.61|\n",
      "|                             9|   68.6|  249.52| 1827.6|\n",
      "|                            10|   68.6|  243.85|  608.6|\n",
      "|                            11|   68.6|   244.2|  608.6|\n",
      "|                            12|   68.6|  244.57|  608.6|\n",
      "|                            13|   68.6|  245.45|  648.6|\n",
      "|                            14|   68.6|   234.8|  608.6|\n",
      "|                            15|   68.6|  234.76|  608.6|\n",
      "|                            16|   68.6|  235.01|  648.6|\n",
      "|                            17|   68.6|  236.74|  648.6|\n",
      "|                            18|   68.6|  240.52|  648.6|\n",
      "|                            19|   68.6|  239.07|  648.6|\n",
      "|                            20|   68.6|  236.85|  648.6|\n",
      "+------------------------------+-------+--------+-------+\n",
      "only showing top 20 rows\n",
      "\n"
     ]
    },
    {
     "name": "stderr",
     "output_type": "stream",
     "text": [
      "                                                                                \r"
     ]
    },
    {
     "name": "stdout",
     "output_type": "stream",
     "text": [
      "+------------------------------+-------+--------+-------+\n",
      "|days_between_search_and_flight|MinFare|MeanFare|MaxFare|\n",
      "+------------------------------+-------+--------+-------+\n",
      "|                             1| 112.48|  417.04| 2033.1|\n",
      "|                             2| 112.48|   377.7| 2033.1|\n",
      "|                             3|  82.48|  375.61| 1950.1|\n",
      "|                             4|  82.48|  370.82| 1950.1|\n",
      "|                             5|  82.48|  374.33| 1950.1|\n",
      "|                             6|  80.48|   358.1| 1950.1|\n",
      "|                             7|  82.48|  352.44| 1097.1|\n",
      "|                             8|  82.48|  352.84| 1097.1|\n",
      "|                             9|  82.48|  348.94| 1097.1|\n",
      "|                            10|  77.48|  351.98| 1097.1|\n",
      "|                            11|  77.48|   356.1| 1097.1|\n",
      "|                            12|  83.48|  361.67| 1331.1|\n",
      "|                            13|  80.48|  359.38| 1331.1|\n",
      "|                            14|  77.48|  354.59| 1331.1|\n",
      "|                            15|  77.48|  349.38|1027.11|\n",
      "|                            16|  77.48|  343.15| 1331.1|\n",
      "|                            17|  77.48|  342.99| 1097.1|\n",
      "|                            18|  77.48|  342.07| 1097.1|\n",
      "|                            19|  77.48|  342.16|  947.1|\n",
      "|                            20|  77.48|   342.5| 1097.1|\n",
      "+------------------------------+-------+--------+-------+\n",
      "only showing top 20 rows\n",
      "\n"
     ]
    },
    {
     "name": "stderr",
     "output_type": "stream",
     "text": [
      "                                                                                \r"
     ]
    },
    {
     "name": "stdout",
     "output_type": "stream",
     "text": [
      "+------------------------------+-------+--------+-------+\n",
      "|days_between_search_and_flight|MinFare|MeanFare|MaxFare|\n",
      "+------------------------------+-------+--------+-------+\n",
      "|                             1|  138.6|  352.72| 1297.6|\n",
      "|                             2|  118.6|  304.59| 1297.6|\n",
      "|                             3|  118.6|  294.34| 1297.6|\n",
      "|                             4|  118.6|  289.19| 1297.6|\n",
      "|                             5|  118.6|  285.99| 1297.6|\n",
      "|                             6|   98.6|  259.31| 1297.6|\n",
      "|                             7|   98.6|   252.3| 1309.6|\n",
      "|                             8|   98.6|  245.52| 1309.6|\n",
      "|                             9|   98.6|  244.53| 1309.6|\n",
      "|                            10|   98.6|  244.17| 1309.6|\n",
      "|                            11|   98.6|  244.63| 1309.6|\n",
      "|                            12|   98.6|  246.88| 1309.6|\n",
      "|                            13|   98.6|  247.24| 1309.6|\n",
      "|                            14|   98.6|  211.37| 1297.6|\n",
      "|                            15|   98.6|  209.08| 1309.6|\n",
      "|                            16|   98.6|  209.16| 1309.6|\n",
      "|                            17|   98.6|   205.9| 1309.6|\n",
      "|                            18|   98.6|  208.24| 1309.6|\n",
      "|                            19|   98.6|  205.55| 1309.6|\n",
      "|                            20|   98.6|  205.02| 1309.6|\n",
      "+------------------------------+-------+--------+-------+\n",
      "only showing top 20 rows\n",
      "\n"
     ]
    },
    {
     "name": "stderr",
     "output_type": "stream",
     "text": [
      "                                                                                \r"
     ]
    },
    {
     "name": "stdout",
     "output_type": "stream",
     "text": [
      "+------------------------------+-------+--------+-------+\n",
      "|days_between_search_and_flight|MinFare|MeanFare|MaxFare|\n",
      "+------------------------------+-------+--------+-------+\n",
      "|                             1|  259.6|  374.96| 2190.6|\n",
      "|                             2|  259.6|   350.1| 1578.6|\n",
      "|                             3|  259.6|  357.83|2145.61|\n",
      "|                             4|  259.6|  363.79|2145.61|\n",
      "|                             5|  259.6|  369.19|2145.61|\n",
      "|                             6|  107.6|  334.98| 2190.6|\n",
      "|                             7|  107.6|  329.55| 2190.6|\n",
      "|                             8|  138.6|  327.53|  948.6|\n",
      "|                             9|  136.6|  323.16|  948.6|\n",
      "|                            10|  136.6|  318.88|1028.61|\n",
      "|                            11|  136.6|  322.02|1028.61|\n",
      "|                            12|  136.6|  322.74|1028.61|\n",
      "|                            13|  136.6|  325.36|1028.61|\n",
      "|                            14|  118.6|  321.26|1028.61|\n",
      "|                            15|  118.6|  320.77|1028.61|\n",
      "|                            16|  118.6|  318.88|1028.61|\n",
      "|                            17|  118.6|   324.8|1028.61|\n",
      "|                            18|  118.6|  328.03|1028.61|\n",
      "|                            19|  118.6|  325.44|  948.6|\n",
      "|                            20|  118.6|  327.71|1028.61|\n",
      "+------------------------------+-------+--------+-------+\n",
      "only showing top 20 rows\n",
      "\n"
     ]
    },
    {
     "name": "stderr",
     "output_type": "stream",
     "text": [
      "                                                                                \r"
     ]
    },
    {
     "name": "stdout",
     "output_type": "stream",
     "text": [
      "+------------------------------+-------+--------+-------+\n",
      "|days_between_search_and_flight|MinFare|MeanFare|MaxFare|\n",
      "+------------------------------+-------+--------+-------+\n",
      "|                             1| 123.61|   270.3| 1897.6|\n",
      "|                             2|  108.6|  241.21|2230.61|\n",
      "|                             3|  108.6|  245.18| 1448.6|\n",
      "|                             4|   98.6|  247.68| 1394.6|\n",
      "|                             5|   98.6|  255.66| 1394.6|\n",
      "|                             6|   88.6|  246.92| 1394.6|\n",
      "|                             7|   88.6|  245.18|  998.6|\n",
      "|                             8|   88.6|  246.46| 768.61|\n",
      "|                             9|   88.6|  245.92| 768.61|\n",
      "|                            10|   88.6|  245.16|  823.6|\n",
      "|                            11|   88.6|  248.94|  823.6|\n",
      "|                            12|   88.6|  254.12|  823.6|\n",
      "|                            13|   88.6|  256.75|  788.6|\n",
      "|                            14|   88.6|  253.38|  828.6|\n",
      "|                            15|   88.6|  254.43|  828.6|\n",
      "|                            16|   88.6|  255.35|  828.6|\n",
      "|                            17|   88.6|  257.91|  828.6|\n",
      "|                            18|   88.6|  260.06|1278.61|\n",
      "|                            19|   88.6|   256.4|  828.6|\n",
      "|                            20|   88.6|   258.1|  828.6|\n",
      "+------------------------------+-------+--------+-------+\n",
      "only showing top 20 rows\n",
      "\n"
     ]
    },
    {
     "name": "stderr",
     "output_type": "stream",
     "text": [
      "                                                                                \r"
     ]
    },
    {
     "name": "stdout",
     "output_type": "stream",
     "text": [
      "+------------------------------+-------+--------+-------+\n",
      "|days_between_search_and_flight|MinFare|MeanFare|MaxFare|\n",
      "+------------------------------+-------+--------+-------+\n",
      "|                             1|  108.6|  292.43| 1982.6|\n",
      "|                             2|   85.6|  251.88| 1982.6|\n",
      "|                             3|   85.6|  235.37| 1982.6|\n",
      "|                             4|   85.6|  228.02| 1982.6|\n",
      "|                             5|   78.6|   225.5| 1982.6|\n",
      "|                             6|   78.6|  215.78| 1982.6|\n",
      "|                             7|   78.6|  213.69| 1982.6|\n",
      "|                             8|   78.6|  211.09| 1982.6|\n",
      "|                             9|   85.6|  206.07| 1982.6|\n",
      "|                            10|   85.6|  203.57| 1982.6|\n",
      "|                            11|   85.6|  203.75| 1982.6|\n",
      "|                            12|   78.6|  203.64| 1982.6|\n",
      "|                            13|   78.6|  204.69| 1982.6|\n",
      "|                            14|   78.6|  199.38| 1982.6|\n",
      "|                            15|   78.6|  199.27| 1982.6|\n",
      "|                            16|   88.6|  197.15| 1982.6|\n",
      "|                            17|   88.6|  195.68| 1982.6|\n",
      "|                            18|   88.6|   197.4| 1982.6|\n",
      "|                            19|   78.6|   199.3| 1982.6|\n",
      "|                            20|   78.6|  198.28| 1982.6|\n",
      "+------------------------------+-------+--------+-------+\n",
      "only showing top 20 rows\n",
      "\n"
     ]
    },
    {
     "name": "stderr",
     "output_type": "stream",
     "text": [
      "                                                                                \r"
     ]
    },
    {
     "name": "stdout",
     "output_type": "stream",
     "text": [
      "+------------------------------+-------+--------+-------+\n",
      "|days_between_search_and_flight|MinFare|MeanFare|MaxFare|\n",
      "+------------------------------+-------+--------+-------+\n",
      "|                             1|  164.6|  272.73| 2169.6|\n",
      "|                             2|  164.6|  253.45| 2169.6|\n",
      "|                             3|  164.6|  249.47| 2169.6|\n",
      "|                             4|  164.6|  244.39| 1447.6|\n",
      "|                             5|  164.6|   245.3| 1298.6|\n",
      "|                             6|   68.6|  232.68| 1769.6|\n",
      "|                             7|   68.6|  229.28| 1769.6|\n",
      "|                             8|   68.6|  227.99| 1377.6|\n",
      "|                             9|   68.6|  220.73| 1298.6|\n",
      "|                            10|   68.6|  218.26| 1298.6|\n",
      "|                            11|   68.6|  218.65| 1298.6|\n",
      "|                            12|   68.6|  219.91| 1377.6|\n",
      "|                            13|   68.6|  218.93| 898.61|\n",
      "|                            14|   68.6|  204.81| 1377.6|\n",
      "|                            15|   68.6|  204.08| 978.61|\n",
      "|                            16|   68.6|  202.07| 1298.6|\n",
      "|                            17|   68.6|  204.35| 1298.6|\n",
      "|                            18|   68.6|  207.02| 2169.6|\n",
      "|                            19|   68.6|  205.87| 2169.6|\n",
      "|                            20|   68.6|  201.42|  687.6|\n",
      "+------------------------------+-------+--------+-------+\n",
      "only showing top 20 rows\n",
      "\n"
     ]
    },
    {
     "name": "stderr",
     "output_type": "stream",
     "text": [
      "                                                                                \r"
     ]
    },
    {
     "name": "stdout",
     "output_type": "stream",
     "text": [
      "+------------------------------+-------+--------+-------+\n",
      "|days_between_search_and_flight|MinFare|MeanFare|MaxFare|\n",
      "+------------------------------+-------+--------+-------+\n",
      "|                             1|  235.6|  446.19|3004.61|\n",
      "|                             2|  223.6|   458.0|3004.61|\n",
      "|                             3|  223.6|  493.82|3004.61|\n",
      "|                             4|  223.6|  489.87|3004.61|\n",
      "|                             5|  223.6|  508.23|3004.61|\n",
      "|                             6|  198.6|  507.99|3004.61|\n",
      "|                             7|  173.6|   504.3|3004.61|\n",
      "|                             8|  173.6|  508.71|3004.61|\n",
      "|                             9|  173.6|   499.1|3004.61|\n",
      "|                            10|  198.6|  500.27|3004.61|\n",
      "|                            11|  173.6|  505.12|3004.61|\n",
      "|                            12|  173.6|  491.64| 1281.6|\n",
      "|                            13|  173.6|  484.14| 1281.6|\n",
      "|                            14|  148.6|  482.84| 2604.6|\n",
      "|                            15|  148.6|  475.65| 1281.6|\n",
      "|                            16|  148.6|   474.9|2624.59|\n",
      "|                            17|  148.6|  471.01| 1281.6|\n",
      "|                            18|  163.6|  464.94| 1281.6|\n",
      "|                            19|  163.6|   465.4| 1281.6|\n",
      "|                            20|  223.6|   468.0| 1281.6|\n",
      "+------------------------------+-------+--------+-------+\n",
      "only showing top 20 rows\n",
      "\n"
     ]
    },
    {
     "name": "stderr",
     "output_type": "stream",
     "text": [
      "                                                                                \r"
     ]
    },
    {
     "name": "stdout",
     "output_type": "stream",
     "text": [
      "+------------------------------+-------+--------+-------+\n",
      "|days_between_search_and_flight|MinFare|MeanFare|MaxFare|\n",
      "+------------------------------+-------+--------+-------+\n",
      "|                             1|  138.6|  343.83|1359.61|\n",
      "|                             2|   58.6|   271.7|  948.6|\n",
      "|                             3|   58.6|  268.03|1284.61|\n",
      "|                             4|   53.6|  261.68|1284.61|\n",
      "|                             5|   53.6|   262.5|1284.61|\n",
      "|                             6|   53.6|  237.52|1284.61|\n",
      "|                             7|   53.6|  238.82|1284.61|\n",
      "|                             8|   53.6|  237.05|1284.61|\n",
      "|                             9|   58.6|  227.96|  948.6|\n",
      "|                            10|   58.6|  222.85|  948.6|\n",
      "|                            11|   58.6|  217.85|  948.6|\n",
      "|                            12|   58.6|  212.45|  948.6|\n",
      "|                            13|   53.6|  207.31|  948.6|\n",
      "|                            14|   53.6|  198.14|  948.6|\n",
      "|                            15|   53.6|  199.72|  838.6|\n",
      "|                            16|   58.6|  197.78|  838.6|\n",
      "|                            17|   58.6|  198.72|  838.6|\n",
      "|                            18|   53.6|   195.7|  843.6|\n",
      "|                            19|   53.6|  191.95|  838.6|\n",
      "|                            20|   53.6|  189.79|  838.6|\n",
      "+------------------------------+-------+--------+-------+\n",
      "only showing top 20 rows\n",
      "\n"
     ]
    },
    {
     "name": "stderr",
     "output_type": "stream",
     "text": [
      "                                                                                \r"
     ]
    },
    {
     "name": "stdout",
     "output_type": "stream",
     "text": [
      "+------------------------------+-------+--------+-------+\n",
      "|days_between_search_and_flight|MinFare|MeanFare|MaxFare|\n",
      "+------------------------------+-------+--------+-------+\n",
      "|                             1| 123.61|  251.69| 1244.6|\n",
      "|                             2|  108.6|  234.81|  838.6|\n",
      "|                             3|  108.6|  233.98|  788.6|\n",
      "|                             4|   98.6|  235.01|  758.6|\n",
      "|                             5|   98.6|  236.54| 691.18|\n",
      "|                             6|   88.6|  229.25| 691.18|\n",
      "|                             7|   88.6|   229.7| 691.18|\n",
      "|                             8|   88.6|  231.94|1278.61|\n",
      "|                             9|   88.6|  237.11|  758.6|\n",
      "|                            10|   88.6|  234.83|  758.6|\n",
      "|                            11|   88.6|   238.0| 691.18|\n",
      "|                            12|   88.6|  243.67| 691.18|\n",
      "|                            13|   88.6|  243.85| 691.18|\n",
      "|                            14|   88.6|  238.15| 691.18|\n",
      "|                            15|   88.6|  238.48| 691.18|\n",
      "|                            16|   88.6|  239.46|  758.6|\n",
      "|                            17|   88.6|  239.48|  753.6|\n",
      "|                            18|   88.6|  245.83|  788.6|\n",
      "|                            19|   88.6|  250.66|  783.6|\n",
      "|                            20|   88.6|  253.35|  783.6|\n",
      "+------------------------------+-------+--------+-------+\n",
      "only showing top 20 rows\n",
      "\n"
     ]
    },
    {
     "name": "stderr",
     "output_type": "stream",
     "text": [
      "                                                                                \r"
     ]
    },
    {
     "name": "stdout",
     "output_type": "stream",
     "text": [
      "+------------------------------+-------+--------+-------+\n",
      "|days_between_search_and_flight|MinFare|MeanFare|MaxFare|\n",
      "+------------------------------+-------+--------+-------+\n",
      "|                             1| 165.98|  413.71| 2371.6|\n",
      "|                             2|  86.98|  350.13| 2371.6|\n",
      "|                             3|  86.98|  339.44| 2371.6|\n",
      "|                             4|  86.98|  328.71| 1064.6|\n",
      "|                             5|  86.98|  322.01| 1064.6|\n",
      "|                             6|  62.99|  322.71| 1064.6|\n",
      "|                             7|  64.99|  315.61| 1064.6|\n",
      "|                             8|  64.99|  313.66| 1064.6|\n",
      "|                             9|  64.99|  301.93| 1064.6|\n",
      "|                            10|  62.99|  301.42| 1064.6|\n",
      "|                            11|  66.99|  299.28|  699.0|\n",
      "|                            12|  64.99|   298.6| 810.61|\n",
      "|                            13|  64.99|   300.1| 1064.6|\n",
      "|                            14|  57.99|   260.5|  909.6|\n",
      "|                            15|  57.99|  258.86|1084.59|\n",
      "|                            16|  57.99|  255.22|  889.6|\n",
      "|                            17|  57.99|  257.43|  659.0|\n",
      "|                            18|  64.99|  259.84| 1064.6|\n",
      "|                            19|  63.99|  263.73| 1064.6|\n",
      "|                            20|  63.99|  266.14| 1064.6|\n",
      "+------------------------------+-------+--------+-------+\n",
      "only showing top 20 rows\n",
      "\n"
     ]
    },
    {
     "name": "stderr",
     "output_type": "stream",
     "text": [
      "                                                                                \r"
     ]
    },
    {
     "name": "stdout",
     "output_type": "stream",
     "text": [
      "+------------------------------+-------+--------+-------+\n",
      "|days_between_search_and_flight|MinFare|MeanFare|MaxFare|\n",
      "+------------------------------+-------+--------+-------+\n",
      "|                             1|  148.6|  441.97| 2570.6|\n",
      "|                             2|   92.6|  328.91| 2570.6|\n",
      "|                             3|   92.6|  297.43| 2570.6|\n",
      "|                             4|   92.6|  283.79| 2570.6|\n",
      "|                             5|   92.6|  285.19| 2570.6|\n",
      "|                             6|   92.6|  269.83| 2570.6|\n",
      "|                             7|   92.6|  260.77| 2570.6|\n",
      "|                             8|   72.6|  261.98| 2570.6|\n",
      "|                             9|   92.6|  256.31| 1062.6|\n",
      "|                            10|   72.6|   250.7|  748.6|\n",
      "|                            11|   75.6|   250.8| 1062.6|\n",
      "|                            12|   72.6|  246.75| 1062.6|\n",
      "|                            13|   40.6|  250.14| 2570.6|\n",
      "|                            14|   75.6|  238.12|  748.6|\n",
      "|                            15|   75.6|  236.85| 1062.6|\n",
      "|                            16|   75.6|   236.3| 1062.6|\n",
      "|                            17|   75.6|  237.58| 1062.6|\n",
      "|                            18|   40.6|   239.2| 1062.6|\n",
      "|                            19|   75.6|   236.1| 1062.6|\n",
      "|                            20|   75.6|  238.57| 1062.6|\n",
      "+------------------------------+-------+--------+-------+\n",
      "only showing top 20 rows\n",
      "\n"
     ]
    },
    {
     "name": "stderr",
     "output_type": "stream",
     "text": [
      "                                                                                \r"
     ]
    },
    {
     "name": "stdout",
     "output_type": "stream",
     "text": [
      "+------------------------------+-------+--------+-------+\n",
      "|days_between_search_and_flight|MinFare|MeanFare|MaxFare|\n",
      "+------------------------------+-------+--------+-------+\n",
      "|                             1|  148.6|  382.01| 2570.6|\n",
      "|                             2|   92.6|  320.17| 2570.6|\n",
      "|                             3|   92.6|  300.55| 2570.6|\n",
      "|                             4|   92.6|  283.49| 2570.6|\n",
      "|                             5|   92.6|  277.02| 2570.6|\n",
      "|                             6|   74.6|  256.17| 2570.6|\n",
      "|                             7|   44.6|  252.81| 2570.6|\n",
      "|                             8|   44.6|  251.35| 2570.6|\n",
      "|                             9|   44.6|   243.8| 1062.6|\n",
      "|                            10|   40.6|  242.34|  698.6|\n",
      "|                            11|   75.6|  244.94|  588.6|\n",
      "|                            12|   72.6|  245.57|  698.6|\n",
      "|                            13|   72.6|  248.19|  698.6|\n",
      "|                            14|   72.6|  237.48| 1062.6|\n",
      "|                            15|   83.6|  235.45| 1062.6|\n",
      "|                            16|   83.6|  236.07|  588.6|\n",
      "|                            17|   75.6|  238.62| 1062.6|\n",
      "|                            18|   75.6|  240.15|  698.6|\n",
      "|                            19|   72.6|  240.34|  698.6|\n",
      "|                            20|   72.6|  237.52|  568.6|\n",
      "+------------------------------+-------+--------+-------+\n",
      "only showing top 20 rows\n",
      "\n"
     ]
    },
    {
     "name": "stderr",
     "output_type": "stream",
     "text": [
      "                                                                                \r"
     ]
    },
    {
     "name": "stdout",
     "output_type": "stream",
     "text": [
      "+------------------------------+-------+--------+-------+\n",
      "|days_between_search_and_flight|MinFare|MeanFare|MaxFare|\n",
      "+------------------------------+-------+--------+-------+\n",
      "|                             1|  138.6|   368.5| 1297.6|\n",
      "|                             2|  118.6|  315.36| 1309.6|\n",
      "|                             3|  118.6|  300.25| 1309.6|\n",
      "|                             4|  118.6|  286.86| 1297.6|\n",
      "|                             5|  118.6|  287.48| 1309.6|\n",
      "|                             6|   98.6|  256.69| 1297.6|\n",
      "|                             7|   98.6|  249.92| 1297.6|\n",
      "|                             8|   98.6|  247.75| 1297.6|\n",
      "|                             9|   98.6|  247.55| 1309.6|\n",
      "|                            10|   98.6|  243.49| 1297.6|\n",
      "|                            11|   98.6|  246.29| 1297.6|\n",
      "|                            12|   98.6|  248.75| 1309.6|\n",
      "|                            13|   98.6|  247.89| 1309.6|\n",
      "|                            14|   98.6|  216.94| 1309.6|\n",
      "|                            15|   98.6|  215.51| 1309.6|\n",
      "|                            16|   98.6|   214.2| 1309.6|\n",
      "|                            17|   98.6|  216.44| 1309.6|\n",
      "|                            18|   98.6|  218.55| 1309.6|\n",
      "|                            19|   98.6|  218.65| 1309.6|\n",
      "|                            20|   98.6|  216.82| 1309.6|\n",
      "+------------------------------+-------+--------+-------+\n",
      "only showing top 20 rows\n",
      "\n"
     ]
    },
    {
     "name": "stderr",
     "output_type": "stream",
     "text": [
      "                                                                                \r"
     ]
    },
    {
     "name": "stdout",
     "output_type": "stream",
     "text": [
      "+------------------------------+-------+--------+-------+\n",
      "|days_between_search_and_flight|MinFare|MeanFare|MaxFare|\n",
      "+------------------------------+-------+--------+-------+\n",
      "|                             1|  75.98|  302.65| 1810.6|\n",
      "|                             2|  73.98|  287.89| 1912.6|\n",
      "|                             3|  73.98|  284.55| 1810.6|\n",
      "|                             4|  73.98|  287.73| 1912.6|\n",
      "|                             5|  73.98|  291.75| 1810.6|\n",
      "|                             6|  66.99|  265.93| 1810.6|\n",
      "|                             7|  66.99|   258.0| 1912.6|\n",
      "|                             8|  66.99|  253.77| 1810.6|\n",
      "|                             9|  66.99|  252.18| 1810.6|\n",
      "|                            10|  66.99|  248.01| 1810.6|\n",
      "|                            11|  66.99|  245.82| 1912.6|\n",
      "|                            12|  66.99|   245.2|  998.6|\n",
      "|                            13|  57.99|  243.24|  998.6|\n",
      "|                            14|   52.6|  236.23| 1912.6|\n",
      "|                            15|   52.6|  235.66| 1912.6|\n",
      "|                            16|   52.6|   233.5| 1810.6|\n",
      "|                            17|   52.6|  233.55| 1912.6|\n",
      "|                            18|   52.6|  234.98| 1912.6|\n",
      "|                            19|   52.6|  231.86| 1912.6|\n",
      "|                            20|   52.6|  231.83| 1912.6|\n",
      "+------------------------------+-------+--------+-------+\n",
      "only showing top 20 rows\n",
      "\n"
     ]
    },
    {
     "name": "stderr",
     "output_type": "stream",
     "text": [
      "                                                                                \r"
     ]
    },
    {
     "name": "stdout",
     "output_type": "stream",
     "text": [
      "+------------------------------+-------+--------+-------+\n",
      "|days_between_search_and_flight|MinFare|MeanFare|MaxFare|\n",
      "+------------------------------+-------+--------+-------+\n",
      "|                             1|  182.1|  313.42| 2060.1|\n",
      "|                             2|  182.1|   293.3| 1419.1|\n",
      "|                             3|  182.1|  289.07| 1419.1|\n",
      "|                             4|  182.1|  289.34| 1419.1|\n",
      "|                             5|  182.1|  289.43| 1419.1|\n",
      "|                             6|  150.1|  280.79| 1419.1|\n",
      "|                             7|  146.1|  277.95| 1419.1|\n",
      "|                             8|  150.1|  280.08| 1419.1|\n",
      "|                             9|   96.1|   272.0| 1296.1|\n",
      "|                            10|   96.1|  271.19| 1296.1|\n",
      "|                            11|   96.1|  269.48|  913.1|\n",
      "|                            12|   96.1|  269.37|  913.1|\n",
      "|                            13|   96.1|  270.08|  747.1|\n",
      "|                            14|   96.1|  259.73|  913.1|\n",
      "|                            15|   96.1|   259.6|  913.1|\n",
      "|                            16|   96.1|  259.72| 1347.1|\n",
      "|                            17|   96.1|  259.37| 1377.1|\n",
      "|                            18|   96.1|   261.2| 1347.1|\n",
      "|                            19|   96.1|  263.32|  747.1|\n",
      "|                            20|   96.1|  262.89|  747.1|\n",
      "+------------------------------+-------+--------+-------+\n",
      "only showing top 20 rows\n",
      "\n"
     ]
    },
    {
     "name": "stderr",
     "output_type": "stream",
     "text": [
      "                                                                                \r"
     ]
    },
    {
     "name": "stdout",
     "output_type": "stream",
     "text": [
      "+------------------------------+-------+--------+-------+\n",
      "|days_between_search_and_flight|MinFare|MeanFare|MaxFare|\n",
      "+------------------------------+-------+--------+-------+\n",
      "|                             1|  47.98|  311.87| 2049.6|\n",
      "|                             2|  33.97|  243.64| 2049.6|\n",
      "|                             3|  33.97|  233.35| 2049.6|\n",
      "|                             4|  33.97|   225.9| 2049.6|\n",
      "|                             5|  35.97|  220.42| 2049.6|\n",
      "|                             6|  31.97|  209.43| 2049.6|\n",
      "|                             7|  31.97|  206.15| 2049.6|\n",
      "|                             8|  23.97|  206.92| 2049.6|\n",
      "|                             9|  23.97|  203.76| 2049.6|\n",
      "|                            10|  23.97|  200.05| 2049.6|\n",
      "|                            11|  23.97|  199.89| 2049.6|\n",
      "|                            12|  23.97|  197.63| 2049.6|\n",
      "|                            13|  23.97|  196.81| 2049.6|\n",
      "|                            14|  23.97|  192.16| 2049.6|\n",
      "|                            15|  23.97|  191.85| 2049.6|\n",
      "|                            16|  23.97|  190.39| 1649.6|\n",
      "|                            17|  23.97|  188.97| 2049.6|\n",
      "|                            18|  23.97|  188.58| 2049.6|\n",
      "|                            19|  23.97|  183.81| 2049.6|\n",
      "|                            20|  23.97|  189.42| 1649.6|\n",
      "+------------------------------+-------+--------+-------+\n",
      "only showing top 20 rows\n",
      "\n"
     ]
    },
    {
     "name": "stderr",
     "output_type": "stream",
     "text": [
      "                                                                                \r"
     ]
    },
    {
     "name": "stdout",
     "output_type": "stream",
     "text": [
      "+------------------------------+-------+--------+-------+\n",
      "|days_between_search_and_flight|MinFare|MeanFare|MaxFare|\n",
      "+------------------------------+-------+--------+-------+\n",
      "|                             1|  278.6|  354.92|1197.61|\n",
      "|                             2|  278.6|  354.33|1197.61|\n",
      "|                             3|  278.6|  355.76|1197.61|\n",
      "|                             4|  278.6|  351.91|1277.61|\n",
      "|                             5|  278.6|  356.01|1277.61|\n",
      "|                             6|  228.6|  316.26|1277.61|\n",
      "|                             7|  228.6|  313.67|1197.61|\n",
      "|                             8|  228.6|  309.78|1277.61|\n",
      "|                             9|  228.6|   310.8|1277.61|\n",
      "|                            10|  228.6|  310.28| 1098.6|\n",
      "|                            11|  228.6|  315.51| 1178.6|\n",
      "|                            12|  228.6|  318.16|1197.61|\n",
      "|                            13|  228.6|  317.39|1197.61|\n",
      "|                            14|  193.6|  269.92|1197.61|\n",
      "|                            15|  193.6|   269.9|1197.61|\n",
      "|                            16|  193.6|  271.94|1277.61|\n",
      "|                            17|  193.6|   272.4|1277.61|\n",
      "|                            18|  193.6|  270.29|1277.61|\n",
      "|                            19|  193.6|  271.67|1277.61|\n",
      "|                            20|  193.6|  272.81|1277.61|\n",
      "+------------------------------+-------+--------+-------+\n",
      "only showing top 20 rows\n",
      "\n"
     ]
    },
    {
     "name": "stderr",
     "output_type": "stream",
     "text": [
      "                                                                                \r"
     ]
    },
    {
     "name": "stdout",
     "output_type": "stream",
     "text": [
      "+------------------------------+-------+--------+-------+\n",
      "|days_between_search_and_flight|MinFare|MeanFare|MaxFare|\n",
      "+------------------------------+-------+--------+-------+\n",
      "|                             1|  225.6|  391.91| 2408.6|\n",
      "|                             2|  225.6|  357.51| 2408.6|\n",
      "|                             3|  225.6|   353.2| 2008.6|\n",
      "|                             4|  225.6|  356.63| 2408.6|\n",
      "|                             5|  225.6|  344.56| 1697.6|\n",
      "|                             6|  130.6|  326.51| 1555.6|\n",
      "|                             7|  130.6|  316.45|1498.61|\n",
      "|                             8| 168.61|   314.4|1498.61|\n",
      "|                             9|  128.6|  312.14| 1697.6|\n",
      "|                            10|  128.6|  307.91| 1697.6|\n",
      "|                            11|  128.6|  305.94|1498.61|\n",
      "|                            12|  128.6|  308.04| 1098.6|\n",
      "|                            13|  128.6|  307.77|1498.61|\n",
      "|                            14| 123.61|  287.98| 1098.6|\n",
      "|                            15| 123.61|  288.83| 1575.6|\n",
      "|                            16| 123.61|  289.89| 1555.6|\n",
      "|                            17|  128.6|  290.11| 1555.6|\n",
      "|                            18|  128.6|  293.22| 1555.6|\n",
      "|                            19| 123.61|  289.41| 1555.6|\n",
      "|                            20| 123.61|  287.64| 1098.6|\n",
      "+------------------------------+-------+--------+-------+\n",
      "only showing top 20 rows\n",
      "\n"
     ]
    },
    {
     "name": "stderr",
     "output_type": "stream",
     "text": [
      "                                                                                \r"
     ]
    },
    {
     "name": "stdout",
     "output_type": "stream",
     "text": [
      "+------------------------------+-------+--------+-------+\n",
      "|days_between_search_and_flight|MinFare|MeanFare|MaxFare|\n",
      "+------------------------------+-------+--------+-------+\n",
      "|                             1|  298.6|  546.31| 4762.6|\n",
      "|                             2|  248.6|  497.06| 4762.6|\n",
      "|                             3|  248.6|  494.22| 4752.6|\n",
      "|                             4|  248.6|  503.55| 4752.6|\n",
      "|                             5|  248.6|  506.63| 4752.6|\n",
      "|                             6|  153.6|  503.71| 4752.6|\n",
      "|                             7|  193.6|  497.03| 4752.6|\n",
      "|                             8|  158.6|  475.02| 4752.6|\n",
      "|                             9|  153.6|  465.66| 4752.6|\n",
      "|                            10|  153.6|  462.81| 4752.6|\n",
      "|                            11|  148.6|  458.27| 4752.6|\n",
      "|                            12|  148.6|  449.11| 4752.6|\n",
      "|                            13|  153.6|  450.11| 4752.6|\n",
      "|                            14|  131.6|  433.75| 4752.6|\n",
      "|                            15|  121.6|  423.95| 4752.6|\n",
      "|                            16|  103.6|  425.32| 4752.6|\n",
      "|                            17|  126.6|  424.87| 4782.6|\n",
      "|                            18|  116.6|  424.73| 4752.6|\n",
      "|                            19|  113.6|  417.02| 3214.6|\n",
      "|                            20|  113.6|  419.48| 3214.6|\n",
      "+------------------------------+-------+--------+-------+\n",
      "only showing top 20 rows\n",
      "\n"
     ]
    },
    {
     "name": "stderr",
     "output_type": "stream",
     "text": [
      "                                                                                \r"
     ]
    },
    {
     "name": "stdout",
     "output_type": "stream",
     "text": [
      "+------------------------------+-------+--------+-------+\n",
      "|days_between_search_and_flight|MinFare|MeanFare|MaxFare|\n",
      "+------------------------------+-------+--------+-------+\n",
      "|                             1|  172.6|   279.8| 1431.6|\n",
      "|                             2|  172.6|  260.46| 1431.6|\n",
      "|                             3|  172.6|  258.24| 1431.6|\n",
      "|                             4|  172.6|  259.98| 1431.6|\n",
      "|                             5|  172.6|  262.31| 1431.6|\n",
      "|                             6|  141.6|  256.49| 1431.6|\n",
      "|                             7|  141.6|  257.05| 1431.6|\n",
      "|                             8|  151.6|  248.27| 1431.6|\n",
      "|                             9|   89.6|  245.38| 1431.6|\n",
      "|                            10|   89.6|  244.21| 1431.6|\n",
      "|                            11|   89.6|  247.56| 1431.6|\n",
      "|                            12|   89.6|   247.7| 1431.6|\n",
      "|                            13|   89.6|  247.87| 1431.6|\n",
      "|                            14|   88.6|  230.33| 1431.6|\n",
      "|                            15|   88.6|  234.36| 1431.6|\n",
      "|                            16|   88.6|  231.93| 1431.6|\n",
      "|                            17|   88.6|  237.17| 1431.6|\n",
      "|                            18|   88.6|  240.41| 1431.6|\n",
      "|                            19|   88.6|  237.46| 1431.6|\n",
      "|                            20|   88.6|   230.8| 1431.6|\n",
      "+------------------------------+-------+--------+-------+\n",
      "only showing top 20 rows\n",
      "\n"
     ]
    },
    {
     "name": "stderr",
     "output_type": "stream",
     "text": [
      "                                                                                \r"
     ]
    },
    {
     "name": "stdout",
     "output_type": "stream",
     "text": [
      "+------------------------------+-------+--------+-------+\n",
      "|days_between_search_and_flight|MinFare|MeanFare|MaxFare|\n",
      "+------------------------------+-------+--------+-------+\n",
      "|                             1|  53.99|  290.95|1627.61|\n",
      "|                             2|  42.98|  267.22|1627.61|\n",
      "|                             3|  42.98|  265.59|1627.61|\n",
      "|                             4|  42.98|  265.42|1627.61|\n",
      "|                             5|  42.98|  259.56|1627.61|\n",
      "|                             6|  23.97|  241.23|1627.61|\n",
      "|                             7|  23.97|  241.45|1627.61|\n",
      "|                             8|  30.98|  240.94|1627.61|\n",
      "|                             9|  23.97|  232.44|1627.61|\n",
      "|                            10|  23.97|  230.47|1627.61|\n",
      "|                            11|  23.97|  230.76|1627.61|\n",
      "|                            12|  23.97|  228.58|1627.61|\n",
      "|                            13|  23.97|  226.93|  833.6|\n",
      "|                            14|  23.97|  213.89|  833.6|\n",
      "|                            15|  23.97|  213.15|  833.6|\n",
      "|                            16|  23.97|   211.8|  809.6|\n",
      "|                            17|  23.97|  212.98|  809.6|\n",
      "|                            18|  23.97|  213.81|  809.6|\n",
      "|                            19|  30.98|  214.08|  799.6|\n",
      "|                            20|  30.98|  212.39|  809.6|\n",
      "+------------------------------+-------+--------+-------+\n",
      "only showing top 20 rows\n",
      "\n"
     ]
    },
    {
     "name": "stderr",
     "output_type": "stream",
     "text": [
      "                                                                                \r"
     ]
    },
    {
     "name": "stdout",
     "output_type": "stream",
     "text": [
      "+------------------------------+-------+--------+-------+\n",
      "|days_between_search_and_flight|MinFare|MeanFare|MaxFare|\n",
      "+------------------------------+-------+--------+-------+\n",
      "|                             1|  244.6|  347.63| 1319.6|\n",
      "|                             2|  244.6|  314.78| 1319.6|\n",
      "|                             3|  244.6|   296.9| 1319.6|\n",
      "|                             4|  244.6|  296.14| 1319.6|\n",
      "|                             5|  244.6|  297.37| 1239.6|\n",
      "|                             6|  128.6|  289.96| 1319.6|\n",
      "|                             7|  128.6|  297.31| 1319.6|\n",
      "|                             8|  128.6|  279.58| 1239.6|\n",
      "|                             9|  238.6|  272.95| 1239.6|\n",
      "|                            10|  238.6|  274.74| 1239.6|\n",
      "|                            11|  238.6|   274.0| 1239.6|\n",
      "|                            12|  238.6|  275.48| 1239.6|\n",
      "|                            13|  238.6|  275.74|1197.61|\n",
      "|                            14|  110.6|  229.65| 1178.6|\n",
      "|                            15|  110.6|  230.76| 1178.6|\n",
      "|                            16|  110.6|  229.25| 1178.6|\n",
      "|                            17|  110.6|  235.01| 1309.6|\n",
      "|                            18|  110.6|  237.03| 1239.6|\n",
      "|                            19|  110.6|  237.13| 1178.6|\n",
      "|                            20|  110.6|  235.73| 1178.6|\n",
      "+------------------------------+-------+--------+-------+\n",
      "only showing top 20 rows\n",
      "\n"
     ]
    },
    {
     "name": "stderr",
     "output_type": "stream",
     "text": [
      "                                                                                \r"
     ]
    },
    {
     "name": "stdout",
     "output_type": "stream",
     "text": [
      "+------------------------------+-------+--------+-------+\n",
      "|days_between_search_and_flight|MinFare|MeanFare|MaxFare|\n",
      "+------------------------------+-------+--------+-------+\n",
      "|                             1|  201.1|  416.45| 1880.1|\n",
      "|                             2|  201.1|  410.37| 1880.1|\n",
      "|                             3|  201.1|  411.11| 1880.1|\n",
      "|                             4|  201.1|  409.39| 597.11|\n",
      "|                             5|  201.1|  410.25| 1880.1|\n",
      "|                             6|  117.1|  359.94| 597.11|\n",
      "|                             7|  117.1|  358.38|  838.1|\n",
      "|                             8|  117.1|  357.48|  818.1|\n",
      "|                             9|   95.1|  357.73| 597.11|\n",
      "|                            10|   95.1|  357.18| 597.11|\n",
      "|                            11|   95.1|  358.01| 597.11|\n",
      "|                            12|   95.1|  359.32| 597.11|\n",
      "|                            13|   95.1|  359.43| 597.11|\n",
      "|                            14|   95.1|   215.2|  838.1|\n",
      "|                            15|   95.1|  213.79| 597.11|\n",
      "|                            16|   95.1|  213.38| 597.11|\n",
      "|                            17|   95.1|  215.67|  673.1|\n",
      "|                            18|   95.1|  216.31| 597.11|\n",
      "|                            19|   95.1|  217.38| 597.11|\n",
      "|                            20|   95.1|   219.2|  586.1|\n",
      "+------------------------------+-------+--------+-------+\n",
      "only showing top 20 rows\n",
      "\n"
     ]
    },
    {
     "name": "stderr",
     "output_type": "stream",
     "text": [
      "                                                                                \r"
     ]
    },
    {
     "name": "stdout",
     "output_type": "stream",
     "text": [
      "+------------------------------+-------+--------+-------+\n",
      "|days_between_search_and_flight|MinFare|MeanFare|MaxFare|\n",
      "+------------------------------+-------+--------+-------+\n",
      "|                             1| 380.61|  592.32| 2860.6|\n",
      "|                             2|  428.6|   570.5| 1649.6|\n",
      "|                             3|  428.6|   583.0| 1649.6|\n",
      "|                             4| 380.61|  593.25| 1649.6|\n",
      "|                             5| 380.61|  594.27| 2460.6|\n",
      "|                             6|  348.6|  561.74| 2460.6|\n",
      "|                             7|  348.6|  566.04| 2860.6|\n",
      "|                             8|  348.6|  561.99| 2860.6|\n",
      "|                             9|  348.6|  563.29| 2860.6|\n",
      "|                            10|  348.6|  555.62| 1649.6|\n",
      "|                            11|  348.6|  555.26| 1649.6|\n",
      "|                            12|  348.6|  551.84| 1649.6|\n",
      "|                            13|  348.6|   558.5| 1649.6|\n",
      "|                            14| 166.61|  531.83| 1649.6|\n",
      "|                            15| 166.61|  524.48| 1669.6|\n",
      "|                            16| 166.61|  524.17| 1669.6|\n",
      "|                            17| 166.61|  516.47| 1689.6|\n",
      "|                            18| 166.61|  514.98| 1689.6|\n",
      "|                            19| 166.61|  516.15| 1684.6|\n",
      "|                            20| 166.61|  510.67| 1684.6|\n",
      "+------------------------------+-------+--------+-------+\n",
      "only showing top 20 rows\n",
      "\n"
     ]
    },
    {
     "name": "stderr",
     "output_type": "stream",
     "text": [
      "                                                                                \r"
     ]
    },
    {
     "name": "stdout",
     "output_type": "stream",
     "text": [
      "+------------------------------+-------+--------+-------+\n",
      "|days_between_search_and_flight|MinFare|MeanFare|MaxFare|\n",
      "+------------------------------+-------+--------+-------+\n",
      "|                             1|   98.6|  222.94|  834.6|\n",
      "|                             2|   98.6|   199.4|  674.6|\n",
      "|                             3|   98.6|  200.62|  674.6|\n",
      "|                             4|   78.6|  189.95|  674.6|\n",
      "|                             5|   78.6|  201.89|  674.6|\n",
      "|                             6|   58.6|  185.41|  674.6|\n",
      "|                             7|   58.6|  181.65|  674.6|\n",
      "|                             8|   58.6|  175.94|  674.6|\n",
      "|                             9|   58.6|  173.38|  674.6|\n",
      "|                            10|   58.6|  168.77|  674.6|\n",
      "|                            11|   58.6|  163.81|  674.6|\n",
      "|                            12|   58.6|  160.78|  674.6|\n",
      "|                            13|   58.6|  154.81|  408.6|\n",
      "|                            14|   48.6|  154.63|  408.6|\n",
      "|                            15|   48.6|  150.97|  408.6|\n",
      "|                            16|   48.6|  152.87|  408.6|\n",
      "|                            17|   48.6|  153.48|  408.6|\n",
      "|                            18|   48.6|  153.16|  408.6|\n",
      "|                            19|   48.6|  148.73|  428.6|\n",
      "|                            20|   48.6|  147.06|  418.6|\n",
      "+------------------------------+-------+--------+-------+\n",
      "only showing top 20 rows\n",
      "\n"
     ]
    },
    {
     "name": "stderr",
     "output_type": "stream",
     "text": [
      "                                                                                \r"
     ]
    },
    {
     "name": "stdout",
     "output_type": "stream",
     "text": [
      "+------------------------------+-------+--------+-------+\n",
      "|days_between_search_and_flight|MinFare|MeanFare|MaxFare|\n",
      "+------------------------------+-------+--------+-------+\n",
      "|                             1|  140.6|  282.15| 1718.6|\n",
      "|                             2|  140.6|   268.2| 1718.6|\n",
      "|                             3|  140.6|  272.61| 1718.6|\n",
      "|                             4|  140.6|  272.61| 1718.6|\n",
      "|                             5|  140.6|  271.42| 1718.6|\n",
      "|                             6|   68.6|  260.92| 1718.6|\n",
      "|                             7|   68.6|  255.92| 1718.6|\n",
      "|                             8|   72.6|  251.78| 1718.6|\n",
      "|                             9|   72.6|   247.1| 1718.6|\n",
      "|                            10|   72.6|  243.32|  578.6|\n",
      "|                            11|   72.6|  245.15|  848.6|\n",
      "|                            12|   72.6|  243.92|  848.6|\n",
      "|                            13|   72.6|  241.94|  848.6|\n",
      "|                            14|   68.6|  233.19|  848.6|\n",
      "|                            15|   68.6|  233.07|  848.6|\n",
      "|                            16|   68.6|  230.84|  848.6|\n",
      "|                            17|   68.6|  231.97|  848.6|\n",
      "|                            18|   68.6|  232.74|  893.6|\n",
      "|                            19|   68.6|   229.7|  848.6|\n",
      "|                            20|   68.6|  225.63|  848.6|\n",
      "+------------------------------+-------+--------+-------+\n",
      "only showing top 20 rows\n",
      "\n"
     ]
    },
    {
     "name": "stderr",
     "output_type": "stream",
     "text": [
      "                                                                                \r"
     ]
    },
    {
     "name": "stdout",
     "output_type": "stream",
     "text": [
      "+------------------------------+-------+--------+-------+\n",
      "|days_between_search_and_flight|MinFare|MeanFare|MaxFare|\n",
      "+------------------------------+-------+--------+-------+\n",
      "|                             1|   77.1|  309.39| 1664.1|\n",
      "|                             2|   77.1|  275.77| 1664.1|\n",
      "|                             3|   77.1|  271.04| 1664.1|\n",
      "|                             4|   72.1|  263.36| 1664.1|\n",
      "|                             5|   72.1|  261.75| 1664.1|\n",
      "|                             6|   67.1|  241.95| 1664.1|\n",
      "|                             7|   67.1|  236.44| 1664.1|\n",
      "|                             8|   67.1|  238.09| 1664.1|\n",
      "|                             9|   67.1|  231.11|  815.1|\n",
      "|                            10|   67.1|  229.66|  933.1|\n",
      "|                            11|   67.1|  229.92|  933.1|\n",
      "|                            12|   67.1|   226.1|  783.1|\n",
      "|                            13|   67.1|  226.61|  825.1|\n",
      "|                            14|   67.1|  222.39|  825.1|\n",
      "|                            15|   67.1|  219.08|  783.1|\n",
      "|                            16|   67.1|  218.27|  825.1|\n",
      "|                            17|   67.1|  220.04|  825.1|\n",
      "|                            18|   67.1|  220.61|  783.1|\n",
      "|                            19|   67.1|  220.95|  783.1|\n",
      "|                            20|   67.1|  221.67|  783.1|\n",
      "+------------------------------+-------+--------+-------+\n",
      "only showing top 20 rows\n",
      "\n"
     ]
    },
    {
     "name": "stderr",
     "output_type": "stream",
     "text": [
      "                                                                                \r"
     ]
    },
    {
     "name": "stdout",
     "output_type": "stream",
     "text": [
      "+------------------------------+-------+--------+-------+\n",
      "|days_between_search_and_flight|MinFare|MeanFare|MaxFare|\n",
      "+------------------------------+-------+--------+-------+\n",
      "|                             1|   98.6|  301.94| 2601.6|\n",
      "|                             2|   78.6|  253.93| 2201.6|\n",
      "|                             3|   78.6|  255.35| 2201.6|\n",
      "|                             4|   78.6|  253.58| 2201.6|\n",
      "|                             5|   78.6|  251.85| 1128.6|\n",
      "|                             6|   78.6|  244.74| 1116.6|\n",
      "|                             7|   68.6|  241.75| 1121.6|\n",
      "|                             8|   68.6|  239.09| 1116.6|\n",
      "|                             9|   68.6|   230.1| 1116.6|\n",
      "|                            10|   68.6|  226.12| 1116.6|\n",
      "|                            11|   68.6|  227.14| 1116.6|\n",
      "|                            12|   63.6|  224.75| 1116.6|\n",
      "|                            13|   63.6|  225.83| 928.61|\n",
      "|                            14|   63.6|  221.13| 1116.6|\n",
      "|                            15|   63.6|  219.06| 928.61|\n",
      "|                            16|   68.6|  217.04| 933.61|\n",
      "|                            17|   68.6|  217.97| 933.61|\n",
      "|                            18|   68.6|  219.69| 933.61|\n",
      "|                            19|   63.6|  217.69|  918.6|\n",
      "|                            20|   63.6|  215.65| 638.61|\n",
      "+------------------------------+-------+--------+-------+\n",
      "only showing top 20 rows\n",
      "\n"
     ]
    },
    {
     "name": "stderr",
     "output_type": "stream",
     "text": [
      "                                                                                \r"
     ]
    },
    {
     "name": "stdout",
     "output_type": "stream",
     "text": [
      "+------------------------------+-------+--------+-------+\n",
      "|days_between_search_and_flight|MinFare|MeanFare|MaxFare|\n",
      "+------------------------------+-------+--------+-------+\n",
      "|                             1|  155.6|  270.15| 1675.6|\n",
      "|                             2|  155.6|  241.49| 1675.6|\n",
      "|                             3|  155.6|  238.76| 1675.6|\n",
      "|                             4|  155.6|  232.96| 1675.6|\n",
      "|                             5|  159.6|  232.65| 1675.6|\n",
      "|                             6|   88.6|  220.92|1197.61|\n",
      "|                             7|   88.6|  218.44|1197.61|\n",
      "|                             8|   88.6|  213.56|1197.61|\n",
      "|                             9|   88.6|   208.9| 1239.6|\n",
      "|                            10|   88.6|  207.04|  905.6|\n",
      "|                            11|   88.6|  206.73|  758.6|\n",
      "|                            12|   75.6|  208.37|  905.6|\n",
      "|                            13|   65.6|  210.83|1028.61|\n",
      "|                            14|   65.6|  190.42|  678.6|\n",
      "|                            15|   65.6|  189.61|1197.61|\n",
      "|                            16|   65.6|   188.8|  830.6|\n",
      "|                            17|   65.6|   189.5|  830.6|\n",
      "|                            18|   65.6|  190.49| 1675.6|\n",
      "|                            19|   65.6|  191.63| 1675.6|\n",
      "|                            20|   65.6|  190.62|  758.6|\n",
      "+------------------------------+-------+--------+-------+\n",
      "only showing top 20 rows\n",
      "\n"
     ]
    },
    {
     "name": "stderr",
     "output_type": "stream",
     "text": [
      "                                                                                \r"
     ]
    },
    {
     "name": "stdout",
     "output_type": "stream",
     "text": [
      "+------------------------------+-------+--------+-------+\n",
      "|days_between_search_and_flight|MinFare|MeanFare|MaxFare|\n",
      "+------------------------------+-------+--------+-------+\n",
      "|                             1|  258.6|   469.3|3004.61|\n",
      "|                             2|  223.6|   429.9|3004.61|\n",
      "|                             3|  223.6|  445.13|3004.61|\n",
      "|                             4|  223.6|  449.56|3004.61|\n",
      "|                             5|  223.6|  451.95|3004.61|\n",
      "|                             6|  198.6|  467.69| 1281.6|\n",
      "|                             7|  198.6|  467.93| 1281.6|\n",
      "|                             8|  198.6|  471.82| 1281.6|\n",
      "|                             9|  198.6|  473.28| 1281.6|\n",
      "|                            10|  198.6|  469.23| 1281.6|\n",
      "|                            11|  198.6|  472.58| 1281.6|\n",
      "|                            12|  198.6|  474.74| 1281.6|\n",
      "|                            13|  198.6|  474.65| 1281.6|\n",
      "|                            14|  148.6|  470.23| 1281.6|\n",
      "|                            15|  148.6|  475.74|3004.61|\n",
      "|                            16|  148.6|  470.67| 1281.6|\n",
      "|                            17|  148.6|  465.35| 1281.6|\n",
      "|                            18|  148.6|  462.14| 1281.6|\n",
      "|                            19|  148.6|  469.72| 1281.6|\n",
      "|                            20|  148.6|   469.6| 1281.6|\n",
      "+------------------------------+-------+--------+-------+\n",
      "only showing top 20 rows\n",
      "\n"
     ]
    },
    {
     "name": "stderr",
     "output_type": "stream",
     "text": [
      "                                                                                \r"
     ]
    },
    {
     "name": "stdout",
     "output_type": "stream",
     "text": [
      "+------------------------------+-------+--------+-------+\n",
      "|days_between_search_and_flight|MinFare|MeanFare|MaxFare|\n",
      "+------------------------------+-------+--------+-------+\n",
      "|                             1|  59.99|  185.34| 343.98|\n",
      "|                             2|  83.98|  164.11| 393.99|\n",
      "|                             3|  73.98|  163.58| 227.99|\n",
      "|                             4|  73.98|  154.75| 227.99|\n",
      "|                             5|  59.99|   150.5| 343.98|\n",
      "|                             6|  59.99|  116.01| 393.99|\n",
      "|                             7|  59.99|  118.49| 393.99|\n",
      "|                             8|  59.99|  119.69| 210.98|\n",
      "|                             9|  66.99|  129.97| 393.99|\n",
      "|                            10|  66.99|   127.5| 393.99|\n",
      "|                            11|  73.98|  122.92| 393.99|\n",
      "|                            12|  63.99|  119.51| 393.99|\n",
      "|                            13|  57.99|  117.98| 393.99|\n",
      "|                            14|  43.98|  107.78| 393.99|\n",
      "|                            15|  43.98|  110.88| 393.99|\n",
      "|                            16|  43.98|  118.87| 413.98|\n",
      "|                            17|  43.98|  106.55| 413.98|\n",
      "|                            18|  43.98|  103.86| 413.98|\n",
      "|                            19|  43.98|   99.54| 413.98|\n",
      "|                            20|  43.98|   98.64| 413.98|\n",
      "+------------------------------+-------+--------+-------+\n",
      "only showing top 20 rows\n",
      "\n"
     ]
    },
    {
     "name": "stderr",
     "output_type": "stream",
     "text": [
      "                                                                                \r"
     ]
    },
    {
     "name": "stdout",
     "output_type": "stream",
     "text": [
      "+------------------------------+-------+--------+-------+\n",
      "|days_between_search_and_flight|MinFare|MeanFare|MaxFare|\n",
      "+------------------------------+-------+--------+-------+\n",
      "|                             1|  161.6|  347.76| 1867.6|\n",
      "|                             2| 123.61|  325.22| 1867.6|\n",
      "|                             3| 123.61|  314.58| 1867.6|\n",
      "|                             4| 123.61|  309.55| 1346.6|\n",
      "|                             5| 123.61|  306.13| 1346.6|\n",
      "|                             6|  102.6|   288.3| 1346.6|\n",
      "|                             7|  102.6|  284.82| 1346.6|\n",
      "|                             8| 123.61|  284.06| 1346.6|\n",
      "|                             9|  102.6|  280.82| 1346.6|\n",
      "|                            10|  102.6|  268.68| 1346.6|\n",
      "|                            11|  102.6|  270.01| 1346.6|\n",
      "|                            12|  102.6|  270.45| 1346.6|\n",
      "|                            13|  102.6|  271.75| 1346.6|\n",
      "|                            14|  102.6|  236.43| 1346.6|\n",
      "|                            15|  102.6|  235.36| 1346.6|\n",
      "|                            16|  102.6|  234.54| 1346.6|\n",
      "|                            17|  102.6|  236.44| 1346.6|\n",
      "|                            18|  102.6|  237.17| 1346.6|\n",
      "|                            19|  102.6|  238.84| 1346.6|\n",
      "|                            20|  102.6|  236.19| 1346.6|\n",
      "+------------------------------+-------+--------+-------+\n",
      "only showing top 20 rows\n",
      "\n"
     ]
    },
    {
     "name": "stderr",
     "output_type": "stream",
     "text": [
      "                                                                                \r"
     ]
    },
    {
     "name": "stdout",
     "output_type": "stream",
     "text": [
      "+------------------------------+-------+--------+-------+\n",
      "|days_between_search_and_flight|MinFare|MeanFare|MaxFare|\n",
      "+------------------------------+-------+--------+-------+\n",
      "|                             1|  145.6|  295.64| 2412.6|\n",
      "|                             2|  103.6|  239.66| 2412.6|\n",
      "|                             3|   93.6|  221.06| 2412.6|\n",
      "|                             4|   58.6|  212.09| 1203.6|\n",
      "|                             5|   58.6|   206.0| 1203.6|\n",
      "|                             6|   58.6|  188.19| 1203.6|\n",
      "|                             7|   58.6|  181.46| 2012.6|\n",
      "|                             8|   58.6|  178.75| 2012.6|\n",
      "|                             9|   58.6|  173.18| 1203.6|\n",
      "|                            10|   58.6|  167.62|  658.6|\n",
      "|                            11|   58.6|  165.86|  658.6|\n",
      "|                            12|   58.6|  163.09| 898.61|\n",
      "|                            13|   58.6|  160.99| 898.61|\n",
      "|                            14|   48.6|  157.82| 898.61|\n",
      "|                            15|   48.6|   159.2| 898.61|\n",
      "|                            16|   48.6|  160.05| 898.61|\n",
      "|                            17|   48.6|  162.88| 898.61|\n",
      "|                            18|   48.6|  161.85| 898.61|\n",
      "|                            19|   48.6|  158.69| 898.61|\n",
      "|                            20|   48.6|  157.29|  498.6|\n",
      "+------------------------------+-------+--------+-------+\n",
      "only showing top 20 rows\n",
      "\n"
     ]
    },
    {
     "name": "stderr",
     "output_type": "stream",
     "text": [
      "                                                                                \r"
     ]
    },
    {
     "name": "stdout",
     "output_type": "stream",
     "text": [
      "+------------------------------+-------+--------+-------+\n",
      "|days_between_search_and_flight|MinFare|MeanFare|MaxFare|\n",
      "+------------------------------+-------+--------+-------+\n",
      "|                             1| 123.61|  281.92| 1599.6|\n",
      "|                             2|  108.6|  240.63| 1599.6|\n",
      "|                             3|  108.6|  235.19|  998.6|\n",
      "|                             4|   98.6|  235.47|  998.6|\n",
      "|                             5|   98.6|  240.49|  793.6|\n",
      "|                             6|   88.6|  232.97|  788.6|\n",
      "|                             7|   88.6|  229.81|  998.6|\n",
      "|                             8|   88.6|  234.68| 1293.6|\n",
      "|                             9|   88.6|  233.68| 1293.6|\n",
      "|                            10|   88.6|  232.83|1283.61|\n",
      "|                            11|   88.6|  237.51| 1033.6|\n",
      "|                            12|   88.6|   244.4| 1033.6|\n",
      "|                            13|   88.6|   245.3| 1033.6|\n",
      "|                            14|   88.6|  241.65| 1033.6|\n",
      "|                            15|   88.6|  242.68| 1033.6|\n",
      "|                            16|   88.6|  240.53|  753.6|\n",
      "|                            17|   88.6|  241.32| 1033.6|\n",
      "|                            18|   88.6|   243.7|  793.6|\n",
      "|                            19|   88.6|  244.17|  793.6|\n",
      "|                            20|   88.6|  243.69| 1033.6|\n",
      "+------------------------------+-------+--------+-------+\n",
      "only showing top 20 rows\n",
      "\n"
     ]
    },
    {
     "name": "stderr",
     "output_type": "stream",
     "text": [
      "                                                                                \r"
     ]
    },
    {
     "name": "stdout",
     "output_type": "stream",
     "text": [
      "+------------------------------+-------+--------+-------+\n",
      "|days_between_search_and_flight|MinFare|MeanFare|MaxFare|\n",
      "+------------------------------+-------+--------+-------+\n",
      "|                             1|  558.6|  622.52| 1784.6|\n",
      "|                             2|  558.6|  617.06| 1248.6|\n",
      "|                             3|  558.6|  621.74| 1293.6|\n",
      "|                             4|  558.6|  621.02| 1293.6|\n",
      "|                             5|  558.6|   617.3| 1293.6|\n",
      "|                             6|  458.6|  533.54| 1248.6|\n",
      "|                             7|  458.6|  532.08| 1248.6|\n",
      "|                             8|  458.6|  531.31| 1293.6|\n",
      "|                             9|  458.6|   530.8| 1293.6|\n",
      "|                            10|  458.6|  528.58|  998.6|\n",
      "|                            11|  458.6|  530.57| 1293.6|\n",
      "|                            12|  458.6|  530.89| 1293.6|\n",
      "|                            13|  458.6|  533.17| 1293.6|\n",
      "|                            14|  358.6|  467.78| 1293.6|\n",
      "|                            15|  358.6|  470.34| 1293.6|\n",
      "|                            16|  358.6|  471.93| 1248.6|\n",
      "|                            17|  358.6|  473.82|1028.61|\n",
      "|                            18|  358.6|  476.63|1028.61|\n",
      "|                            19|  358.6|  474.99|1028.61|\n",
      "|                            20|  358.6|  476.35|1028.61|\n",
      "+------------------------------+-------+--------+-------+\n",
      "only showing top 20 rows\n",
      "\n"
     ]
    },
    {
     "name": "stderr",
     "output_type": "stream",
     "text": [
      "                                                                                \r"
     ]
    },
    {
     "name": "stdout",
     "output_type": "stream",
     "text": [
      "+------------------------------+-------+--------+-------+\n",
      "|days_between_search_and_flight|MinFare|MeanFare|MaxFare|\n",
      "+------------------------------+-------+--------+-------+\n",
      "|                             1|   98.6|  204.63|  734.6|\n",
      "|                             2|   98.6|  179.28|  714.6|\n",
      "|                             3|   78.6|   184.1|  674.6|\n",
      "|                             4|   78.6|  172.64|  674.6|\n",
      "|                             5|   78.6|   177.6|  674.6|\n",
      "|                             6|   58.6|  161.81|  674.6|\n",
      "|                             7|   58.6|  158.82|  674.6|\n",
      "|                             8|   58.6|  140.45|  674.6|\n",
      "|                             9|   58.6|  136.38|  674.6|\n",
      "|                            10|   58.6|  130.24|  674.6|\n",
      "|                            11|   58.6|   129.5|  674.6|\n",
      "|                            12|   58.6|  126.34|  674.6|\n",
      "|                            13|   58.6|  120.15|  398.6|\n",
      "|                            14|   48.6|  122.38| 338.61|\n",
      "|                            15|   48.6|  123.58|  674.6|\n",
      "|                            16|   48.6|  120.19| 338.61|\n",
      "|                            17|   48.6|  119.25|  353.6|\n",
      "|                            18|   48.6|  118.49| 338.61|\n",
      "|                            19|   48.6|   115.6|  398.6|\n",
      "|                            20|   48.6|  114.48|  318.6|\n",
      "+------------------------------+-------+--------+-------+\n",
      "only showing top 20 rows\n",
      "\n"
     ]
    },
    {
     "name": "stderr",
     "output_type": "stream",
     "text": [
      "                                                                                \r"
     ]
    },
    {
     "name": "stdout",
     "output_type": "stream",
     "text": [
      "+------------------------------+-------+--------+-------+\n",
      "|days_between_search_and_flight|MinFare|MeanFare|MaxFare|\n",
      "+------------------------------+-------+--------+-------+\n",
      "|                             1|  183.6|  279.94| 1347.6|\n",
      "|                             2|  183.6|  263.87| 1347.6|\n",
      "|                             3|  183.6|  262.65|1198.61|\n",
      "|                             4|  183.6|  260.14|  798.6|\n",
      "|                             5|  183.6|  261.57|  798.6|\n",
      "|                             6|   92.6|   224.4|  798.6|\n",
      "|                             7|   92.6|  215.91|  798.6|\n",
      "|                             8|  118.6|  213.94|  798.6|\n",
      "|                             9|   83.6|  210.85|  798.6|\n",
      "|                            10|   83.6|  208.02|  798.6|\n",
      "|                            11|   83.6|  208.76|  798.6|\n",
      "|                            12|   83.6|  208.03|  798.6|\n",
      "|                            13|   83.6|  207.49|  798.6|\n",
      "|                            14|   83.6|  191.75|  798.6|\n",
      "|                            15|   83.6|  190.19|  798.6|\n",
      "|                            16|   83.6|  189.38|  878.6|\n",
      "|                            17|   83.6|  191.14|  878.6|\n",
      "|                            18|   83.6|  190.84|  698.6|\n",
      "|                            19|   83.6|  189.61|  878.6|\n",
      "|                            20|   83.6|  188.97|  878.6|\n",
      "+------------------------------+-------+--------+-------+\n",
      "only showing top 20 rows\n",
      "\n"
     ]
    },
    {
     "name": "stderr",
     "output_type": "stream",
     "text": [
      "                                                                                \r"
     ]
    },
    {
     "name": "stdout",
     "output_type": "stream",
     "text": [
      "+------------------------------+-------+--------+-------+\n",
      "|days_between_search_and_flight|MinFare|MeanFare|MaxFare|\n",
      "+------------------------------+-------+--------+-------+\n",
      "|                             1|  138.6|  348.61|1359.61|\n",
      "|                             2|   58.6|  268.22|1284.61|\n",
      "|                             3|   58.6|  265.17|1284.61|\n",
      "|                             4|   58.6|  254.68|  948.6|\n",
      "|                             5|   53.6|  254.97|  948.6|\n",
      "|                             6|   53.6|  233.72|  948.6|\n",
      "|                             7|   53.6|  238.01|1359.61|\n",
      "|                             8|   58.6|  233.78|1359.61|\n",
      "|                             9|   58.6|  227.92|  948.6|\n",
      "|                            10|   58.6|  224.55| 983.61|\n",
      "|                            11|   58.6|  221.31|  948.6|\n",
      "|                            12|   53.6|  220.26|  843.6|\n",
      "|                            13|   53.6|  214.68|  843.6|\n",
      "|                            14|   53.6|  209.83|  948.6|\n",
      "|                            15|   53.6|  210.53|  843.6|\n",
      "|                            16|   58.6|  206.87| 720.19|\n",
      "|                            17|   58.6|   204.3|  798.6|\n",
      "|                            18|   53.6|  203.76|  708.6|\n",
      "|                            19|   53.6|  198.73| 696.99|\n",
      "|                            20|   53.6|  197.34|  798.6|\n",
      "+------------------------------+-------+--------+-------+\n",
      "only showing top 20 rows\n",
      "\n"
     ]
    },
    {
     "name": "stderr",
     "output_type": "stream",
     "text": [
      "                                                                                \r"
     ]
    },
    {
     "name": "stdout",
     "output_type": "stream",
     "text": [
      "+------------------------------+-------+--------+-------+\n",
      "|days_between_search_and_flight|MinFare|MeanFare|MaxFare|\n",
      "+------------------------------+-------+--------+-------+\n",
      "|                             1|  159.6|  502.92|1627.61|\n",
      "|                             2|  159.6|  504.63|1627.61|\n",
      "|                             3|  159.6|  499.71|1627.61|\n",
      "|                             4|  159.6|  496.62|1627.61|\n",
      "|                             5|  159.6|   497.6|1627.61|\n",
      "|                             6|  151.6|  390.88| 899.61|\n",
      "|                             7|  151.6|  377.51| 899.61|\n",
      "|                             8|  151.6|  376.16|1627.61|\n",
      "|                             9|  119.6|  374.91|1627.61|\n",
      "|                            10|  119.6|  370.62| 899.61|\n",
      "|                            11|  119.6|  371.28|1627.61|\n",
      "|                            12|  119.6|  370.29|1627.61|\n",
      "|                            13|  119.6|  371.33|1627.61|\n",
      "|                            14|   98.6|  278.57| 899.61|\n",
      "|                            15|   94.6|  278.72| 899.61|\n",
      "|                            16|   94.6|  276.16|1627.61|\n",
      "|                            17|   94.6|  276.36|1627.61|\n",
      "|                            18|   94.6|  276.45|1627.61|\n",
      "|                            19|   98.6|  276.92|1627.61|\n",
      "|                            20|   94.6|  274.03|1627.61|\n",
      "+------------------------------+-------+--------+-------+\n",
      "only showing top 20 rows\n",
      "\n"
     ]
    },
    {
     "name": "stderr",
     "output_type": "stream",
     "text": [
      "                                                                                \r"
     ]
    },
    {
     "name": "stdout",
     "output_type": "stream",
     "text": [
      "+------------------------------+-------+--------+-------+\n",
      "|days_between_search_and_flight|MinFare|MeanFare|MaxFare|\n",
      "+------------------------------+-------+--------+-------+\n",
      "|                             1|   98.6|  307.13| 2601.6|\n",
      "|                             2|   78.6|  261.71| 1121.6|\n",
      "|                             3|   78.6|  257.38| 1121.6|\n",
      "|                             4|   78.6|  252.61|  703.6|\n",
      "|                             5|   78.6|  249.22|  698.6|\n",
      "|                             6|   63.6|  241.45| 1116.6|\n",
      "|                             7|   63.6|  234.65| 2601.6|\n",
      "|                             8|   68.6|  235.34| 1121.6|\n",
      "|                             9|   68.6|  233.58| 1121.6|\n",
      "|                            10|   68.6|   230.0| 1121.6|\n",
      "|                            11|   68.6|  232.42| 1116.6|\n",
      "|                            12|   68.6|  230.17| 1116.6|\n",
      "|                            13|   63.6|  230.74| 1098.6|\n",
      "|                            14|   63.6|  229.25| 1098.6|\n",
      "|                            15|   68.6|  225.69| 1116.6|\n",
      "|                            16|   68.6|  224.72| 1098.6|\n",
      "|                            17|   68.6|  224.61| 1116.6|\n",
      "|                            18|   68.6|  226.13| 1116.6|\n",
      "|                            19|   63.6|  221.37| 1098.6|\n",
      "|                            20|   63.6|  220.88| 1098.6|\n",
      "+------------------------------+-------+--------+-------+\n",
      "only showing top 20 rows\n",
      "\n"
     ]
    },
    {
     "name": "stderr",
     "output_type": "stream",
     "text": [
      "                                                                                \r"
     ]
    },
    {
     "name": "stdout",
     "output_type": "stream",
     "text": [
      "+------------------------------+-------+--------+-------+\n",
      "|days_between_search_and_flight|MinFare|MeanFare|MaxFare|\n",
      "+------------------------------+-------+--------+-------+\n",
      "|                             1| 133.98|  371.15| 2097.6|\n",
      "|                             2| 103.99|  352.46| 2088.6|\n",
      "|                             3| 103.99|   351.6| 2088.6|\n",
      "|                             4|  93.99|  354.78|1198.61|\n",
      "|                             5|  93.99|   356.5| 1598.6|\n",
      "|                             6|  93.99|  337.63| 1598.6|\n",
      "|                             7|  93.99|  335.85| 2088.6|\n",
      "|                             8|  93.99|  338.39| 2088.6|\n",
      "|                             9|  93.99|  333.53| 2088.6|\n",
      "|                            10|  93.99|  329.41| 2088.6|\n",
      "|                            11|  93.99|  332.69| 2088.6|\n",
      "|                            12|  93.99|  336.44| 2088.6|\n",
      "|                            13|  93.99|  335.19| 2088.6|\n",
      "|                            14|  93.99|  322.48|1198.61|\n",
      "|                            15|  93.99|  319.71| 1048.6|\n",
      "|                            16|  93.99|   318.9| 1048.6|\n",
      "|                            17|  93.99|  322.74| 2088.6|\n",
      "|                            18|  93.99|  325.54| 2088.6|\n",
      "|                            19|  93.99|  322.56| 1087.6|\n",
      "|                            20|  93.99|  320.45| 1087.6|\n",
      "+------------------------------+-------+--------+-------+\n",
      "only showing top 20 rows\n",
      "\n"
     ]
    },
    {
     "name": "stderr",
     "output_type": "stream",
     "text": [
      "                                                                                \r"
     ]
    },
    {
     "name": "stdout",
     "output_type": "stream",
     "text": [
      "+------------------------------+-------+--------+-------+\n",
      "|days_between_search_and_flight|MinFare|MeanFare|MaxFare|\n",
      "+------------------------------+-------+--------+-------+\n",
      "|                             1|  33.97|  306.33| 2049.6|\n",
      "|                             2|  33.97|  233.74| 2049.6|\n",
      "|                             3|  33.97|  226.64| 2049.6|\n",
      "|                             4|  33.97|  216.89| 2049.6|\n",
      "|                             5|  33.97|  215.49| 2049.6|\n",
      "|                             6|  23.97|  200.44| 2049.6|\n",
      "|                             7|  23.97|  201.98| 2049.6|\n",
      "|                             8|  23.97|  197.88| 2049.6|\n",
      "|                             9|  23.97|  193.48|  956.6|\n",
      "|                            10|  23.97|  189.72|  956.6|\n",
      "|                            11|  23.97|  190.78|  888.6|\n",
      "|                            12|  23.97|  189.96| 1144.6|\n",
      "|                            13|  23.97|  188.94|  827.6|\n",
      "|                            14|  23.97|  181.63|  956.6|\n",
      "|                            15|  23.97|  180.58|  956.6|\n",
      "|                            16|  23.97|  178.62|  827.6|\n",
      "|                            17|  23.97|  177.44|  784.6|\n",
      "|                            18|  23.97|  178.15|  588.6|\n",
      "|                            19|  23.97|  179.89|  784.6|\n",
      "|                            20|  23.97|  183.22|  738.6|\n",
      "+------------------------------+-------+--------+-------+\n",
      "only showing top 20 rows\n",
      "\n"
     ]
    },
    {
     "name": "stderr",
     "output_type": "stream",
     "text": [
      "                                                                                \r"
     ]
    },
    {
     "name": "stdout",
     "output_type": "stream",
     "text": [
      "+------------------------------+-------+--------+-------+\n",
      "|days_between_search_and_flight|MinFare|MeanFare|MaxFare|\n",
      "+------------------------------+-------+--------+-------+\n",
      "|                             1|  83.98|  278.15| 1723.6|\n",
      "|                             2|  63.99|  257.73| 1693.6|\n",
      "|                             3|  63.99|  259.58| 1723.6|\n",
      "|                             4|  63.99|  257.21| 1693.6|\n",
      "|                             5|  54.99|  251.95| 1693.6|\n",
      "|                             6|  47.98|  211.32| 1693.6|\n",
      "|                             7|  53.99|  206.96| 1693.6|\n",
      "|                             8|  33.97|  204.63| 1693.6|\n",
      "|                             9|  33.97|  199.63|  998.6|\n",
      "|                            10|  52.99|  198.78| 1693.6|\n",
      "|                            11|  52.99|  197.99|  998.6|\n",
      "|                            12|  43.98|  198.39| 1547.6|\n",
      "|                            13|  33.97|   196.4| 1693.6|\n",
      "|                            14|  33.97|  182.75| 1693.6|\n",
      "|                            15|  33.97|  182.57| 1693.6|\n",
      "|                            16|  33.97|  182.72| 1693.6|\n",
      "|                            17|  33.97|  182.55| 1693.6|\n",
      "|                            18|  33.97|  181.55| 1693.6|\n",
      "|                            19|  33.97|  179.05| 1693.6|\n",
      "|                            20|  45.98|  177.89| 1693.6|\n",
      "+------------------------------+-------+--------+-------+\n",
      "only showing top 20 rows\n",
      "\n"
     ]
    },
    {
     "name": "stderr",
     "output_type": "stream",
     "text": [
      "                                                                                \r"
     ]
    },
    {
     "name": "stdout",
     "output_type": "stream",
     "text": [
      "+------------------------------+-------+--------+-------+\n",
      "|days_between_search_and_flight|MinFare|MeanFare|MaxFare|\n",
      "+------------------------------+-------+--------+-------+\n",
      "|                             1|  244.6|  368.93| 1309.6|\n",
      "|                             2|  244.6|  336.29| 1239.6|\n",
      "|                             3|  244.6|  317.31| 1239.6|\n",
      "|                             4|  244.6|  308.35| 1239.6|\n",
      "|                             5|  244.6|  309.92|1197.61|\n",
      "|                             6|  128.6|  299.65|1197.61|\n",
      "|                             7|  128.6|   304.0|1197.61|\n",
      "|                             8|  128.6|  292.49|1197.61|\n",
      "|                             9|  128.6|  291.92| 1309.6|\n",
      "|                            10|  238.6|  288.97|1197.61|\n",
      "|                            11|  238.6|  290.54|1197.61|\n",
      "|                            12|  238.6|  291.03|1197.61|\n",
      "|                            13|  238.6|  290.85|1197.61|\n",
      "|                            14|  110.6|  249.26|1197.61|\n",
      "|                            15|  110.6|   251.5|1277.61|\n",
      "|                            16|  110.6|  250.73|1277.61|\n",
      "|                            17|  110.6|  252.89|1277.61|\n",
      "|                            18|  110.6|  254.88|1277.61|\n",
      "|                            19|  110.6|  251.88| 1309.6|\n",
      "|                            20|  110.6|   252.0| 1309.6|\n",
      "+------------------------------+-------+--------+-------+\n",
      "only showing top 20 rows\n",
      "\n"
     ]
    },
    {
     "name": "stderr",
     "output_type": "stream",
     "text": [
      "                                                                                \r"
     ]
    },
    {
     "name": "stdout",
     "output_type": "stream",
     "text": [
      "+------------------------------+-------+--------+-------+\n",
      "|days_between_search_and_flight|MinFare|MeanFare|MaxFare|\n",
      "+------------------------------+-------+--------+-------+\n",
      "|                             1|  202.6|  477.11| 2010.6|\n",
      "|                             2|  202.6|  467.78| 2010.6|\n",
      "|                             3|  202.6|  466.73| 2010.6|\n",
      "|                             4|  202.6|  463.34| 2010.6|\n",
      "|                             5|  202.6|  462.49| 2010.6|\n",
      "|                             6|  202.6|  371.59|  568.6|\n",
      "|                             7|  202.6|  361.56|  850.6|\n",
      "|                             8|  202.6|  361.44|  850.6|\n",
      "|                             9|  202.6|   361.2|  850.6|\n",
      "|                            10|  202.6|  360.65|  850.6|\n",
      "|                            11|  202.6|   361.1|  558.6|\n",
      "|                            12|  202.6|  361.38|  850.6|\n",
      "|                            13|  202.6|  361.41|  850.6|\n",
      "|                            14|  104.6|  259.83| 2010.6|\n",
      "|                            15|  154.6|  260.44| 2010.6|\n",
      "|                            16|  154.6|  258.96| 2010.6|\n",
      "|                            17|  154.6|  258.68| 2010.6|\n",
      "|                            18|  104.6|  259.25| 2010.6|\n",
      "|                            19|  104.6|   259.3| 2010.6|\n",
      "|                            20|  104.6|  256.23| 2010.6|\n",
      "+------------------------------+-------+--------+-------+\n",
      "only showing top 20 rows\n",
      "\n"
     ]
    },
    {
     "name": "stderr",
     "output_type": "stream",
     "text": [
      "                                                                                \r"
     ]
    },
    {
     "name": "stdout",
     "output_type": "stream",
     "text": [
      "+------------------------------+-------+--------+-------+\n",
      "|days_between_search_and_flight|MinFare|MeanFare|MaxFare|\n",
      "+------------------------------+-------+--------+-------+\n",
      "|                             1| 183.99|  609.89| 2258.6|\n",
      "|                             2| 143.99|  597.55| 1298.6|\n",
      "|                             3| 143.99|   598.8| 1784.6|\n",
      "|                             4|  93.99|  599.19| 1784.6|\n",
      "|                             5|  93.99|  601.56| 1784.6|\n",
      "|                             6|  93.99|   514.3| 1784.6|\n",
      "|                             7|  93.99|  509.31| 1859.6|\n",
      "|                             8| 103.99|  506.81| 1877.6|\n",
      "|                             9| 103.99|  504.61| 1877.6|\n",
      "|                            10| 103.99|  504.07| 1288.6|\n",
      "|                            11|  93.99|  506.61| 1288.6|\n",
      "|                            12|  93.99|  507.33| 1288.6|\n",
      "|                            13|  93.99|  507.58| 1288.6|\n",
      "|                            14|  93.99|  440.66| 1288.6|\n",
      "|                            15| 102.99|  441.69| 1288.6|\n",
      "|                            16| 102.99|  441.68| 1288.6|\n",
      "|                            17|  93.99|  443.12| 1288.6|\n",
      "|                            18|  93.99|  443.93| 1288.6|\n",
      "|                            19|  93.99|  444.05| 1288.6|\n",
      "|                            20|   64.6|  444.41| 1288.6|\n",
      "+------------------------------+-------+--------+-------+\n",
      "only showing top 20 rows\n",
      "\n"
     ]
    },
    {
     "name": "stderr",
     "output_type": "stream",
     "text": [
      "                                                                                \r"
     ]
    },
    {
     "name": "stdout",
     "output_type": "stream",
     "text": [
      "+------------------------------+-------+--------+-------+\n",
      "|days_between_search_and_flight|MinFare|MeanFare|MaxFare|\n",
      "+------------------------------+-------+--------+-------+\n",
      "|                             1|   98.6|  338.03| 1004.6|\n",
      "|                             2|   68.6|  328.76|  848.6|\n",
      "|                             3|   68.6|  326.82|  848.6|\n",
      "|                             4|   68.6|  320.82|  848.6|\n",
      "|                             5|   68.6|  314.75|  848.6|\n",
      "|                             6|   68.6|  282.01|  848.6|\n",
      "|                             7|   68.6|  279.14|  848.6|\n",
      "|                             8|   68.6|   278.8|  848.6|\n",
      "|                             9|   68.6|  280.64|  848.6|\n",
      "|                            10|   68.6|  280.78|  848.6|\n",
      "|                            11|   68.6|  280.22|  848.6|\n",
      "|                            12|   68.6|  267.67|  848.6|\n",
      "|                            13|   68.6|  256.77|  848.6|\n",
      "|                            14|   68.6|  216.56|  848.6|\n",
      "|                            15|   68.6|  215.16|  848.6|\n",
      "|                            16|   68.6|  213.47|  848.6|\n",
      "|                            17|   68.6|  215.98|  848.6|\n",
      "|                            18|   68.6|  214.31|  883.6|\n",
      "|                            19|   68.6|  210.39|  883.6|\n",
      "|                            20|   68.6|  215.21|  883.6|\n",
      "+------------------------------+-------+--------+-------+\n",
      "only showing top 20 rows\n",
      "\n"
     ]
    },
    {
     "name": "stderr",
     "output_type": "stream",
     "text": [
      "                                                                                \r"
     ]
    },
    {
     "name": "stdout",
     "output_type": "stream",
     "text": [
      "+------------------------------+-------+--------+-------+\n",
      "|days_between_search_and_flight|MinFare|MeanFare|MaxFare|\n",
      "+------------------------------+-------+--------+-------+\n",
      "|                             1|  183.6|  349.13| 1693.6|\n",
      "|                             2|  143.6|  336.58| 1693.6|\n",
      "|                             3|  148.6|  326.96| 1381.6|\n",
      "|                             4|  143.6|  322.39| 1693.6|\n",
      "|                             5|  143.6|  319.13| 1381.6|\n",
      "|                             6|  133.6|  284.95| 1381.6|\n",
      "|                             7|  133.6|  281.07| 1381.6|\n",
      "|                             8|  133.6|  280.49| 1693.6|\n",
      "|                             9|  133.6|  281.46| 1693.6|\n",
      "|                            10|  133.6|  278.83| 1381.6|\n",
      "|                            11|  133.6|  279.43| 1381.6|\n",
      "|                            12|  133.6|  280.54| 1381.6|\n",
      "|                            13|  133.6|  282.57| 1381.6|\n",
      "|                            14|  106.6|  225.71| 1381.6|\n",
      "|                            15|  106.6|  223.79| 1381.6|\n",
      "|                            16|  106.6|   223.5|  718.6|\n",
      "|                            17|  106.6|  224.27|  718.6|\n",
      "|                            18|  106.6|  225.02|  578.6|\n",
      "|                            19|  106.6|  225.35| 598.59|\n",
      "|                            20|  106.6|  226.07|  548.6|\n",
      "+------------------------------+-------+--------+-------+\n",
      "only showing top 20 rows\n",
      "\n"
     ]
    },
    {
     "name": "stderr",
     "output_type": "stream",
     "text": [
      "                                                                                \r"
     ]
    },
    {
     "name": "stdout",
     "output_type": "stream",
     "text": [
      "+------------------------------+-------+--------+-------+\n",
      "|days_between_search_and_flight|MinFare|MeanFare|MaxFare|\n",
      "+------------------------------+-------+--------+-------+\n",
      "|                             1|  83.98|   331.5| 2264.6|\n",
      "|                             2|  66.99|  284.97| 2264.6|\n",
      "|                             3|  47.98|   278.4| 2264.6|\n",
      "|                             4|  35.97|  262.53| 2264.6|\n",
      "|                             5|  35.97|   259.1| 2264.6|\n",
      "|                             6|  35.97|  243.04| 2264.6|\n",
      "|                             7|  35.97|  236.14| 2264.6|\n",
      "|                             8|  35.97|  232.23|1154.61|\n",
      "|                             9|  35.97|  220.53| 1098.6|\n",
      "|                            10|  35.97|   218.3|  968.6|\n",
      "|                            11|  35.97|  215.64|  968.6|\n",
      "|                            12|  35.97|  212.81|1184.61|\n",
      "|                            13|  35.97|  212.43| 2264.6|\n",
      "|                            14|  35.97|  208.09| 2264.6|\n",
      "|                            15|  35.97|  207.96| 2264.6|\n",
      "|                            16|  35.97|  209.11| 2264.6|\n",
      "|                            17|  35.97|  207.59| 2264.6|\n",
      "|                            18|  35.97|  206.94| 2264.6|\n",
      "|                            19|  35.97|  205.54| 2264.6|\n",
      "|                            20|  35.97|  204.28| 2264.6|\n",
      "+------------------------------+-------+--------+-------+\n",
      "only showing top 20 rows\n",
      "\n"
     ]
    },
    {
     "name": "stderr",
     "output_type": "stream",
     "text": [
      "                                                                                \r"
     ]
    },
    {
     "name": "stdout",
     "output_type": "stream",
     "text": [
      "+------------------------------+-------+--------+-------+\n",
      "|days_between_search_and_flight|MinFare|MeanFare|MaxFare|\n",
      "+------------------------------+-------+--------+-------+\n",
      "|                             1|  183.6|  385.96| 3139.6|\n",
      "|                             2|  118.6|  322.88| 3016.6|\n",
      "|                             3|  128.6|   312.4| 3016.6|\n",
      "|                             4|  118.6|  308.54| 1322.6|\n",
      "|                             5|  118.6|  312.77| 3016.6|\n",
      "|                             6|  113.6|  323.75| 1322.6|\n",
      "|                             7|  113.6|   321.3| 1322.6|\n",
      "|                             8|  103.6|  323.42| 1322.6|\n",
      "|                             9|  103.6|  313.94| 1322.6|\n",
      "|                            10|  103.6|  313.02| 1322.6|\n",
      "|                            11|  103.6|  310.61| 1322.6|\n",
      "|                            12|  103.6|  304.65|  773.6|\n",
      "|                            13|  103.6|  306.71|  773.6|\n",
      "|                            14|  103.6|   297.0| 1322.6|\n",
      "|                            15|  103.6|  297.17| 1322.6|\n",
      "|                            16|  103.6|  294.34| 1322.6|\n",
      "|                            17|  103.6|  295.18| 1322.6|\n",
      "|                            18|  103.6|  294.89| 1322.6|\n",
      "|                            19|  103.6|  288.94| 721.04|\n",
      "|                            20|  108.6|  288.18| 1322.6|\n",
      "+------------------------------+-------+--------+-------+\n",
      "only showing top 20 rows\n",
      "\n"
     ]
    },
    {
     "name": "stderr",
     "output_type": "stream",
     "text": [
      "                                                                                \r"
     ]
    },
    {
     "name": "stdout",
     "output_type": "stream",
     "text": [
      "+------------------------------+-------+--------+-------+\n",
      "|days_between_search_and_flight|MinFare|MeanFare|MaxFare|\n",
      "+------------------------------+-------+--------+-------+\n",
      "|                             1|  186.6|  318.34| 2249.6|\n",
      "|                             2|  186.6|  295.65| 2249.6|\n",
      "|                             3|  186.6|  295.53| 1547.6|\n",
      "|                             4|  186.6|  295.07| 1705.6|\n",
      "|                             5|  186.6|  294.24| 1705.6|\n",
      "|                             6|   92.6|  281.48| 1547.6|\n",
      "|                             7|   92.6|   276.4| 1705.6|\n",
      "|                             8|  108.6|  272.67| 1705.6|\n",
      "|                             9|   83.6|  263.98|  998.6|\n",
      "|                            10|   83.6|  261.01|  998.6|\n",
      "|                            11|  82.61|  258.62|  998.6|\n",
      "|                            12|  82.61|  257.78|  998.6|\n",
      "|                            13|  82.61|  260.33|  991.6|\n",
      "|                            14|   68.6|   245.4|  757.6|\n",
      "|                            15|   68.6|  244.73|  998.6|\n",
      "|                            16|   68.6|  246.36|  757.6|\n",
      "|                            17|   68.6|  245.54|  757.6|\n",
      "|                            18|   68.6|  247.72|  762.6|\n",
      "|                            19|   68.6|  245.97|  757.6|\n",
      "|                            20|   68.6|  243.08|  998.6|\n",
      "+------------------------------+-------+--------+-------+\n",
      "only showing top 20 rows\n",
      "\n"
     ]
    },
    {
     "name": "stderr",
     "output_type": "stream",
     "text": [
      "                                                                                \r"
     ]
    },
    {
     "name": "stdout",
     "output_type": "stream",
     "text": [
      "+------------------------------+-------+--------+-------+\n",
      "|days_between_search_and_flight|MinFare|MeanFare|MaxFare|\n",
      "+------------------------------+-------+--------+-------+\n",
      "|                             1|  138.6|  314.22| 1687.6|\n",
      "|                             2|  118.6|  285.73| 1687.6|\n",
      "|                             3|  118.6|  284.09| 1687.6|\n",
      "|                             4|  118.6|  283.02| 1687.6|\n",
      "|                             5|  118.6|  281.23| 1687.6|\n",
      "|                             6|   98.6|  246.69| 1687.6|\n",
      "|                             7|   98.6|  244.36| 1687.6|\n",
      "|                             8|   98.6|  243.31|  885.6|\n",
      "|                             9|   98.6|  244.76| 1687.6|\n",
      "|                            10|   98.6|  245.16|  885.6|\n",
      "|                            11|   98.6|  246.75| 1687.6|\n",
      "|                            12|   98.6|  244.54| 1687.6|\n",
      "|                            13|   98.6|  244.29| 1687.6|\n",
      "|                            14|   98.6|  211.84| 1687.6|\n",
      "|                            15|   98.6|  212.49|  885.6|\n",
      "|                            16|   98.6|  212.18| 1687.6|\n",
      "|                            17|   98.6|  212.52| 1687.6|\n",
      "|                            18|   98.6|  214.58| 1687.6|\n",
      "|                            19|   98.6|   214.6| 1687.6|\n",
      "|                            20|   98.6|  212.73| 1687.6|\n",
      "+------------------------------+-------+--------+-------+\n",
      "only showing top 20 rows\n",
      "\n"
     ]
    },
    {
     "name": "stderr",
     "output_type": "stream",
     "text": [
      "                                                                                \r"
     ]
    },
    {
     "name": "stdout",
     "output_type": "stream",
     "text": [
      "+------------------------------+-------+--------+-------+\n",
      "|days_between_search_and_flight|MinFare|MeanFare|MaxFare|\n",
      "+------------------------------+-------+--------+-------+\n",
      "|                             1|  86.98|  264.76| 2039.6|\n",
      "|                             2|  63.99|  248.51| 2039.6|\n",
      "|                             3|  63.99|  251.31|  848.6|\n",
      "|                             4|  63.99|  253.08| 1054.6|\n",
      "|                             5|  50.99|  254.86| 2039.6|\n",
      "|                             6|  42.98|  243.16| 1054.6|\n",
      "|                             7|  33.97|  241.26| 1054.6|\n",
      "|                             8|  33.97|  235.25| 1054.6|\n",
      "|                             9|  23.97|  232.15| 1065.6|\n",
      "|                            10|  23.97|  231.45| 1054.6|\n",
      "|                            11|  33.97|  233.25| 1054.6|\n",
      "|                            12|  30.98|  236.32| 1084.6|\n",
      "|                            13|  23.97|  239.13| 1084.6|\n",
      "|                            14|  23.97|  228.28|  893.6|\n",
      "|                            15|  23.97|   227.6|  913.6|\n",
      "|                            16|  30.98|  226.58| 2039.6|\n",
      "|                            17|  30.98|  229.64| 2039.6|\n",
      "|                            18|  30.98|  229.38| 2039.6|\n",
      "|                            19|  30.98|   227.1| 2039.6|\n",
      "|                            20|  30.98|  224.78| 2039.6|\n",
      "+------------------------------+-------+--------+-------+\n",
      "only showing top 20 rows\n",
      "\n"
     ]
    },
    {
     "name": "stderr",
     "output_type": "stream",
     "text": [
      "                                                                                \r"
     ]
    },
    {
     "name": "stdout",
     "output_type": "stream",
     "text": [
      "+------------------------------+-------+--------+-------+\n",
      "|days_between_search_and_flight|MinFare|MeanFare|MaxFare|\n",
      "+------------------------------+-------+--------+-------+\n",
      "|                             1|  108.6|  228.23| 2091.6|\n",
      "|                             2|   85.6|  208.11| 1691.6|\n",
      "|                             3|   85.6|  209.31| 2091.6|\n",
      "|                             4|   78.6|  208.05| 2091.6|\n",
      "|                             5|   78.6|  210.38| 1447.6|\n",
      "|                             6|   78.6|  191.49| 1583.6|\n",
      "|                             7|   78.6|  188.86| 1583.6|\n",
      "|                             8|   78.6|  188.49| 1298.6|\n",
      "|                             9|   78.6|  185.37| 1298.6|\n",
      "|                            10|   78.6|  183.48| 1298.6|\n",
      "|                            11|   85.6|  184.25| 1298.6|\n",
      "|                            12|   78.6|  182.49| 1298.6|\n",
      "|                            13|   78.6|  181.54| 1298.6|\n",
      "|                            14|   78.6|  173.34| 1447.6|\n",
      "|                            15|   78.6|  173.06| 1447.6|\n",
      "|                            16|   78.6|  172.81| 1447.6|\n",
      "|                            17|   78.6|  173.49| 1447.6|\n",
      "|                            18|   85.6|  173.62| 1447.6|\n",
      "|                            19|   78.6|  172.41| 1583.6|\n",
      "|                            20|   78.6|  169.59| 1583.6|\n",
      "+------------------------------+-------+--------+-------+\n",
      "only showing top 20 rows\n",
      "\n"
     ]
    },
    {
     "name": "stderr",
     "output_type": "stream",
     "text": [
      "                                                                                \r"
     ]
    },
    {
     "name": "stdout",
     "output_type": "stream",
     "text": [
      "+------------------------------+-------+--------+-------+\n",
      "|days_between_search_and_flight|MinFare|MeanFare|MaxFare|\n",
      "+------------------------------+-------+--------+-------+\n",
      "|                             1|  108.6|  247.63| 1686.6|\n",
      "|                             2|   85.6|  228.15| 1686.6|\n",
      "|                             3|   85.6|  230.21| 1686.6|\n",
      "|                             4|   78.6|  226.74|  734.6|\n",
      "|                             5|   78.6|  230.71|  734.6|\n",
      "|                             6|   78.6|  221.13|  784.6|\n",
      "|                             7|   78.6|  219.37|  784.6|\n",
      "|                             8|   78.6|  217.17|  804.6|\n",
      "|                             9|   78.6|  213.82|  804.6|\n",
      "|                            10|   78.6|  212.87|  804.6|\n",
      "|                            11|   85.6|  214.43|  784.6|\n",
      "|                            12|   78.6|   211.7|  774.6|\n",
      "|                            13|   78.6|  209.17|  688.6|\n",
      "|                            14|   78.6|  204.76|  688.6|\n",
      "|                            15|   78.6|  206.36|  784.6|\n",
      "|                            16|   78.6|  206.99|  784.6|\n",
      "|                            17|   78.6|  205.93|  804.6|\n",
      "|                            18|   78.6|  207.27|  718.6|\n",
      "|                            19|   78.6|  203.87|  698.6|\n",
      "|                            20|   78.6|   201.5|  804.6|\n",
      "+------------------------------+-------+--------+-------+\n",
      "only showing top 20 rows\n",
      "\n"
     ]
    },
    {
     "name": "stderr",
     "output_type": "stream",
     "text": [
      "                                                                                \r"
     ]
    },
    {
     "name": "stdout",
     "output_type": "stream",
     "text": [
      "+------------------------------+-------+--------+-------+\n",
      "|days_between_search_and_flight|MinFare|MeanFare|MaxFare|\n",
      "+------------------------------+-------+--------+-------+\n",
      "|                             1|  186.6|  306.75| 1978.6|\n",
      "|                             2|  186.6|  297.11| 1978.6|\n",
      "|                             3| 113.98|   299.5| 1978.6|\n",
      "|                             4| 134.98|   302.3| 1978.6|\n",
      "|                             5|  186.6|  304.11| 1978.6|\n",
      "|                             6|   68.6|  283.69| 1978.6|\n",
      "|                             7|   83.6|   278.0| 1978.6|\n",
      "|                             8|   68.6|  275.03| 1978.6|\n",
      "|                             9|   68.6|  268.93| 1978.6|\n",
      "|                            10|   68.6|  263.33| 1978.6|\n",
      "|                            11|   68.6|  262.32| 1388.6|\n",
      "|                            12|   68.6|  262.76| 1388.6|\n",
      "|                            13|   68.6|  264.36| 1978.6|\n",
      "|                            14|   68.6|   256.1| 1978.6|\n",
      "|                            15|   68.6|  253.93| 1722.6|\n",
      "|                            16|   68.6|  250.55| 1978.6|\n",
      "|                            17|   68.6|  251.09| 1978.6|\n",
      "|                            18|   68.6|  253.77|1065.61|\n",
      "|                            19|   68.6|  254.77| 1978.6|\n",
      "|                            20|   68.6|  250.85| 1978.6|\n",
      "+------------------------------+-------+--------+-------+\n",
      "only showing top 20 rows\n",
      "\n"
     ]
    },
    {
     "name": "stderr",
     "output_type": "stream",
     "text": [
      "                                                                                \r"
     ]
    },
    {
     "name": "stdout",
     "output_type": "stream",
     "text": [
      "+------------------------------+-------+--------+-------+\n",
      "|days_between_search_and_flight|MinFare|MeanFare|MaxFare|\n",
      "+------------------------------+-------+--------+-------+\n",
      "|                             1|  270.6|  536.65| 2667.6|\n",
      "|                             2|  270.6|   508.3| 2667.6|\n",
      "|                             3|  270.6|  504.81| 2667.6|\n",
      "|                             4|  270.6|  492.52| 2179.6|\n",
      "|                             5|  270.6|   492.6| 2667.6|\n",
      "|                             6|  268.6|  475.81| 2179.6|\n",
      "|                             7|  268.6|  472.41| 2179.6|\n",
      "|                             8|  268.6|  473.42| 2667.6|\n",
      "|                             9|  238.6|  465.45| 2667.6|\n",
      "|                            10|  241.6|  463.53| 2667.6|\n",
      "|                            11|  161.6|  467.49| 2179.6|\n",
      "|                            12|  161.6|  464.92| 2179.6|\n",
      "|                            13|  270.6|  468.55| 2179.6|\n",
      "|                            14|  161.6|  460.31| 2179.6|\n",
      "|                            15|  186.6|   458.2| 2667.6|\n",
      "|                            16|  186.6|  455.62| 2667.6|\n",
      "|                            17|  161.6|  453.12| 2667.6|\n",
      "|                            18|  161.6|  457.66| 2179.6|\n",
      "|                            19|  161.6|  460.96| 2667.6|\n",
      "|                            20|  206.6|  475.57| 2667.6|\n",
      "+------------------------------+-------+--------+-------+\n",
      "only showing top 20 rows\n",
      "\n"
     ]
    },
    {
     "name": "stderr",
     "output_type": "stream",
     "text": [
      "                                                                                \r"
     ]
    },
    {
     "name": "stdout",
     "output_type": "stream",
     "text": [
      "+------------------------------+-------+--------+-------+\n",
      "|days_between_search_and_flight|MinFare|MeanFare|MaxFare|\n",
      "+------------------------------+-------+--------+-------+\n",
      "|                             1|  45.98|  509.81| 1104.6|\n",
      "|                             2|  45.98|  496.36| 1029.6|\n",
      "|                             3|  45.98|  491.04|  954.6|\n",
      "|                             4|  45.98|  489.77|  954.6|\n",
      "|                             5|  45.98|  488.62|1064.61|\n",
      "|                             6|  23.97|  384.19|1064.61|\n",
      "|                             7|  23.97|   381.9|1064.61|\n",
      "|                             8|  23.97|  377.62| 1104.6|\n",
      "|                             9|  23.97|  377.65| 1104.6|\n",
      "|                            10|  23.97|  376.55|  954.6|\n",
      "|                            11|  23.97|  375.31|  698.6|\n",
      "|                            12|  23.97|   376.2|  698.6|\n",
      "|                            13|  23.97|  376.42|  848.6|\n",
      "|                            14|  23.97|  263.71|  848.6|\n",
      "|                            15|  23.97|  263.73|  848.6|\n",
      "|                            16|  23.97|  263.64|  848.6|\n",
      "|                            17|  23.97|  264.14|  848.6|\n",
      "|                            18|  23.97|  264.71|  848.6|\n",
      "|                            19|  23.97|  264.88|  848.6|\n",
      "|                            20|  23.97|  267.12|  848.6|\n",
      "+------------------------------+-------+--------+-------+\n",
      "only showing top 20 rows\n",
      "\n"
     ]
    },
    {
     "name": "stderr",
     "output_type": "stream",
     "text": [
      "                                                                                \r"
     ]
    },
    {
     "name": "stdout",
     "output_type": "stream",
     "text": [
      "+------------------------------+-------+--------+-------+\n",
      "|days_between_search_and_flight|MinFare|MeanFare|MaxFare|\n",
      "+------------------------------+-------+--------+-------+\n",
      "|                             1|   78.6|  301.98| 1665.6|\n",
      "|                             2|   78.6|  270.39| 1665.6|\n",
      "|                             3|   78.6|  262.06| 1665.6|\n",
      "|                             4|   73.6|  252.44| 1665.6|\n",
      "|                             5|   73.6|  252.28|  954.6|\n",
      "|                             6|   68.6|  228.88|  954.6|\n",
      "|                             7|   68.6|  224.58|  954.6|\n",
      "|                             8|   68.6|  226.35|  954.6|\n",
      "|                             9|   68.6|  222.87|  954.6|\n",
      "|                            10|   68.6|  220.57|  954.6|\n",
      "|                            11|   68.6|  220.66|  608.6|\n",
      "|                            12|   68.6|  219.24|  848.6|\n",
      "|                            13|   68.6|  220.53|  848.6|\n",
      "|                            14|   68.6|   221.5|  578.6|\n",
      "|                            15|   68.6|  221.33|  578.6|\n",
      "|                            16|   68.6|  219.76|  578.6|\n",
      "|                            17|   68.6|  220.77|  851.6|\n",
      "|                            18|   68.6|   221.9|  851.6|\n",
      "|                            19|   68.6|  219.96|  851.6|\n",
      "|                            20|   68.6|  223.06|  846.6|\n",
      "+------------------------------+-------+--------+-------+\n",
      "only showing top 20 rows\n",
      "\n"
     ]
    },
    {
     "name": "stderr",
     "output_type": "stream",
     "text": [
      "                                                                                \r"
     ]
    },
    {
     "name": "stdout",
     "output_type": "stream",
     "text": [
      "+------------------------------+-------+--------+-------+\n",
      "|days_between_search_and_flight|MinFare|MeanFare|MaxFare|\n",
      "+------------------------------+-------+--------+-------+\n",
      "|                             1|  52.49|  357.35|2099.11|\n",
      "|                             2|  49.49|  311.38|2099.11|\n",
      "|                             3|  49.49|  308.19|2099.11|\n",
      "|                             4|  49.49|  301.21|2099.11|\n",
      "|                             5|  49.49|  302.21|2099.11|\n",
      "|                             6|  42.48|  275.25| 1269.1|\n",
      "|                             7|  42.48|  270.14| 1269.1|\n",
      "|                             8|  42.48|  270.39| 1269.1|\n",
      "|                             9|  22.47|  268.85| 1015.1|\n",
      "|                            10|  22.47|  268.11| 1269.1|\n",
      "|                            11|  22.47|  268.52| 1269.1|\n",
      "|                            12|  42.48|   265.3| 1015.1|\n",
      "|                            13|  42.48|  266.96| 1269.1|\n",
      "|                            14|  42.48|  251.92| 1035.1|\n",
      "|                            15|  42.48|   251.2| 1035.1|\n",
      "|                            16|  22.47|  248.53| 766.11|\n",
      "|                            17|  22.47|   246.5|  793.1|\n",
      "|                            18|  22.47|  248.98| 1269.1|\n",
      "|                            19|  22.47|  251.29| 1269.1|\n",
      "|                            20|  22.47|  247.59|  746.1|\n",
      "+------------------------------+-------+--------+-------+\n",
      "only showing top 20 rows\n",
      "\n"
     ]
    },
    {
     "name": "stderr",
     "output_type": "stream",
     "text": [
      "                                                                                \r"
     ]
    },
    {
     "name": "stdout",
     "output_type": "stream",
     "text": [
      "+------------------------------+-------+--------+-------+\n",
      "|days_between_search_and_flight|MinFare|MeanFare|MaxFare|\n",
      "+------------------------------+-------+--------+-------+\n",
      "|                             1|   98.6|  330.51| 2452.6|\n",
      "|                             2|   78.6|  279.38| 2160.6|\n",
      "|                             3|   78.6|  278.36| 2160.6|\n",
      "|                             4|   78.6|  280.15| 2044.6|\n",
      "|                             5|   78.6|   280.7| 1665.6|\n",
      "|                             6|   78.6|  271.03| 2044.6|\n",
      "|                             7|   78.6|  264.91| 2044.6|\n",
      "|                             8|   68.6|  261.45| 2044.6|\n",
      "|                             9|   68.6|  251.01| 1665.6|\n",
      "|                            10|   68.6|  247.58| 1665.6|\n",
      "|                            11|   68.6|  251.37| 1665.6|\n",
      "|                            12|   63.6|  249.49| 1665.6|\n",
      "|                            13|   63.6|  249.01| 2044.6|\n",
      "|                            14|   63.6|  245.26| 1665.6|\n",
      "|                            15|   63.6|  243.91| 1665.6|\n",
      "|                            16|   68.6|  241.56| 1665.6|\n",
      "|                            17|   68.6|  243.33| 1665.6|\n",
      "|                            18|   68.6|  244.75| 1665.6|\n",
      "|                            19|   63.6|  247.56| 1665.6|\n",
      "|                            20|   63.6|  244.88| 1665.6|\n",
      "+------------------------------+-------+--------+-------+\n",
      "only showing top 20 rows\n",
      "\n"
     ]
    },
    {
     "name": "stderr",
     "output_type": "stream",
     "text": [
      "                                                                                \r"
     ]
    },
    {
     "name": "stdout",
     "output_type": "stream",
     "text": [
      "+------------------------------+-------+--------+-------+\n",
      "|days_between_search_and_flight|MinFare|MeanFare|MaxFare|\n",
      "+------------------------------+-------+--------+-------+\n",
      "|                             1|  54.99|   294.1| 1775.6|\n",
      "|                             2|  54.99|  278.66| 1775.6|\n",
      "|                             3|  54.99|  270.33| 1723.6|\n",
      "|                             4|  54.99|  257.21| 1723.6|\n",
      "|                             5|  53.99|  257.95| 1723.6|\n",
      "|                             6|  47.98|  221.37| 1693.6|\n",
      "|                             7|  47.98|  216.14| 1693.6|\n",
      "|                             8|  53.99|  213.84| 1693.6|\n",
      "|                             9|  52.99|  209.17| 1693.6|\n",
      "|                            10|  33.97|  204.01| 1162.6|\n",
      "|                            11|  33.97|  204.54| 1693.6|\n",
      "|                            12|  33.97|  203.95| 1713.6|\n",
      "|                            13|  33.97|  204.88| 1713.6|\n",
      "|                            14|  33.97|  190.49| 1693.6|\n",
      "|                            15|  33.97|  189.17| 1693.6|\n",
      "|                            16|  33.97|  188.82| 1693.6|\n",
      "|                            17|  33.97|  186.42| 1693.6|\n",
      "|                            18|  33.97|  186.67| 1693.6|\n",
      "|                            19|  33.97|  184.31| 1162.6|\n",
      "|                            20|  45.98|  184.13| 1713.6|\n",
      "+------------------------------+-------+--------+-------+\n",
      "only showing top 20 rows\n",
      "\n"
     ]
    },
    {
     "name": "stderr",
     "output_type": "stream",
     "text": [
      "                                                                                \r"
     ]
    },
    {
     "name": "stdout",
     "output_type": "stream",
     "text": [
      "+------------------------------+-------+--------+-------+\n",
      "|days_between_search_and_flight|MinFare|MeanFare|MaxFare|\n",
      "+------------------------------+-------+--------+-------+\n",
      "|                             1|   93.6|  216.82| 1309.6|\n",
      "|                             2|   54.6|  183.05| 1309.6|\n",
      "|                             3|   54.6|  175.41| 1309.6|\n",
      "|                             4|   48.6|  168.69| 1309.6|\n",
      "|                             5|   48.6|   170.4| 1309.6|\n",
      "|                             6|   48.6|  156.47| 1309.6|\n",
      "|                             7|   48.6|  151.99| 1309.6|\n",
      "|                             8|   48.6|  148.04| 1309.6|\n",
      "|                             9|   48.6|  144.32| 1309.6|\n",
      "|                            10|   48.6|  142.85| 1309.6|\n",
      "|                            11|   48.6|  140.96| 1309.6|\n",
      "|                            12|   48.6|  141.14| 1309.6|\n",
      "|                            13|   48.6|  140.51| 1309.6|\n",
      "|                            14|   48.6|  122.93| 1309.6|\n",
      "|                            15|   48.6|  121.76| 1178.6|\n",
      "|                            16|   48.6|  122.55| 1309.6|\n",
      "|                            17|   48.6|  122.41| 1309.6|\n",
      "|                            18|   48.6|  123.59| 1309.6|\n",
      "|                            19|   48.6|  120.71| 1309.6|\n",
      "|                            20|   48.6|  122.04| 1309.6|\n",
      "+------------------------------+-------+--------+-------+\n",
      "only showing top 20 rows\n",
      "\n"
     ]
    },
    {
     "name": "stderr",
     "output_type": "stream",
     "text": [
      "                                                                                \r"
     ]
    },
    {
     "name": "stdout",
     "output_type": "stream",
     "text": [
      "+------------------------------+-------+--------+-------+\n",
      "|days_between_search_and_flight|MinFare|MeanFare|MaxFare|\n",
      "+------------------------------+-------+--------+-------+\n",
      "|                             1|   68.6|  211.13| 1319.6|\n",
      "|                             2|   43.6|  186.21| 1128.6|\n",
      "|                             3|   43.6|  186.81| 1319.6|\n",
      "|                             4|   43.6|  181.81| 1128.6|\n",
      "|                             5|   43.6|  187.14| 1128.6|\n",
      "|                             6|   48.6|  172.91| 1128.6|\n",
      "|                             7|   48.6|  167.34| 1128.6|\n",
      "|                             8|   48.6|  158.03| 1128.6|\n",
      "|                             9|   54.6|  149.76|  793.6|\n",
      "|                            10|   48.6|  144.94|  793.6|\n",
      "|                            11|   48.6|  146.25|  793.6|\n",
      "|                            12|   48.6|  143.93|  793.6|\n",
      "|                            13|   48.6|  142.03|  793.6|\n",
      "|                            14|   48.6|  139.87|  793.6|\n",
      "|                            15|   48.6|  139.01|  793.6|\n",
      "|                            16|   48.6|  138.24|  793.6|\n",
      "|                            17|   48.6|  136.04|  488.6|\n",
      "|                            18|   48.6|  138.58| 723.61|\n",
      "|                            19|   48.6|  138.78|  793.6|\n",
      "|                            20|   48.6|  138.38|  793.6|\n",
      "+------------------------------+-------+--------+-------+\n",
      "only showing top 20 rows\n",
      "\n"
     ]
    },
    {
     "name": "stderr",
     "output_type": "stream",
     "text": [
      "                                                                                \r"
     ]
    },
    {
     "name": "stdout",
     "output_type": "stream",
     "text": [
      "+------------------------------+-------+--------+-------+\n",
      "|days_between_search_and_flight|MinFare|MeanFare|MaxFare|\n",
      "+------------------------------+-------+--------+-------+\n",
      "|                             1|  33.97|  202.98| 2023.6|\n",
      "|                             2|  33.97|  186.01| 2023.6|\n",
      "|                             3|  33.97|  182.94| 2023.6|\n",
      "|                             4|  33.97|  181.92| 2023.6|\n",
      "|                             5|  33.97|  181.67| 1178.6|\n",
      "|                             6|  23.97|  167.13| 2023.6|\n",
      "|                             7|  23.97|  160.62| 2023.6|\n",
      "|                             8|  23.97|   157.4|  882.6|\n",
      "|                             9|  23.97|  154.95|  830.6|\n",
      "|                            10|  23.97|  150.57| 1239.6|\n",
      "|                            11|  23.97|   148.8| 2023.6|\n",
      "|                            12|  23.97|  148.25|  882.6|\n",
      "|                            13|  23.97|  148.63|  830.6|\n",
      "|                            14|  23.97|  145.75| 1297.6|\n",
      "|                            15|  23.97|  146.03|  830.6|\n",
      "|                            16|  23.97|  147.21|  882.6|\n",
      "|                            17|  23.97|  146.94| 2023.6|\n",
      "|                            18|  23.97|   147.9| 2023.6|\n",
      "|                            19|  23.97|  145.63| 2023.6|\n",
      "|                            20|  23.97|  145.17| 2023.6|\n",
      "+------------------------------+-------+--------+-------+\n",
      "only showing top 20 rows\n",
      "\n"
     ]
    },
    {
     "name": "stderr",
     "output_type": "stream",
     "text": [
      "                                                                                \r"
     ]
    },
    {
     "name": "stdout",
     "output_type": "stream",
     "text": [
      "+------------------------------+-------+--------+-------+\n",
      "|days_between_search_and_flight|MinFare|MeanFare|MaxFare|\n",
      "+------------------------------+-------+--------+-------+\n",
      "|                             1|  356.6|  469.25| 3498.6|\n",
      "|                             2|  238.6|  406.42| 2168.6|\n",
      "|                             3|  238.6|  411.74| 2698.6|\n",
      "|                             4|  238.6|  424.87| 3498.6|\n",
      "|                             5|  238.6|  427.54| 2651.6|\n",
      "|                             6|  133.6|  404.87| 3498.6|\n",
      "|                             7|  133.6|  403.65| 3498.6|\n",
      "|                             8|  133.6|   410.7| 3424.6|\n",
      "|                             9|  133.6|   402.2| 3424.6|\n",
      "|                            10|  133.6|  417.77| 3498.6|\n",
      "|                            11|  133.6|  410.68| 3424.6|\n",
      "|                            12|  133.6|   415.0| 3424.6|\n",
      "|                            13|  133.6|  411.17| 3424.6|\n",
      "|                            14|   98.6|  396.84| 3498.6|\n",
      "|                            15|   98.6|   393.8| 3498.6|\n",
      "|                            16|   98.6|  395.72| 3498.6|\n",
      "|                            17|   98.6|   389.4| 3424.6|\n",
      "|                            18|   98.6|  396.25| 3498.6|\n",
      "|                            19|   98.6|  396.39| 3498.6|\n",
      "|                            20|   98.6|  395.19| 3498.6|\n",
      "+------------------------------+-------+--------+-------+\n",
      "only showing top 20 rows\n",
      "\n"
     ]
    },
    {
     "name": "stderr",
     "output_type": "stream",
     "text": [
      "                                                                                \r"
     ]
    },
    {
     "name": "stdout",
     "output_type": "stream",
     "text": [
      "+------------------------------+-------+--------+-------+\n",
      "|days_between_search_and_flight|MinFare|MeanFare|MaxFare|\n",
      "+------------------------------+-------+--------+-------+\n",
      "|                             1|  298.6|   446.5| 2415.6|\n",
      "|                             2|  258.6|  423.72| 2415.6|\n",
      "|                             3|  258.6|  422.75| 2552.6|\n",
      "|                             4|  148.6|  435.02| 2777.6|\n",
      "|                             5|  148.6|  447.35| 2415.6|\n",
      "|                             6|  148.6|  440.95| 2552.6|\n",
      "|                             7|  148.6|  436.51| 2415.6|\n",
      "|                             8|  188.6|   435.5| 2552.6|\n",
      "|                             9|  148.6|  435.51| 2415.6|\n",
      "|                            10|  148.6|  431.34| 2415.6|\n",
      "|                            11|  148.6|  433.49| 2415.6|\n",
      "|                            12|  148.6|   443.0| 2415.6|\n",
      "|                            13|  148.6|   447.7| 2415.6|\n",
      "|                            14|  128.6|   432.8| 2415.6|\n",
      "|                            15|  118.6|  437.12| 2415.6|\n",
      "|                            16|  128.6|  433.04| 1998.6|\n",
      "|                            17|  128.6|  433.35| 2552.6|\n",
      "|                            18|  128.6|  436.02| 2417.6|\n",
      "|                            19|  128.6|  438.86| 2417.6|\n",
      "|                            20|  128.6|  444.33| 2417.6|\n",
      "+------------------------------+-------+--------+-------+\n",
      "only showing top 20 rows\n",
      "\n"
     ]
    },
    {
     "name": "stderr",
     "output_type": "stream",
     "text": [
      "                                                                                \r"
     ]
    },
    {
     "name": "stdout",
     "output_type": "stream",
     "text": [
      "+------------------------------+-------+--------+-------+\n",
      "|days_between_search_and_flight|MinFare|MeanFare|MaxFare|\n",
      "+------------------------------+-------+--------+-------+\n",
      "|                             1|   93.6|  193.52|  650.6|\n",
      "|                             2|   54.6|  157.48|  650.6|\n",
      "|                             3|   54.6|  156.29|  650.6|\n",
      "|                             4|   48.6|  153.37|  650.6|\n",
      "|                             5|   48.6|  151.56|  580.6|\n",
      "|                             6|   48.6|  135.53|  580.6|\n",
      "|                             7|   48.6|  131.76|  580.6|\n",
      "|                             8|   48.6|  131.64|  580.6|\n",
      "|                             9|   48.6|  131.74|  580.6|\n",
      "|                            10|   48.6|  131.28|  580.6|\n",
      "|                            11|   48.6|  130.73|  580.6|\n",
      "|                            12|   48.6|   129.8|  580.6|\n",
      "|                            13|   48.6|  127.88|  625.6|\n",
      "|                            14|   48.6|  107.44|  625.6|\n",
      "|                            15|   48.6|  106.67|  625.6|\n",
      "|                            16|   48.6|  107.13|  625.6|\n",
      "|                            17|   48.6|  106.83|  625.6|\n",
      "|                            18|   48.6|  106.45|  625.6|\n",
      "|                            19|   48.6|  104.85|  570.6|\n",
      "|                            20|   48.6|  104.17|  625.6|\n",
      "+------------------------------+-------+--------+-------+\n",
      "only showing top 20 rows\n",
      "\n"
     ]
    },
    {
     "name": "stderr",
     "output_type": "stream",
     "text": [
      "                                                                                \r"
     ]
    },
    {
     "name": "stdout",
     "output_type": "stream",
     "text": [
      "+------------------------------+-------+--------+-------+\n",
      "|days_between_search_and_flight|MinFare|MeanFare|MaxFare|\n",
      "+------------------------------+-------+--------+-------+\n",
      "|                             1|  53.99|  361.12|2100.61|\n",
      "|                             2|  50.99|  319.23|2100.61|\n",
      "|                             3|  50.99|  312.65|2100.61|\n",
      "|                             4|  50.99|  310.96|2100.61|\n",
      "|                             5|  50.99|  300.89|2100.61|\n",
      "|                             6|  43.98|  275.31| 1270.6|\n",
      "|                             7|  43.98|  270.41| 1270.6|\n",
      "|                             8|  43.98|  272.09| 1270.6|\n",
      "|                             9|  43.98|  269.32| 1270.6|\n",
      "|                            10|  43.98|  268.92| 1270.6|\n",
      "|                            11|  23.97|  269.31| 1036.6|\n",
      "|                            12|  43.98|  271.41| 1270.6|\n",
      "|                            13|  43.98|  274.48| 1270.6|\n",
      "|                            14|  43.98|  261.17|2100.61|\n",
      "|                            15|  43.98|  257.82|2100.61|\n",
      "|                            16|  43.98|  255.65| 1270.6|\n",
      "|                            17|  23.97|  253.79|2100.61|\n",
      "|                            18|  23.97|  254.75| 1270.6|\n",
      "|                            19|  23.97|  257.56|2100.61|\n",
      "|                            20|  23.97|  255.17|2100.61|\n",
      "+------------------------------+-------+--------+-------+\n",
      "only showing top 20 rows\n",
      "\n"
     ]
    },
    {
     "name": "stderr",
     "output_type": "stream",
     "text": [
      "                                                                                \r"
     ]
    },
    {
     "name": "stdout",
     "output_type": "stream",
     "text": [
      "+------------------------------+-------+--------+-------+\n",
      "|days_between_search_and_flight|MinFare|MeanFare|MaxFare|\n",
      "+------------------------------+-------+--------+-------+\n",
      "|                             1|  138.6|  382.28| 2711.6|\n",
      "|                             2|   98.6|  369.04| 2711.6|\n",
      "|                             3|   98.6|  369.03| 2711.6|\n",
      "|                             4|   98.6|   357.9| 2711.6|\n",
      "|                             5|   98.6|  355.38| 1517.6|\n",
      "|                             6|   88.6|  339.49| 1454.6|\n",
      "|                             7|   88.6|  335.63| 2711.6|\n",
      "|                             8|   88.6|  341.56| 2711.6|\n",
      "|                             9|   88.6|   339.0| 2311.6|\n",
      "|                            10|   88.6|  336.41| 1517.6|\n",
      "|                            11| 123.61|  338.96| 1517.6|\n",
      "|                            12|  133.6|  337.02| 1517.6|\n",
      "|                            13|  143.6|  337.93| 897.61|\n",
      "|                            14|  103.6|  330.75|  887.6|\n",
      "|                            15|  103.6|  331.99| 2311.6|\n",
      "|                            16|  103.6|  330.29| 2311.6|\n",
      "|                            17|  103.6|  331.92| 2311.6|\n",
      "|                            18|  103.6|   330.1| 1517.6|\n",
      "|                            19|  103.6|  330.53| 1517.6|\n",
      "|                            20|  103.6|  328.79| 768.61|\n",
      "+------------------------------+-------+--------+-------+\n",
      "only showing top 20 rows\n",
      "\n"
     ]
    },
    {
     "name": "stderr",
     "output_type": "stream",
     "text": [
      "                                                                                \r"
     ]
    },
    {
     "name": "stdout",
     "output_type": "stream",
     "text": [
      "+------------------------------+-------+--------+-------+\n",
      "|days_between_search_and_flight|MinFare|MeanFare|MaxFare|\n",
      "+------------------------------+-------+--------+-------+\n",
      "|                             1|  30.98|  305.22| 2586.6|\n",
      "|                             2|  30.98|   244.1| 2586.6|\n",
      "|                             3|  30.98|   224.2| 2586.6|\n",
      "|                             4|  30.98|  221.44| 2586.6|\n",
      "|                             5|  30.98|  217.57| 2586.6|\n",
      "|                             6|  30.98|  221.07| 2586.6|\n",
      "|                             7|  30.98|  218.57| 2586.6|\n",
      "|                             8|  30.98|  213.75| 1308.6|\n",
      "|                             9|  30.98|  208.26| 1018.6|\n",
      "|                            10|  30.98|  208.58| 1038.6|\n",
      "|                            11|  30.98|  209.23| 1308.6|\n",
      "|                            12|  30.98|  207.13| 1018.6|\n",
      "|                            13|  30.98|  209.72| 2586.6|\n",
      "|                            14|  29.97|  199.61| 2586.6|\n",
      "|                            15|  29.97|  201.27| 2586.6|\n",
      "|                            16|  29.97|  199.18| 2586.6|\n",
      "|                            17|  29.97|  196.44| 2586.6|\n",
      "|                            18|  29.97|  197.21| 2586.6|\n",
      "|                            19|  29.97|  199.12| 2586.6|\n",
      "|                            20|  29.97|  199.61| 2586.6|\n",
      "+------------------------------+-------+--------+-------+\n",
      "only showing top 20 rows\n",
      "\n"
     ]
    },
    {
     "name": "stderr",
     "output_type": "stream",
     "text": [
      "                                                                                \r"
     ]
    },
    {
     "name": "stdout",
     "output_type": "stream",
     "text": [
      "+------------------------------+-------+--------+-------+\n",
      "|days_between_search_and_flight|MinFare|MeanFare|MaxFare|\n",
      "+------------------------------+-------+--------+-------+\n",
      "|                             1| 133.98|  384.07| 1897.6|\n",
      "|                             2| 103.99|  370.66| 2097.6|\n",
      "|                             3| 103.99|  377.28| 2097.6|\n",
      "|                             4|  93.99|  381.93| 2088.6|\n",
      "|                             5|  93.99|  377.86| 2088.6|\n",
      "|                             6|  93.99|  361.69| 2088.6|\n",
      "|                             7|  93.99|  363.58| 2088.6|\n",
      "|                             8|  93.99|  359.95| 2088.6|\n",
      "|                             9|  93.99|  362.97| 2088.6|\n",
      "|                            10|  93.99|  356.98| 2088.6|\n",
      "|                            11|  93.99|  358.69| 1827.6|\n",
      "|                            12|  93.99|  364.08| 2088.6|\n",
      "|                            13|  93.99|  362.54| 1235.6|\n",
      "|                            14|  93.99|   350.4| 1235.6|\n",
      "|                            15|  93.99|   349.5| 1235.6|\n",
      "|                            16|  93.99|  343.43|1278.61|\n",
      "|                            17|  93.99|   342.3|1278.61|\n",
      "|                            18|  93.99|  340.82| 1265.6|\n",
      "|                            19|  93.99|  340.85| 2088.6|\n",
      "|                            20|  93.99|  336.25|1198.61|\n",
      "+------------------------------+-------+--------+-------+\n",
      "only showing top 20 rows\n",
      "\n"
     ]
    },
    {
     "name": "stderr",
     "output_type": "stream",
     "text": [
      "                                                                                \r"
     ]
    },
    {
     "name": "stdout",
     "output_type": "stream",
     "text": [
      "+------------------------------+-------+--------+-------+\n",
      "|days_between_search_and_flight|MinFare|MeanFare|MaxFare|\n",
      "+------------------------------+-------+--------+-------+\n",
      "|                             1|  164.6|  280.76| 2169.6|\n",
      "|                             2|  164.6|  251.22| 2169.6|\n",
      "|                             3|  164.6|  247.21| 2169.6|\n",
      "|                             4|  164.6|  243.61| 2169.6|\n",
      "|                             5|  164.6|  245.03| 2169.6|\n",
      "|                             6|   88.6|  231.82| 1447.6|\n",
      "|                             7|   68.6|  226.54| 1447.6|\n",
      "|                             8|   68.6|  226.11| 2169.6|\n",
      "|                             9|   68.6|  221.25| 2169.6|\n",
      "|                            10|   68.6|  218.42| 1447.6|\n",
      "|                            11|   68.6|  219.02| 1447.6|\n",
      "|                            12|   68.6|  219.26| 2169.6|\n",
      "|                            13|   68.6|  218.23| 2169.6|\n",
      "|                            14|   68.6|  206.72| 2169.6|\n",
      "|                            15|   68.6|  204.05| 2169.6|\n",
      "|                            16|   68.6|  202.58| 1298.6|\n",
      "|                            17|   68.6|   203.0| 2169.6|\n",
      "|                            18|   68.6|   206.0| 2169.6|\n",
      "|                            19|   68.6|  206.59| 2169.6|\n",
      "|                            20|   68.6|  204.22| 2169.6|\n",
      "+------------------------------+-------+--------+-------+\n",
      "only showing top 20 rows\n",
      "\n"
     ]
    },
    {
     "name": "stderr",
     "output_type": "stream",
     "text": [
      "                                                                                \r"
     ]
    },
    {
     "name": "stdout",
     "output_type": "stream",
     "text": [
      "+------------------------------+-------+--------+-------+\n",
      "|days_between_search_and_flight|MinFare|MeanFare|MaxFare|\n",
      "+------------------------------+-------+--------+-------+\n",
      "|                             1|   68.6|  187.91| 1297.6|\n",
      "|                             2|   54.6|  164.35|  793.6|\n",
      "|                             3|   54.6|  161.23|  793.6|\n",
      "|                             4|   48.6|  160.39|  643.6|\n",
      "|                             5|   48.6|  162.19|  478.6|\n",
      "|                             6|   48.6|  149.85|  793.6|\n",
      "|                             7|   48.6|  146.04|  478.6|\n",
      "|                             8|   48.6|  144.65|  643.6|\n",
      "|                             9|   48.6|  142.34| 468.61|\n",
      "|                            10|   48.6|   140.1|  793.6|\n",
      "|                            11|   48.6|  141.49|  793.6|\n",
      "|                            12|   48.6|  139.79| 508.61|\n",
      "|                            13|   48.6|  139.43| 468.61|\n",
      "|                            14|   48.6|  135.92| 468.61|\n",
      "|                            15|   48.6|   136.5|  458.6|\n",
      "|                            16|   48.6|  138.34|  873.6|\n",
      "|                            17|   48.6|  139.35|  458.6|\n",
      "|                            18|   48.6|  140.39|  448.6|\n",
      "|                            19|   48.6|  139.06|  458.6|\n",
      "|                            20|   48.6|  137.29|  458.6|\n",
      "+------------------------------+-------+--------+-------+\n",
      "only showing top 20 rows\n",
      "\n"
     ]
    },
    {
     "name": "stderr",
     "output_type": "stream",
     "text": [
      "                                                                                \r"
     ]
    },
    {
     "name": "stdout",
     "output_type": "stream",
     "text": [
      "+------------------------------+-------+--------+-------+\n",
      "|days_between_search_and_flight|MinFare|MeanFare|MaxFare|\n",
      "+------------------------------+-------+--------+-------+\n",
      "|                             1|  138.6|  302.25| 1624.6|\n",
      "|                             2|   58.6|  254.61| 1624.6|\n",
      "|                             3|   58.6|  253.58| 1527.6|\n",
      "|                             4|   58.6|  249.41| 1527.6|\n",
      "|                             5|   58.6|  247.86| 1624.6|\n",
      "|                             6|   40.6|  221.88| 1527.6|\n",
      "|                             7|   40.6|  218.02| 1624.6|\n",
      "|                             8|   40.6|  211.79|  994.6|\n",
      "|                             9|   40.6|  210.12| 1297.6|\n",
      "|                            10|   40.6|  207.82| 1297.6|\n",
      "|                            11|   40.6|   208.8| 1297.6|\n",
      "|                            12|   40.6|  208.64| 1527.6|\n",
      "|                            13|   40.6|  209.36| 1527.6|\n",
      "|                            14|   40.6|  206.74| 1540.6|\n",
      "|                            15|   40.6|   206.7| 1527.6|\n",
      "|                            16|   40.6|  206.82| 1527.6|\n",
      "|                            17|   40.6|  206.67| 1377.6|\n",
      "|                            18|   40.6|  207.94|  828.6|\n",
      "|                            19|   40.6|  207.34| 1297.6|\n",
      "|                            20|   40.6|  204.77|  828.6|\n",
      "+------------------------------+-------+--------+-------+\n",
      "only showing top 20 rows\n",
      "\n"
     ]
    },
    {
     "name": "stderr",
     "output_type": "stream",
     "text": [
      "                                                                                \r"
     ]
    },
    {
     "name": "stdout",
     "output_type": "stream",
     "text": [
      "+------------------------------+-------+--------+-------+\n",
      "|days_between_search_and_flight|MinFare|MeanFare|MaxFare|\n",
      "+------------------------------+-------+--------+-------+\n",
      "|                             1|  361.6|  667.97| 2335.6|\n",
      "|                             2|  342.6|  642.07| 2335.6|\n",
      "|                             3|  342.6|  641.42| 2335.6|\n",
      "|                             4|  342.6|  646.96| 2335.6|\n",
      "|                             5|  342.6|  651.48| 2335.6|\n",
      "|                             6|  270.6|  571.92| 2335.6|\n",
      "|                             7|  270.6|  568.31| 2475.6|\n",
      "|                             8|  270.6|  569.71| 2475.6|\n",
      "|                             9|  260.6|  575.57| 2335.6|\n",
      "|                            10|  260.6|  574.98| 2335.6|\n",
      "|                            11|  260.6|  573.13| 2335.6|\n",
      "|                            12|  270.6|  576.25| 2335.6|\n",
      "|                            13|  270.6|  578.55| 2475.6|\n",
      "|                            14|  238.6|  515.53| 2335.6|\n",
      "|                            15|  238.6|  514.72| 2335.6|\n",
      "|                            16|  238.6|  513.92| 2335.6|\n",
      "|                            17|  238.6|  515.46| 2335.6|\n",
      "|                            18|  268.6|  518.45| 2335.6|\n",
      "|                            19|  278.6|  514.22| 2335.6|\n",
      "|                            20|  112.6|  512.07| 2335.6|\n",
      "+------------------------------+-------+--------+-------+\n",
      "only showing top 20 rows\n",
      "\n"
     ]
    },
    {
     "name": "stderr",
     "output_type": "stream",
     "text": [
      "                                                                                \r"
     ]
    },
    {
     "name": "stdout",
     "output_type": "stream",
     "text": [
      "+------------------------------+-------+--------+-------+\n",
      "|days_between_search_and_flight|MinFare|MeanFare|MaxFare|\n",
      "+------------------------------+-------+--------+-------+\n",
      "|                             1|  361.6|  677.74| 2475.6|\n",
      "|                             2|  342.6|  658.24| 2475.6|\n",
      "|                             3|  342.6|  655.79| 2475.6|\n",
      "|                             4|  342.6|   658.4| 2335.6|\n",
      "|                             5|  342.6|  664.44| 2475.6|\n",
      "|                             6|  270.6|  584.48| 2335.6|\n",
      "|                             7|  270.6|  573.31| 2335.6|\n",
      "|                             8|  270.6|  569.59| 2335.6|\n",
      "|                             9|  270.6|  574.09| 2335.6|\n",
      "|                            10|  260.6|  570.85| 2335.6|\n",
      "|                            11|  260.6|  571.22| 2335.6|\n",
      "|                            12|  260.6|   571.9| 1308.6|\n",
      "|                            13|  260.6|   567.8| 2335.6|\n",
      "|                            14|  112.6|  507.65| 2335.6|\n",
      "|                            15|  112.6|  503.41| 2335.6|\n",
      "|                            16|  112.6|  501.74| 2335.6|\n",
      "|                            17|  112.6|  505.52| 2335.6|\n",
      "|                            18|  238.6|  505.36| 2335.6|\n",
      "|                            19|  112.6|  500.46| 1308.6|\n",
      "|                            20|  112.6|  498.74| 1308.6|\n",
      "+------------------------------+-------+--------+-------+\n",
      "only showing top 20 rows\n",
      "\n"
     ]
    },
    {
     "name": "stderr",
     "output_type": "stream",
     "text": [
      "                                                                                \r"
     ]
    },
    {
     "name": "stdout",
     "output_type": "stream",
     "text": [
      "+------------------------------+-------+--------+-------+\n",
      "|days_between_search_and_flight|MinFare|MeanFare|MaxFare|\n",
      "+------------------------------+-------+--------+-------+\n",
      "|                             1| 168.61|   441.6| 1204.6|\n",
      "|                             2|  143.6|  424.51| 1204.6|\n",
      "|                             3|  143.6|  422.48| 1249.6|\n",
      "|                             4|   88.6|  418.62| 1089.6|\n",
      "|                             5|   88.6|  420.09| 1089.6|\n",
      "|                             6|   88.6|  350.68| 1089.6|\n",
      "|                             7|   88.6|  348.29| 1089.6|\n",
      "|                             8|   88.6|  344.15| 1089.6|\n",
      "|                             9|  108.6|   338.4|  948.6|\n",
      "|                            10|   83.6|  335.58| 983.61|\n",
      "|                            11|   83.6|  332.52| 1204.6|\n",
      "|                            12|   83.6|  333.24| 1204.6|\n",
      "|                            13|   83.6|  333.57| 1204.6|\n",
      "|                            14|   83.6|  286.65| 1204.6|\n",
      "|                            15|   83.6|  284.23|  993.6|\n",
      "|                            16|   83.6|   282.6|  993.6|\n",
      "|                            17|   83.6|  282.71|  993.6|\n",
      "|                            18|   83.6|   281.5|  993.6|\n",
      "|                            19|   83.6|  282.65|  993.6|\n",
      "|                            20|   83.6|  283.22|  993.6|\n",
      "+------------------------------+-------+--------+-------+\n",
      "only showing top 20 rows\n",
      "\n"
     ]
    },
    {
     "name": "stderr",
     "output_type": "stream",
     "text": [
      "                                                                                \r"
     ]
    },
    {
     "name": "stdout",
     "output_type": "stream",
     "text": [
      "+------------------------------+-------+--------+-------+\n",
      "|days_between_search_and_flight|MinFare|MeanFare|MaxFare|\n",
      "+------------------------------+-------+--------+-------+\n",
      "|                             1|  161.6|  336.15| 1998.6|\n",
      "|                             2| 123.61|  324.47| 1998.6|\n",
      "|                             3|  143.6|  320.52| 1998.6|\n",
      "|                             4| 123.61|  316.67| 1998.6|\n",
      "|                             5| 123.61|  314.99|  698.6|\n",
      "|                             6|  102.6|  279.49|  508.6|\n",
      "|                             7|  133.6|  274.86|  508.6|\n",
      "|                             8|  133.6|   276.2|  508.6|\n",
      "|                             9|  102.6|  274.72|  478.6|\n",
      "|                            10|  102.6|  272.85|  388.6|\n",
      "|                            11|  106.6|  273.15|  388.6|\n",
      "|                            12|  102.6|   272.7|  458.6|\n",
      "|                            13|  102.6|  273.39|  458.6|\n",
      "|                            14|  102.6|  213.16|  378.6|\n",
      "|                            15|  102.6|  212.07|  458.6|\n",
      "|                            16|  106.6|  212.49|  378.6|\n",
      "|                            17|  106.6|  214.01|  378.6|\n",
      "|                            18|  102.6|  214.97|  378.6|\n",
      "|                            19|  102.6|  214.63|  388.6|\n",
      "|                            20|  102.6|  215.36|  378.6|\n",
      "+------------------------------+-------+--------+-------+\n",
      "only showing top 20 rows\n",
      "\n"
     ]
    },
    {
     "name": "stderr",
     "output_type": "stream",
     "text": [
      "                                                                                \r"
     ]
    },
    {
     "name": "stdout",
     "output_type": "stream",
     "text": [
      "+------------------------------+-------+--------+-------+\n",
      "|days_between_search_and_flight|MinFare|MeanFare|MaxFare|\n",
      "+------------------------------+-------+--------+-------+\n",
      "|                             1|  183.6|  536.49| 2176.6|\n",
      "|                             2|  183.6|  397.17| 2176.6|\n",
      "|                             3|  183.6|  372.63| 2176.6|\n",
      "|                             4|  183.6|  363.59|  892.6|\n",
      "|                             5|  183.6|  355.21| 767.61|\n",
      "|                             6|  172.6|   331.0| 1162.6|\n",
      "|                             7|  172.6|  325.99| 1162.6|\n",
      "|                             8|  172.6|  325.12| 1162.6|\n",
      "|                             9|  172.6|  324.61| 1162.6|\n",
      "|                            10|  172.6|  322.52| 1162.6|\n",
      "|                            11|  196.6|   319.8| 1018.6|\n",
      "|                            12|  172.6|  318.23| 767.61|\n",
      "|                            13|  172.6|  320.44| 1018.6|\n",
      "|                            14|  111.6|  318.12| 1162.6|\n",
      "|                            15|  128.6|  315.85| 1018.6|\n",
      "|                            16|  128.6|  314.39| 1018.6|\n",
      "|                            17|  128.6|   315.7| 1162.6|\n",
      "|                            18|  111.6|  316.84| 1162.6|\n",
      "|                            19|  111.6|   317.8| 1018.6|\n",
      "|                            20|  111.6|  317.13| 1018.6|\n",
      "+------------------------------+-------+--------+-------+\n",
      "only showing top 20 rows\n",
      "\n"
     ]
    },
    {
     "name": "stderr",
     "output_type": "stream",
     "text": [
      "                                                                                \r"
     ]
    },
    {
     "name": "stdout",
     "output_type": "stream",
     "text": [
      "+------------------------------+-------+--------+-------+\n",
      "|days_between_search_and_flight|MinFare|MeanFare|MaxFare|\n",
      "+------------------------------+-------+--------+-------+\n",
      "|                             1|  278.6|  335.93|  617.6|\n",
      "|                             2|  278.6|  331.11| 597.61|\n",
      "|                             3|  278.6|  331.23|  603.6|\n",
      "|                             4|  278.6|   330.4|  547.6|\n",
      "|                             5|  278.6|   332.0|  547.6|\n",
      "|                             6|  108.6|  282.43|  488.6|\n",
      "|                             7|  108.6|  278.94|  557.6|\n",
      "|                             8|  108.6|   278.5|  557.6|\n",
      "|                             9|  116.6|  279.97|  557.6|\n",
      "|                            10|  108.6|  278.26|  547.6|\n",
      "|                            11|  116.6|  280.08|  547.6|\n",
      "|                            12|  128.6|  281.83|  547.6|\n",
      "|                            13|  128.6|   282.9|  537.6|\n",
      "|                            14|   90.6|  182.62|  537.6|\n",
      "|                            15|   90.6|  182.08|  537.6|\n",
      "|                            16|   90.6|  181.09|  448.6|\n",
      "|                            17|   90.6|  180.09|  448.6|\n",
      "|                            18|   90.6|  181.38|  438.6|\n",
      "|                            19|   90.6|   181.2|  498.6|\n",
      "|                            20|   90.6|   182.2|  547.6|\n",
      "+------------------------------+-------+--------+-------+\n",
      "only showing top 20 rows\n",
      "\n"
     ]
    },
    {
     "name": "stderr",
     "output_type": "stream",
     "text": [
      "                                                                                \r"
     ]
    },
    {
     "name": "stdout",
     "output_type": "stream",
     "text": [
      "+------------------------------+-------+--------+-------+\n",
      "|days_between_search_and_flight|MinFare|MeanFare|MaxFare|\n",
      "+------------------------------+-------+--------+-------+\n",
      "|                             1| 153.99|  403.21| 1995.6|\n",
      "|                             2| 103.99|  358.39| 1697.6|\n",
      "|                             3|  75.98|  343.48| 1514.6|\n",
      "|                             4|  73.98|  343.19| 1547.6|\n",
      "|                             5|  73.98|  347.26| 1514.6|\n",
      "|                             6|  66.99|  299.48| 1514.6|\n",
      "|                             7|  66.99|  297.44| 1514.6|\n",
      "|                             8|  66.99|  296.93| 1514.6|\n",
      "|                             9|  66.99|  297.01| 1514.6|\n",
      "|                            10|  66.99|  292.04| 1514.6|\n",
      "|                            11|  66.99|  295.18| 1514.6|\n",
      "|                            12|  66.99|  299.35| 1514.6|\n",
      "|                            13|  66.99|  297.51| 1514.6|\n",
      "|                            14|  66.99|  294.43| 1514.6|\n",
      "|                            15|  73.98|  296.19| 1514.6|\n",
      "|                            16|  66.99|  296.38| 1514.6|\n",
      "|                            17|  66.99|  295.22| 1514.6|\n",
      "|                            18|  66.99|  295.28| 1549.6|\n",
      "|                            19|  53.99|  295.91| 1549.6|\n",
      "|                            20|  63.99|  291.18| 1549.6|\n",
      "+------------------------------+-------+--------+-------+\n",
      "only showing top 20 rows\n",
      "\n"
     ]
    },
    {
     "name": "stderr",
     "output_type": "stream",
     "text": [
      "                                                                                \r"
     ]
    },
    {
     "name": "stdout",
     "output_type": "stream",
     "text": [
      "+------------------------------+-------+--------+-------+\n",
      "|days_between_search_and_flight|MinFare|MeanFare|MaxFare|\n",
      "+------------------------------+-------+--------+-------+\n",
      "|                             1|  159.6|  241.63| 1297.6|\n",
      "|                             2|  159.6|   227.8| 1297.6|\n",
      "|                             3|  159.6|  223.57|1198.61|\n",
      "|                             4|  159.6|  218.78|1198.61|\n",
      "|                             5|  159.6|  224.43|1198.61|\n",
      "|                             6|  108.6|  208.25|1198.61|\n",
      "|                             7|  108.6|   205.8|  824.6|\n",
      "|                             8|  108.6|  200.07|1198.61|\n",
      "|                             9|   75.6|  198.89|  798.6|\n",
      "|                            10|   65.6|  196.46|  798.6|\n",
      "|                            11|   65.6|  198.13|1278.61|\n",
      "|                            12|   65.6|  196.81|1278.61|\n",
      "|                            13|   65.6|  196.99|1278.61|\n",
      "|                            14|   65.6|  176.46|1278.61|\n",
      "|                            15|   65.6|  175.19|1278.61|\n",
      "|                            16|   65.6|  173.45|1278.61|\n",
      "|                            17|   65.6|  174.41|  878.6|\n",
      "|                            18|   65.6|  175.91|1278.61|\n",
      "|                            19|   65.6|  169.93|1278.61|\n",
      "|                            20|   65.6|  168.84|  798.6|\n",
      "+------------------------------+-------+--------+-------+\n",
      "only showing top 20 rows\n",
      "\n"
     ]
    },
    {
     "name": "stderr",
     "output_type": "stream",
     "text": [
      "                                                                                \r"
     ]
    },
    {
     "name": "stdout",
     "output_type": "stream",
     "text": [
      "+------------------------------+-------+--------+-------+\n",
      "|days_between_search_and_flight|MinFare|MeanFare|MaxFare|\n",
      "+------------------------------+-------+--------+-------+\n",
      "|                             1|  108.6|  275.56| 1982.6|\n",
      "|                             2|   85.6|  242.11| 1982.6|\n",
      "|                             3|   85.6|  232.29| 1982.6|\n",
      "|                             4|   85.6|  227.62| 1298.6|\n",
      "|                             5|   85.6|  229.56| 1447.6|\n",
      "|                             6|   85.6|  218.43| 1298.6|\n",
      "|                             7|   85.6|  215.79| 1447.6|\n",
      "|                             8|   85.6|  212.53| 1298.6|\n",
      "|                             9|   85.6|  207.12| 1297.6|\n",
      "|                            10|   85.6|  204.72| 1297.6|\n",
      "|                            11|   85.6|  203.98| 1297.6|\n",
      "|                            12|   78.6|  202.99| 1297.6|\n",
      "|                            13|   78.6|  201.12|1498.61|\n",
      "|                            14|   78.6|  196.88|1498.61|\n",
      "|                            15|   78.6|  198.19|1498.61|\n",
      "|                            16|   85.6|  197.09|1498.61|\n",
      "|                            17|   85.6|  198.23|1498.61|\n",
      "|                            18|   85.6|  199.05|1498.61|\n",
      "|                            19|   78.6|   197.0|1498.61|\n",
      "|                            20|   78.6|  192.57|  828.6|\n",
      "+------------------------------+-------+--------+-------+\n",
      "only showing top 20 rows\n",
      "\n"
     ]
    },
    {
     "name": "stderr",
     "output_type": "stream",
     "text": [
      "                                                                                \r"
     ]
    },
    {
     "name": "stdout",
     "output_type": "stream",
     "text": [
      "+------------------------------+-------+--------+-------+\n",
      "|days_between_search_and_flight|MinFare|MeanFare|MaxFare|\n",
      "+------------------------------+-------+--------+-------+\n",
      "|                             1|   93.6|  215.16| 1309.6|\n",
      "|                             2|   54.6|  180.64|1197.61|\n",
      "|                             3|   54.6|  175.96| 1309.6|\n",
      "|                             4|   48.6|  170.85|1197.61|\n",
      "|                             5|   48.6|  172.13| 1309.6|\n",
      "|                             6|   48.6|  156.22| 1309.6|\n",
      "|                             7|   48.6|  152.93| 1309.6|\n",
      "|                             8|   48.6|  148.21| 1239.6|\n",
      "|                             9|   48.6|  144.47| 1239.6|\n",
      "|                            10|   48.6|  143.69| 1309.6|\n",
      "|                            11|   48.6|  140.67| 1309.6|\n",
      "|                            12|   48.6|  139.69| 1309.6|\n",
      "|                            13|   48.6|   138.6| 1309.6|\n",
      "|                            14|   48.6|  119.11|1197.61|\n",
      "|                            15|   48.6|  118.83|1197.61|\n",
      "|                            16|   48.6|   118.4|1197.61|\n",
      "|                            17|   48.6|  119.13|1277.61|\n",
      "|                            18|   48.6|  119.83|1277.61|\n",
      "|                            19|   48.6|  119.59|1277.61|\n",
      "|                            20|   48.6|  118.49|1277.61|\n",
      "+------------------------------+-------+--------+-------+\n",
      "only showing top 20 rows\n",
      "\n"
     ]
    },
    {
     "name": "stderr",
     "output_type": "stream",
     "text": [
      "                                                                                \r"
     ]
    },
    {
     "name": "stdout",
     "output_type": "stream",
     "text": [
      "+------------------------------+-------+--------+-------+\n",
      "|days_between_search_and_flight|MinFare|MeanFare|MaxFare|\n",
      "+------------------------------+-------+--------+-------+\n",
      "|                             1| 123.61|  357.37| 2227.6|\n",
      "|                             2|  108.6|  313.27|2187.61|\n",
      "|                             3|  108.6|  312.47|1278.61|\n",
      "|                             4|  108.6|  321.62| 2227.6|\n",
      "|                             5|  108.6|  327.95| 1897.6|\n",
      "|                             6|   88.6|  323.62| 1897.6|\n",
      "|                             7|   88.6|   321.4| 1748.6|\n",
      "|                             8|   88.6|  317.59|1198.61|\n",
      "|                             9|   88.6|  317.35|1198.61|\n",
      "|                            10|   88.6|  313.64| 1897.6|\n",
      "|                            11|   88.6|  315.23|1198.61|\n",
      "|                            12|   88.6|  318.12| 1128.6|\n",
      "|                            13|   88.6|  318.95|1198.61|\n",
      "|                            14|   88.6|  318.65|1198.61|\n",
      "|                            15|   88.6|   320.9| 2107.6|\n",
      "|                            16|   88.6|  320.46|1278.61|\n",
      "|                            17|   88.6|  321.98| 2227.6|\n",
      "|                            18|   88.6|  322.54| 2227.6|\n",
      "|                            19|   88.6|  318.92| 2107.6|\n",
      "|                            20|   88.6|  320.36| 2107.6|\n",
      "+------------------------------+-------+--------+-------+\n",
      "only showing top 20 rows\n",
      "\n"
     ]
    },
    {
     "name": "stderr",
     "output_type": "stream",
     "text": [
      "                                                                                \r"
     ]
    },
    {
     "name": "stdout",
     "output_type": "stream",
     "text": [
      "+------------------------------+-------+--------+-------+\n",
      "|days_between_search_and_flight|MinFare|MeanFare|MaxFare|\n",
      "+------------------------------+-------+--------+-------+\n",
      "|                             1|  69.98|  516.81| 1104.6|\n",
      "|                             2|  50.99|  501.13| 1104.6|\n",
      "|                             3|  53.99|  495.13| 1104.6|\n",
      "|                             4|  50.99|  492.65| 1104.6|\n",
      "|                             5|  50.99|  489.63| 1104.6|\n",
      "|                             6|  23.97|  391.41| 1104.6|\n",
      "|                             7|  23.97|  380.64|  848.6|\n",
      "|                             8|  23.97|  377.58|  848.6|\n",
      "|                             9|  23.97|  377.45| 1104.6|\n",
      "|                            10|  23.97|  376.31|  883.6|\n",
      "|                            11|  23.97|  375.92| 1104.6|\n",
      "|                            12|  23.97|  377.05| 1134.6|\n",
      "|                            13|  23.97|  376.28| 1134.6|\n",
      "|                            14|  23.97|  263.49|  883.6|\n",
      "|                            15|  23.97|  264.59|  883.6|\n",
      "|                            16|  23.97|  264.07|  883.6|\n",
      "|                            17|  23.97|  263.86|  883.6|\n",
      "|                            18|  23.97|  263.22|  883.6|\n",
      "|                            19|  23.97|  265.13|  883.6|\n",
      "|                            20|  23.97|  266.16|  883.6|\n",
      "+------------------------------+-------+--------+-------+\n",
      "only showing top 20 rows\n",
      "\n"
     ]
    },
    {
     "name": "stderr",
     "output_type": "stream",
     "text": [
      "                                                                                \r"
     ]
    },
    {
     "name": "stdout",
     "output_type": "stream",
     "text": [
      "+------------------------------+-------+--------+-------+\n",
      "|days_between_search_and_flight|MinFare|MeanFare|MaxFare|\n",
      "+------------------------------+-------+--------+-------+\n",
      "|                             1|  47.98|  263.26| 2453.6|\n",
      "|                             2|  35.98|   210.1| 2453.6|\n",
      "|                             3|  35.98|  198.93| 2453.6|\n",
      "|                             4|  47.98|  196.19| 2453.6|\n",
      "|                             5|  35.98|  196.41| 1143.6|\n",
      "|                             6|  35.98|   178.7| 1143.6|\n",
      "|                             7|  35.98|  171.69|  723.6|\n",
      "|                             8|  35.98|  170.32| 1143.6|\n",
      "|                             9|  35.98|  167.05|  418.6|\n",
      "|                            10|  35.98|  165.76|  418.6|\n",
      "|                            11|   68.6|  165.21|  408.6|\n",
      "|                            12|   68.6|  163.56|  452.6|\n",
      "|                            13|   68.6|  165.14|  408.6|\n",
      "|                            14|   48.6|  164.28|  408.6|\n",
      "|                            15|   48.6|  162.53|  408.6|\n",
      "|                            16|   48.6|  162.07|  418.6|\n",
      "|                            17|   48.6|   163.3|  408.6|\n",
      "|                            18|   48.6|  163.48|  418.6|\n",
      "|                            19|   48.6|  163.38|  508.6|\n",
      "|                            20|   48.6|  163.18|  508.6|\n",
      "+------------------------------+-------+--------+-------+\n",
      "only showing top 20 rows\n",
      "\n"
     ]
    },
    {
     "name": "stderr",
     "output_type": "stream",
     "text": [
      "                                                                                \r"
     ]
    },
    {
     "name": "stdout",
     "output_type": "stream",
     "text": [
      "+------------------------------+-------+--------+-------+\n",
      "|days_between_search_and_flight|MinFare|MeanFare|MaxFare|\n",
      "+------------------------------+-------+--------+-------+\n",
      "|                             1| 103.99|  435.59| 2271.6|\n",
      "|                             2|  53.99|  372.56| 2271.6|\n",
      "|                             3|  53.99|  369.76| 2271.6|\n",
      "|                             4|  53.99|  370.16| 2271.6|\n",
      "|                             5|  50.99|  358.09| 1234.6|\n",
      "|                             6|  50.99|  351.82| 1234.6|\n",
      "|                             7|  33.97|  347.95| 1234.6|\n",
      "|                             8|  33.97|  347.84| 1061.6|\n",
      "|                             9|  39.98|  344.58| 1061.6|\n",
      "|                            10|  33.97|  341.26| 1234.6|\n",
      "|                            11|  33.97|   338.5| 1234.6|\n",
      "|                            12|  37.98|   335.5| 1081.6|\n",
      "|                            13|  37.98|  336.36| 1081.6|\n",
      "|                            14|  39.98|   325.7| 1061.6|\n",
      "|                            15|  39.98|  322.86| 1061.6|\n",
      "|                            16|  39.98|  320.52|  799.6|\n",
      "|                            17|  37.98|  319.19| 1234.6|\n",
      "|                            18|  37.98|  318.33| 1234.6|\n",
      "|                            19|  39.98|  315.98| 1234.6|\n",
      "|                            20|  47.98|  312.09| 1234.6|\n",
      "+------------------------------+-------+--------+-------+\n",
      "only showing top 20 rows\n",
      "\n"
     ]
    },
    {
     "name": "stderr",
     "output_type": "stream",
     "text": [
      "                                                                                \r"
     ]
    },
    {
     "name": "stdout",
     "output_type": "stream",
     "text": [
      "+------------------------------+-------+--------+-------+\n",
      "|days_between_search_and_flight|MinFare|MeanFare|MaxFare|\n",
      "+------------------------------+-------+--------+-------+\n",
      "|                             1|   93.6|  218.15| 1535.6|\n",
      "|                             2|   54.6|  184.08| 1535.6|\n",
      "|                             3|   54.6|  182.05| 1535.6|\n",
      "|                             4|   48.6|  181.88| 1535.6|\n",
      "|                             5|   48.6|  182.05| 1535.6|\n",
      "|                             6|   48.6|  173.27| 1535.6|\n",
      "|                             7|   48.6|  175.36| 1535.6|\n",
      "|                             8|   48.6|  173.16| 1535.6|\n",
      "|                             9|   48.6|  172.95| 1244.6|\n",
      "|                            10|   48.6|  171.54| 1244.6|\n",
      "|                            11|   48.6|  170.48| 1244.6|\n",
      "|                            12|   48.6|  170.12| 1535.6|\n",
      "|                            13|   48.6|  169.99| 1535.6|\n",
      "|                            14|   48.6|  161.05| 1535.6|\n",
      "|                            15|   48.6|  161.52| 1535.6|\n",
      "|                            16|   48.6|  160.91| 1244.6|\n",
      "|                            17|   48.6|  160.27| 1244.6|\n",
      "|                            18|   48.6|  160.65| 1244.6|\n",
      "|                            19|   48.6|  160.19| 1535.6|\n",
      "|                            20|   48.6|  159.25| 1464.6|\n",
      "+------------------------------+-------+--------+-------+\n",
      "only showing top 20 rows\n",
      "\n"
     ]
    },
    {
     "name": "stderr",
     "output_type": "stream",
     "text": [
      "                                                                                \r"
     ]
    },
    {
     "name": "stdout",
     "output_type": "stream",
     "text": [
      "+------------------------------+-------+--------+-------+\n",
      "|days_between_search_and_flight|MinFare|MeanFare|MaxFare|\n",
      "+------------------------------+-------+--------+-------+\n",
      "|                             1|  63.99|  340.93| 2499.6|\n",
      "|                             2|  63.99|   317.5| 2499.6|\n",
      "|                             3|  63.99|  317.84| 1254.6|\n",
      "|                             4|  63.99|  315.46| 2099.6|\n",
      "|                             5|  45.98|  312.03|  899.0|\n",
      "|                             6|  45.98|  301.72| 1368.6|\n",
      "|                             7|  45.98|  298.78| 1368.6|\n",
      "|                             8|  45.98|  298.65| 1368.6|\n",
      "|                             9|  45.98|  294.04|  973.6|\n",
      "|                            10|  45.98|  293.52|  973.6|\n",
      "|                            11|  45.98|  294.45|  973.6|\n",
      "|                            12|  45.98|  293.51|  794.6|\n",
      "|                            13|  45.98|  294.36|  901.6|\n",
      "|                            14|  45.98|   254.9| 2499.6|\n",
      "|                            15|  45.98|   252.9|  901.6|\n",
      "|                            16|  45.98|  251.86| 1368.6|\n",
      "|                            17|  45.98|  251.78|  973.6|\n",
      "|                            18|  45.98|  254.59| 1368.6|\n",
      "|                            19|  45.98|  255.51|  901.6|\n",
      "|                            20|  45.98|  255.48|  678.6|\n",
      "+------------------------------+-------+--------+-------+\n",
      "only showing top 20 rows\n",
      "\n"
     ]
    },
    {
     "name": "stderr",
     "output_type": "stream",
     "text": [
      "                                                                                \r"
     ]
    },
    {
     "name": "stdout",
     "output_type": "stream",
     "text": [
      "+------------------------------+-------+--------+-------+\n",
      "|days_between_search_and_flight|MinFare|MeanFare|MaxFare|\n",
      "+------------------------------+-------+--------+-------+\n",
      "|                             1|  159.6|  287.14| 1638.6|\n",
      "|                             2|  159.6|  260.71| 1638.6|\n",
      "|                             3|  159.6|  256.47| 1638.6|\n",
      "|                             4|  159.6|  246.61| 1638.6|\n",
      "|                             5|  159.6|  241.15| 1638.6|\n",
      "|                             6|  100.6|  219.52| 1638.6|\n",
      "|                             7|  100.6|  211.33|1197.61|\n",
      "|                             8|  100.6|  208.13| 1638.6|\n",
      "|                             9|   75.6|  202.77| 1263.6|\n",
      "|                            10|   75.6|  203.14| 1263.6|\n",
      "|                            11|   75.6|   202.7| 1127.6|\n",
      "|                            12|   75.6|   200.9| 1127.6|\n",
      "|                            13|   75.6|   200.8| 1127.6|\n",
      "|                            14|   70.6|  178.97| 1127.6|\n",
      "|                            15|   65.6|   178.8| 1127.6|\n",
      "|                            16|   65.6|  178.98|1277.61|\n",
      "|                            17|   65.6|  178.29| 1263.6|\n",
      "|                            18|   65.6|   177.5| 1178.6|\n",
      "|                            19|   65.6|  176.12| 1098.6|\n",
      "|                            20|   65.6|  175.45| 1127.6|\n",
      "+------------------------------+-------+--------+-------+\n",
      "only showing top 20 rows\n",
      "\n"
     ]
    },
    {
     "name": "stderr",
     "output_type": "stream",
     "text": [
      "                                                                                \r"
     ]
    },
    {
     "name": "stdout",
     "output_type": "stream",
     "text": [
      "+------------------------------+-------+--------+-------+\n",
      "|days_between_search_and_flight|MinFare|MeanFare|MaxFare|\n",
      "+------------------------------+-------+--------+-------+\n",
      "|                             1|  88.98|  406.58|2705.61|\n",
      "|                             2|  81.98|  353.18| 769.61|\n",
      "|                             3|  77.98|  346.01|1198.61|\n",
      "|                             4|  77.98|  338.56|  644.6|\n",
      "|                             5|  47.98|  337.84|  644.6|\n",
      "|                             6|  35.97|  302.63| 1488.6|\n",
      "|                             7|  44.98|  293.87|  628.6|\n",
      "|                             8|  35.97|  288.49|  618.6|\n",
      "|                             9|  35.97|  280.85|1198.61|\n",
      "|                            10|  35.97|  278.56| 1598.6|\n",
      "|                            11|  35.97|  274.84|1198.61|\n",
      "|                            12|  35.97|   274.8|1198.61|\n",
      "|                            13|  35.97|  283.54|1198.61|\n",
      "|                            14|  47.98|  245.77| 1488.6|\n",
      "|                            15|  47.98|  253.01| 1488.6|\n",
      "|                            16|  47.98|  247.88| 1488.6|\n",
      "|                            17|  47.98|  246.52| 1488.6|\n",
      "|                            18|  47.98|  244.41| 1488.6|\n",
      "|                            19|  47.98|  245.88| 1488.6|\n",
      "|                            20|  44.98|  247.81|1198.61|\n",
      "+------------------------------+-------+--------+-------+\n",
      "only showing top 20 rows\n",
      "\n"
     ]
    },
    {
     "name": "stderr",
     "output_type": "stream",
     "text": [
      "                                                                                \r"
     ]
    },
    {
     "name": "stdout",
     "output_type": "stream",
     "text": [
      "+------------------------------+-------+--------+-------+\n",
      "|days_between_search_and_flight|MinFare|MeanFare|MaxFare|\n",
      "+------------------------------+-------+--------+-------+\n",
      "|                             1|   98.6|  302.47| 2452.6|\n",
      "|                             2|   78.6|  272.96| 2452.6|\n",
      "|                             3|   78.6|  274.63| 2160.6|\n",
      "|                             4|   78.6|  274.08| 2160.6|\n",
      "|                             5|   78.6|  275.08| 2160.6|\n",
      "|                             6|   68.6|  261.12| 1747.6|\n",
      "|                             7|   68.6|  253.34| 2160.6|\n",
      "|                             8|   68.6|  250.84| 1747.6|\n",
      "|                             9|   68.6|  243.36| 1747.6|\n",
      "|                            10|   68.6|  241.94| 1747.6|\n",
      "|                            11|   68.6|  243.73| 1747.6|\n",
      "|                            12|   68.6|  243.37| 1747.6|\n",
      "|                            13|   68.6|  239.25| 1747.6|\n",
      "|                            14|   68.6|  239.51| 1747.6|\n",
      "|                            15|   68.6|   239.9| 2044.6|\n",
      "|                            16|   68.6|  239.33| 2044.6|\n",
      "|                            17|   68.6|  239.84| 2044.6|\n",
      "|                            18|   77.6|   238.2| 2044.6|\n",
      "|                            19|   63.6|  238.11| 1178.6|\n",
      "|                            20|   63.6|  233.92| 1178.6|\n",
      "+------------------------------+-------+--------+-------+\n",
      "only showing top 20 rows\n",
      "\n"
     ]
    },
    {
     "name": "stderr",
     "output_type": "stream",
     "text": [
      "                                                                                \r"
     ]
    },
    {
     "name": "stdout",
     "output_type": "stream",
     "text": [
      "+------------------------------+-------+--------+-------+\n",
      "|days_between_search_and_flight|MinFare|MeanFare|MaxFare|\n",
      "+------------------------------+-------+--------+-------+\n",
      "|                             1|  172.6|  314.81| 1431.6|\n",
      "|                             2|  172.6|  263.28| 1431.6|\n",
      "|                             3|  172.6|  256.86| 1431.6|\n",
      "|                             4|  172.6|  255.92| 1431.6|\n",
      "|                             5|  172.6|   256.3| 1431.6|\n",
      "|                             6|  141.6|  251.45| 1431.6|\n",
      "|                             7|  141.6|  248.87| 1431.6|\n",
      "|                             8|  151.6|  241.24| 1297.6|\n",
      "|                             9|   89.6|  235.41| 1297.6|\n",
      "|                            10|   89.6|  232.65| 1297.6|\n",
      "|                            11|   89.6|  233.67| 1297.6|\n",
      "|                            12|   89.6|  233.74| 1297.6|\n",
      "|                            13|   89.6|  235.83| 1148.6|\n",
      "|                            14|   88.6|  218.83|1327.61|\n",
      "|                            15|   88.6|  216.82|1327.61|\n",
      "|                            16|   88.6|  215.36| 978.61|\n",
      "|                            17|   88.6|  217.36| 978.61|\n",
      "|                            18|   88.6|  219.08| 978.61|\n",
      "|                            19|   88.6|  217.51| 978.61|\n",
      "|                            20|   88.6|  218.25| 978.61|\n",
      "+------------------------------+-------+--------+-------+\n",
      "only showing top 20 rows\n",
      "\n"
     ]
    },
    {
     "name": "stderr",
     "output_type": "stream",
     "text": [
      "                                                                                \r"
     ]
    },
    {
     "name": "stdout",
     "output_type": "stream",
     "text": [
      "+------------------------------+-------+--------+-------+\n",
      "|days_between_search_and_flight|MinFare|MeanFare|MaxFare|\n",
      "+------------------------------+-------+--------+-------+\n",
      "|                             1|  258.6|  611.34| 2118.6|\n",
      "|                             2|  93.99|  601.18| 2118.6|\n",
      "|                             3| 153.99|  605.63| 2118.6|\n",
      "|                             4| 153.99|   603.9| 2118.6|\n",
      "|                             5| 153.99|  605.03| 2118.6|\n",
      "|                             6| 153.99|  496.45| 2118.6|\n",
      "|                             7| 153.99|  492.47| 1734.6|\n",
      "|                             8| 153.99|  493.77|1278.61|\n",
      "|                             9| 153.99|  491.87| 1484.6|\n",
      "|                            10|  140.6|  492.67| 1484.6|\n",
      "|                            11| 163.98|  495.61| 2118.6|\n",
      "|                            12| 158.98|  496.27|1278.61|\n",
      "|                            13| 158.98|  497.35|1278.61|\n",
      "|                            14|  140.6|  422.85|1278.61|\n",
      "|                            15|  140.6|  423.27| 1293.6|\n",
      "|                            16|  140.6|   425.9| 1293.6|\n",
      "|                            17|  140.6|  428.12| 1519.6|\n",
      "|                            18|  198.6|  426.85| 1519.6|\n",
      "|                            19|  198.6|   427.3|1283.61|\n",
      "|                            20|  198.6|  428.77|1283.61|\n",
      "+------------------------------+-------+--------+-------+\n",
      "only showing top 20 rows\n",
      "\n"
     ]
    },
    {
     "name": "stderr",
     "output_type": "stream",
     "text": [
      "                                                                                \r"
     ]
    },
    {
     "name": "stdout",
     "output_type": "stream",
     "text": [
      "+------------------------------+-------+--------+-------+\n",
      "|days_between_search_and_flight|MinFare|MeanFare|MaxFare|\n",
      "+------------------------------+-------+--------+-------+\n",
      "|                             1|  80.61|  212.43|2361.61|\n",
      "|                             2|   63.6|  208.39|2361.61|\n",
      "|                             3|   63.6|  210.08|2361.61|\n",
      "|                             4|   63.6|  208.34|2361.61|\n",
      "|                             5|   63.6|  214.04|2361.61|\n",
      "|                             6|   47.6|  212.93|2361.61|\n",
      "|                             7|   47.6|   210.5|2361.61|\n",
      "|                             8|   56.6|   212.9| 1961.6|\n",
      "|                             9|   56.6|   211.3| 1961.6|\n",
      "|                            10|   56.6|  211.62|2361.61|\n",
      "|                            11|   56.6|  212.92|2361.61|\n",
      "|                            12|   56.6|  211.23|2361.61|\n",
      "|                            13|   56.6|  213.51|2361.61|\n",
      "|                            14|   56.6|  214.51|1028.61|\n",
      "|                            15|   56.6|  212.77|  948.6|\n",
      "|                            16|   56.6|   211.8|2361.61|\n",
      "|                            17|   56.6|  211.91|  948.6|\n",
      "|                            18|   58.6|  214.43|2361.61|\n",
      "|                            19|   58.6|  216.04|2361.61|\n",
      "|                            20|   58.6|  217.86|2361.61|\n",
      "+------------------------------+-------+--------+-------+\n",
      "only showing top 20 rows\n",
      "\n"
     ]
    },
    {
     "name": "stderr",
     "output_type": "stream",
     "text": [
      "                                                                                \r"
     ]
    },
    {
     "name": "stdout",
     "output_type": "stream",
     "text": [
      "+------------------------------+-------+--------+-------+\n",
      "|days_between_search_and_flight|MinFare|MeanFare|MaxFare|\n",
      "+------------------------------+-------+--------+-------+\n",
      "|                             1|  148.6|   345.1| 1857.6|\n",
      "|                             2|  118.6|  286.25| 1597.6|\n",
      "|                             3|   98.6|  280.39|1028.61|\n",
      "|                             4|   98.6|  278.53|1028.61|\n",
      "|                             5|   98.6|  290.37|1028.61|\n",
      "|                             6|   98.6|  287.41| 1597.6|\n",
      "|                             7|   98.6|  281.79| 1597.6|\n",
      "|                             8|   98.6|  286.49| 1597.6|\n",
      "|                             9|   98.6|  279.61| 1597.6|\n",
      "|                            10|   98.6|  279.63| 1597.6|\n",
      "|                            11|   98.6|  281.74| 1597.6|\n",
      "|                            12|   98.6|  284.68| 1597.6|\n",
      "|                            13|   98.6|  287.72| 1597.6|\n",
      "|                            14|   98.6|   268.8| 1597.6|\n",
      "|                            15|   98.6|  260.62| 1597.6|\n",
      "|                            16|   98.6|  270.04| 1857.6|\n",
      "|                            17|   98.6|  262.21|1028.61|\n",
      "|                            18|   98.6|  268.84|1108.61|\n",
      "|                            19|   98.6|  269.93|1108.61|\n",
      "|                            20|   98.6|   272.0|1108.61|\n",
      "+------------------------------+-------+--------+-------+\n",
      "only showing top 20 rows\n",
      "\n"
     ]
    },
    {
     "name": "stderr",
     "output_type": "stream",
     "text": [
      "                                                                                \r"
     ]
    },
    {
     "name": "stdout",
     "output_type": "stream",
     "text": [
      "+------------------------------+-------+--------+-------+\n",
      "|days_between_search_and_flight|MinFare|MeanFare|MaxFare|\n",
      "+------------------------------+-------+--------+-------+\n",
      "|                             1| 293.98|  608.81| 2118.6|\n",
      "|                             2|  93.99|  598.27| 1718.6|\n",
      "|                             3|  93.99|   598.8| 1718.6|\n",
      "|                             4|  93.99|  597.31| 1288.6|\n",
      "|                             5| 153.99|  597.43| 2138.6|\n",
      "|                             6| 153.99|  484.49| 1185.6|\n",
      "|                             7| 153.99|  482.24| 1248.6|\n",
      "|                             8| 153.99|  483.05| 1248.6|\n",
      "|                             9| 153.99|  483.12| 2118.6|\n",
      "|                            10| 153.99|  483.12| 2148.6|\n",
      "|                            11| 153.99|  484.46| 1248.6|\n",
      "|                            12| 158.98|  483.89| 1248.6|\n",
      "|                            13| 158.98|  487.22| 1248.6|\n",
      "|                            14|  130.6|  402.93| 1248.6|\n",
      "|                            15| 143.99|  406.42| 2148.6|\n",
      "|                            16| 143.99|  404.93| 2118.6|\n",
      "|                            17| 143.99|  406.19|1283.61|\n",
      "|                            18| 168.61|  408.23|1283.61|\n",
      "|                            19|  130.6|  408.79| 1248.6|\n",
      "|                            20|  145.6|   410.1| 1248.6|\n",
      "+------------------------------+-------+--------+-------+\n",
      "only showing top 20 rows\n",
      "\n"
     ]
    },
    {
     "name": "stderr",
     "output_type": "stream",
     "text": [
      "                                                                                \r"
     ]
    },
    {
     "name": "stdout",
     "output_type": "stream",
     "text": [
      "+------------------------------+-------+--------+-------+\n",
      "|days_between_search_and_flight|MinFare|MeanFare|MaxFare|\n",
      "+------------------------------+-------+--------+-------+\n",
      "|                             1|  274.6|  422.59| 2301.6|\n",
      "|                             2|  274.6|  424.05| 2301.6|\n",
      "|                             3|  274.6|  440.02| 2628.6|\n",
      "|                             4|  274.6|  440.38| 2228.6|\n",
      "|                             5|  274.6|  446.75| 2628.6|\n",
      "|                             6|  160.6|  413.08| 2628.6|\n",
      "|                             7|  160.6|  406.91| 2177.6|\n",
      "|                             8|  190.6|  406.73| 2177.6|\n",
      "|                             9|  144.6|  405.52| 2177.6|\n",
      "|                            10|  144.6|  409.17| 2628.6|\n",
      "|                            11|  144.6|  413.93| 2228.6|\n",
      "|                            12|  144.6|  412.68| 2228.6|\n",
      "|                            13|  144.6|  411.07| 2177.6|\n",
      "|                            14|   88.6|  392.66| 2228.6|\n",
      "|                            15|   88.6|  395.73| 2228.6|\n",
      "|                            16|   88.6|   397.4| 2177.6|\n",
      "|                            17|   88.6|  399.19| 2177.6|\n",
      "|                            18|  130.6|  399.98| 2177.6|\n",
      "|                            19|  130.6|  395.54| 2301.6|\n",
      "|                            20|   88.6|  384.43| 1977.6|\n",
      "+------------------------------+-------+--------+-------+\n",
      "only showing top 20 rows\n",
      "\n"
     ]
    },
    {
     "name": "stderr",
     "output_type": "stream",
     "text": [
      "                                                                                \r"
     ]
    },
    {
     "name": "stdout",
     "output_type": "stream",
     "text": [
      "+------------------------------+-------+--------+-------+\n",
      "|days_between_search_and_flight|MinFare|MeanFare|MaxFare|\n",
      "+------------------------------+-------+--------+-------+\n",
      "|                             1|  83.98|  337.37| 2203.6|\n",
      "|                             2|  83.98|  326.84| 2203.6|\n",
      "|                             3|  83.98|  336.63| 2203.6|\n",
      "|                             4|  83.98|   336.8| 2203.6|\n",
      "|                             5|  83.98|  340.65| 1747.6|\n",
      "|                             6|  81.98|  319.26| 1747.6|\n",
      "|                             7|  81.98|  317.42| 2203.6|\n",
      "|                             8|  81.98|  321.16| 2203.6|\n",
      "|                             9|  83.98|  317.57| 2203.6|\n",
      "|                            10|  81.98|  316.05| 2203.6|\n",
      "|                            11|  83.98|  312.87| 2203.6|\n",
      "|                            12|  81.98|  313.26| 2203.6|\n",
      "|                            13|  81.98|  313.95| 1377.6|\n",
      "|                            14|  81.98|  304.48| 1377.6|\n",
      "|                            15|  82.98|  300.27| 1377.6|\n",
      "|                            16|  82.98|  299.68| 1377.6|\n",
      "|                            17|  82.98|  301.34| 1377.6|\n",
      "|                            18|  81.98|  302.24| 1803.6|\n",
      "|                            19|  70.98|  302.42| 2203.6|\n",
      "|                            20|  61.99|  301.13| 2203.6|\n",
      "+------------------------------+-------+--------+-------+\n",
      "only showing top 20 rows\n",
      "\n"
     ]
    },
    {
     "name": "stderr",
     "output_type": "stream",
     "text": [
      "                                                                                \r"
     ]
    },
    {
     "name": "stdout",
     "output_type": "stream",
     "text": [
      "+------------------------------+-------+--------+-------+\n",
      "|days_between_search_and_flight|MinFare|MeanFare|MaxFare|\n",
      "+------------------------------+-------+--------+-------+\n",
      "|                             1|  138.6|  322.55|  864.6|\n",
      "|                             2|  118.6|  300.71|  824.6|\n",
      "|                             3|  118.6|  299.53|  824.6|\n",
      "|                             4|   63.6|  293.84|  824.6|\n",
      "|                             5|   63.6|  292.27|  824.6|\n",
      "|                             6|   63.6|  258.97|  824.6|\n",
      "|                             7|   63.6|  254.49|  824.6|\n",
      "|                             8|   63.6|  248.67|  824.6|\n",
      "|                             9|   63.6|  250.02|  738.6|\n",
      "|                            10|   98.6|  246.98|  704.6|\n",
      "|                            11|   63.6|  247.28|  704.6|\n",
      "|                            12|   98.6|   248.9|  728.6|\n",
      "|                            13|   63.6|  247.59|  824.6|\n",
      "|                            14|   58.6|  225.92|  824.6|\n",
      "|                            15|   58.6|  225.33|  824.6|\n",
      "|                            16|   58.6|  225.21|  824.6|\n",
      "|                            17|   58.6|  224.76|  824.6|\n",
      "|                            18|   58.6|  221.47|  728.6|\n",
      "|                            19|   58.6|  223.85|  824.6|\n",
      "|                            20|   58.6|  222.12|  824.6|\n",
      "+------------------------------+-------+--------+-------+\n",
      "only showing top 20 rows\n",
      "\n"
     ]
    },
    {
     "name": "stderr",
     "output_type": "stream",
     "text": [
      "                                                                                \r"
     ]
    },
    {
     "name": "stdout",
     "output_type": "stream",
     "text": [
      "+------------------------------+-------+--------+-------+\n",
      "|days_between_search_and_flight|MinFare|MeanFare|MaxFare|\n",
      "+------------------------------+-------+--------+-------+\n",
      "|                             1|  260.6|  472.95| 2296.6|\n",
      "|                             2|  220.6|  463.57| 2296.6|\n",
      "|                             3|  260.6|   465.5| 2296.6|\n",
      "|                             4|  260.6|  469.45| 2296.6|\n",
      "|                             5|  260.6|  477.84| 2296.6|\n",
      "|                             6|  205.6|  449.47| 2434.6|\n",
      "|                             7|  205.6|  449.49| 2296.6|\n",
      "|                             8|  205.6|  452.67| 2296.6|\n",
      "|                             9|  205.6|  447.55| 2434.6|\n",
      "|                            10|  205.6|  453.83| 2296.6|\n",
      "|                            11|  205.6|  449.31| 2296.6|\n",
      "|                            12|  205.6|  451.47| 2296.6|\n",
      "|                            13|  220.6|  459.18| 2296.6|\n",
      "|                            14| 122.61|  430.83| 2296.6|\n",
      "|                            15|  132.6|  428.41| 2296.6|\n",
      "|                            16|  132.6|  428.77| 2296.6|\n",
      "|                            17|  132.6|  421.49| 2296.6|\n",
      "|                            18| 122.61|  419.72| 2296.6|\n",
      "|                            19|  132.6|  410.03| 2296.6|\n",
      "|                            20|  132.6|  406.04| 2296.6|\n",
      "+------------------------------+-------+--------+-------+\n",
      "only showing top 20 rows\n",
      "\n"
     ]
    },
    {
     "name": "stderr",
     "output_type": "stream",
     "text": [
      "                                                                                \r"
     ]
    },
    {
     "name": "stdout",
     "output_type": "stream",
     "text": [
      "+------------------------------+-------+--------+-------+\n",
      "|days_between_search_and_flight|MinFare|MeanFare|MaxFare|\n",
      "+------------------------------+-------+--------+-------+\n",
      "|                             1|  140.6|  276.11| 2505.6|\n",
      "|                             2|  108.6|  228.32| 2105.6|\n",
      "|                             3|  108.6|  224.27| 2105.6|\n",
      "|                             4|  108.6|  221.46| 1110.6|\n",
      "|                             5|  108.6|  221.03| 1105.6|\n",
      "|                             6|   93.6|   221.2| 1105.6|\n",
      "|                             7|   89.6|   218.4| 1105.6|\n",
      "|                             8|   89.6|  216.92| 1105.6|\n",
      "|                             9|   93.6|  211.19| 1105.6|\n",
      "|                            10|   93.6|  210.09| 1105.6|\n",
      "|                            11|   93.6|  210.52|  658.6|\n",
      "|                            12|   93.6|  208.09|  648.6|\n",
      "|                            13|   93.6|  210.56|  648.6|\n",
      "|                            14|   89.6|  205.37|  648.6|\n",
      "|                            15|   89.6|  201.33|  648.6|\n",
      "|                            16|   93.6|  197.96| 598.61|\n",
      "|                            17|   93.6|  201.34| 633.61|\n",
      "|                            18|   93.6|  201.46|  648.6|\n",
      "|                            19|   93.6|  202.13|  648.6|\n",
      "|                            20|   93.6|  199.56| 598.61|\n",
      "+------------------------------+-------+--------+-------+\n",
      "only showing top 20 rows\n",
      "\n"
     ]
    },
    {
     "name": "stderr",
     "output_type": "stream",
     "text": [
      "                                                                                \r"
     ]
    },
    {
     "name": "stdout",
     "output_type": "stream",
     "text": [
      "+------------------------------+-------+--------+-------+\n",
      "|days_between_search_and_flight|MinFare|MeanFare|MaxFare|\n",
      "+------------------------------+-------+--------+-------+\n",
      "|                             1|  108.6|  228.95| 2091.6|\n",
      "|                             2|   85.6|   205.6| 2091.6|\n",
      "|                             3|   85.6|  203.32| 2091.6|\n",
      "|                             4|   78.6|  201.82| 2091.6|\n",
      "|                             5|   78.6|  201.82| 1447.6|\n",
      "|                             6|   70.6|  187.63| 1447.6|\n",
      "|                             7|   70.6|  184.34| 1447.6|\n",
      "|                             8|   78.6|   183.8| 2091.6|\n",
      "|                             9|   78.6|  180.78| 1298.6|\n",
      "|                            10|   78.6|  180.69| 1298.6|\n",
      "|                            11|   78.6|  181.77| 1298.6|\n",
      "|                            12|   78.6|  180.88| 1298.6|\n",
      "|                            13|   78.6|  181.63| 898.61|\n",
      "|                            14|   78.6|  174.51| 1298.6|\n",
      "|                            15|   78.6|  173.07| 1298.6|\n",
      "|                            16|   78.6|   170.8| 1298.6|\n",
      "|                            17|   78.6|  171.84| 1298.6|\n",
      "|                            18|   88.6|  173.09| 1298.6|\n",
      "|                            19|   78.6|  172.79| 1298.6|\n",
      "|                            20|   78.6|  172.94| 1298.6|\n",
      "+------------------------------+-------+--------+-------+\n",
      "only showing top 20 rows\n",
      "\n"
     ]
    },
    {
     "name": "stderr",
     "output_type": "stream",
     "text": [
      "                                                                                \r"
     ]
    },
    {
     "name": "stdout",
     "output_type": "stream",
     "text": [
      "+------------------------------+-------+--------+-------+\n",
      "|days_between_search_and_flight|MinFare|MeanFare|MaxFare|\n",
      "+------------------------------+-------+--------+-------+\n",
      "|                             1|  182.1|  332.89| 1692.1|\n",
      "|                             2|  142.1|  322.38| 1692.1|\n",
      "|                             3|  142.1|  318.77| 1692.1|\n",
      "|                             4|  142.1|  316.04|  783.1|\n",
      "|                             5|  142.1|  318.19| 1380.1|\n",
      "|                             6|  132.1|  279.97|  783.1|\n",
      "|                             7|  132.1|  276.61|  783.1|\n",
      "|                             8|  132.1|  276.57| 1380.1|\n",
      "|                             9|  132.1|  275.71|  697.1|\n",
      "|                            10|  132.1|  273.09|  697.1|\n",
      "|                            11|  132.1|  273.38|  507.1|\n",
      "|                            12|  132.1|  273.81|  517.1|\n",
      "|                            13|  132.1|  275.17|  517.1|\n",
      "|                            14|  105.1|  220.95|  517.1|\n",
      "|                            15|  105.1|  220.39|  517.1|\n",
      "|                            16|  105.1|  220.16|  517.1|\n",
      "|                            17|  105.1|  221.54|  517.1|\n",
      "|                            18|  105.1|  222.37|  517.1|\n",
      "|                            19|  105.1|  222.33|  507.1|\n",
      "|                            20|  105.1|  222.49|  507.1|\n",
      "+------------------------------+-------+--------+-------+\n",
      "only showing top 20 rows\n",
      "\n"
     ]
    },
    {
     "name": "stderr",
     "output_type": "stream",
     "text": [
      "                                                                                \r"
     ]
    },
    {
     "name": "stdout",
     "output_type": "stream",
     "text": [
      "+------------------------------+-------+--------+-------+\n",
      "|days_between_search_and_flight|MinFare|MeanFare|MaxFare|\n",
      "+------------------------------+-------+--------+-------+\n",
      "|                             1|   98.6|  322.64| 1104.6|\n",
      "|                             2|   68.6|  308.72|  848.6|\n",
      "|                             3|   68.6|  306.47| 1104.6|\n",
      "|                             4|   68.6|  305.37| 1104.6|\n",
      "|                             5|   68.6|  301.07|  698.6|\n",
      "|                             6|   68.6|   267.8|  698.6|\n",
      "|                             7|   68.6|  264.89|  698.6|\n",
      "|                             8|   68.6|  263.74|  698.6|\n",
      "|                             9|   68.6|  261.55|  698.6|\n",
      "|                            10|   68.6|  259.36|  698.6|\n",
      "|                            11|   68.6|  259.38|  698.6|\n",
      "|                            12|   68.6|  253.97|  698.6|\n",
      "|                            13|   68.6|  247.24|  698.6|\n",
      "|                            14|   68.6|  209.13|  698.6|\n",
      "|                            15|   68.6|  207.41|  698.6|\n",
      "|                            16|   68.6|  204.62|  608.6|\n",
      "|                            17|   68.6|  204.53|  608.6|\n",
      "|                            18|   68.6|  203.21|  608.6|\n",
      "|                            19|   68.6|  200.55|  608.6|\n",
      "|                            20|   68.6|  201.42|  608.6|\n",
      "+------------------------------+-------+--------+-------+\n",
      "only showing top 20 rows\n",
      "\n"
     ]
    },
    {
     "name": "stderr",
     "output_type": "stream",
     "text": [
      "                                                                                \r"
     ]
    },
    {
     "name": "stdout",
     "output_type": "stream",
     "text": [
      "+------------------------------+-------+--------+-------+\n",
      "|days_between_search_and_flight|MinFare|MeanFare|MaxFare|\n",
      "+------------------------------+-------+--------+-------+\n",
      "|                             1|  270.6|  542.73| 4923.6|\n",
      "|                             2|  258.6|  499.24| 4923.6|\n",
      "|                             3|  258.6|  503.97| 4913.6|\n",
      "|                             4|  258.6|  508.61| 4923.6|\n",
      "|                             5|  258.6|  519.66| 4923.6|\n",
      "|                             6|  193.6|  510.47| 4923.6|\n",
      "|                             7|  193.6|  500.34| 4923.6|\n",
      "|                             8|  193.6|  500.39| 3974.6|\n",
      "|                             9|  161.6|  490.11| 4923.6|\n",
      "|                            10|  181.6|  488.11| 2598.6|\n",
      "|                            11|  161.6|  487.73|3564.61|\n",
      "|                            12|  161.6|  493.71| 2598.6|\n",
      "|                            13|  193.6|   499.3| 3964.6|\n",
      "|                            14|  121.6|  498.44| 3964.6|\n",
      "|                            15|  121.6|  500.62| 3974.6|\n",
      "|                            16|  121.6|   489.3| 3964.6|\n",
      "|                            17|  121.6|  493.72| 3964.6|\n",
      "|                            18|  121.6|   489.9| 3964.6|\n",
      "|                            19|  121.6|   491.0| 3964.6|\n",
      "|                            20|  121.6|   493.7| 3964.6|\n",
      "+------------------------------+-------+--------+-------+\n",
      "only showing top 20 rows\n",
      "\n"
     ]
    },
    {
     "name": "stderr",
     "output_type": "stream",
     "text": [
      "                                                                                \r"
     ]
    },
    {
     "name": "stdout",
     "output_type": "stream",
     "text": [
      "+------------------------------+-------+--------+-------+\n",
      "|days_between_search_and_flight|MinFare|MeanFare|MaxFare|\n",
      "+------------------------------+-------+--------+-------+\n",
      "|                             1|  298.6|  510.72| 4762.6|\n",
      "|                             2|  248.6|   459.2| 4762.6|\n",
      "|                             3|  198.6|  451.56| 4762.6|\n",
      "|                             4|  198.6|  452.49| 4752.6|\n",
      "|                             5|  198.6|  446.19| 4752.6|\n",
      "|                             6|  148.6|   426.7| 4752.6|\n",
      "|                             7|  148.6|  425.47| 4762.6|\n",
      "|                             8|  148.6|   431.9| 4762.6|\n",
      "|                             9|  148.6|  423.05| 4752.6|\n",
      "|                            10|  148.6|  424.92| 4752.6|\n",
      "|                            11|  148.6|  436.36| 4752.6|\n",
      "|                            12|  148.6|  435.47| 3214.6|\n",
      "|                            13|  148.6|   438.4| 4752.6|\n",
      "|                            14|  103.6|   420.6| 3214.6|\n",
      "|                            15|  103.6|  424.73| 4752.6|\n",
      "|                            16|  103.6|  422.43| 4752.6|\n",
      "|                            17|  103.6|  425.98| 4782.6|\n",
      "|                            18|  103.6|  426.15| 4782.6|\n",
      "|                            19|  103.6|  425.51| 4782.6|\n",
      "|                            20|  103.6|  428.45| 3214.6|\n",
      "+------------------------------+-------+--------+-------+\n",
      "only showing top 20 rows\n",
      "\n"
     ]
    },
    {
     "name": "stderr",
     "output_type": "stream",
     "text": [
      "                                                                                \r"
     ]
    },
    {
     "name": "stdout",
     "output_type": "stream",
     "text": [
      "+------------------------------+-------+--------+-------+\n",
      "|days_between_search_and_flight|MinFare|MeanFare|MaxFare|\n",
      "+------------------------------+-------+--------+-------+\n",
      "|                             1|  356.6|  487.47| 4762.6|\n",
      "|                             2|  238.6|   454.8| 4762.6|\n",
      "|                             3|  238.6|  453.21| 4752.6|\n",
      "|                             4|  238.6|  465.95| 4752.6|\n",
      "|                             5|  238.6|  474.63| 4752.6|\n",
      "|                             6|  148.6|  456.86| 4752.6|\n",
      "|                             7|  133.6|  458.81| 4752.6|\n",
      "|                             8|  133.6|  455.93| 4752.6|\n",
      "|                             9|  133.6|  454.45| 4752.6|\n",
      "|                            10|  133.6|  450.76| 4752.6|\n",
      "|                            11|  133.6|  449.41| 4752.6|\n",
      "|                            12|  133.6|  449.51| 4752.6|\n",
      "|                            13|  133.6|  447.61| 4752.6|\n",
      "|                            14|  118.6|  449.89| 4752.6|\n",
      "|                            15|   98.6|  439.66| 4752.6|\n",
      "|                            16|   98.6|  434.01| 4752.6|\n",
      "|                            17|  111.6|  427.22| 4752.6|\n",
      "|                            18|  118.6|  424.84| 4792.6|\n",
      "|                            19|  108.6|  421.13| 4752.6|\n",
      "|                            20|  118.6|  423.17| 4752.6|\n",
      "+------------------------------+-------+--------+-------+\n",
      "only showing top 20 rows\n",
      "\n"
     ]
    },
    {
     "name": "stderr",
     "output_type": "stream",
     "text": [
      "                                                                                \r"
     ]
    },
    {
     "name": "stdout",
     "output_type": "stream",
     "text": [
      "+------------------------------+-------+--------+-------+\n",
      "|days_between_search_and_flight|MinFare|MeanFare|MaxFare|\n",
      "+------------------------------+-------+--------+-------+\n",
      "|                             1|  93.99|  231.78| 2131.6|\n",
      "|                             2|  63.99|  221.59| 2131.6|\n",
      "|                             3|  63.99|  222.37| 2131.6|\n",
      "|                             4|  63.99|  221.98| 2131.6|\n",
      "|                             5|  38.98|  221.44|  911.6|\n",
      "|                             6|  38.98|  199.77|  914.6|\n",
      "|                             7|  38.98|  196.21|  914.6|\n",
      "|                             8|  38.98|  197.92|  848.6|\n",
      "|                             9|  38.98|  197.77|  911.6|\n",
      "|                            10|  38.98|  195.23| 2131.6|\n",
      "|                            11|  38.98|  194.76|  911.6|\n",
      "|                            12|  38.98|  193.98|  911.6|\n",
      "|                            13|  38.98|  194.27|  911.6|\n",
      "|                            14|  38.98|  190.39| 2131.6|\n",
      "|                            15|  38.98|  189.75| 2131.6|\n",
      "|                            16|  38.98|   190.0| 2131.6|\n",
      "|                            17|  38.98|  189.71| 2131.6|\n",
      "|                            18|  38.98|  189.26|  911.6|\n",
      "|                            19|  38.98|  188.76|  911.6|\n",
      "|                            20|  38.98|  186.07|  911.6|\n",
      "+------------------------------+-------+--------+-------+\n",
      "only showing top 20 rows\n",
      "\n"
     ]
    },
    {
     "name": "stderr",
     "output_type": "stream",
     "text": [
      "                                                                                \r"
     ]
    },
    {
     "name": "stdout",
     "output_type": "stream",
     "text": [
      "+------------------------------+-------+--------+-------+\n",
      "|days_between_search_and_flight|MinFare|MeanFare|MaxFare|\n",
      "+------------------------------+-------+--------+-------+\n",
      "|                             1|  138.6|  312.78| 1540.6|\n",
      "|                             2|   58.6|  269.39| 1447.6|\n",
      "|                             3|   58.6|  266.89| 1540.6|\n",
      "|                             4|   58.6|  262.95| 1540.6|\n",
      "|                             5|   58.6|  264.54| 1540.6|\n",
      "|                             6|   40.6|  240.52| 1540.6|\n",
      "|                             7|   40.6|  237.01| 1540.6|\n",
      "|                             8|   40.6|   227.3| 1540.6|\n",
      "|                             9|   40.6|  222.98| 1540.6|\n",
      "|                            10|   40.6|   217.9| 1377.6|\n",
      "|                            11|   40.6|  218.24| 1377.6|\n",
      "|                            12|   40.6|  217.27| 1297.6|\n",
      "|                            13|   40.6|  217.39| 1297.6|\n",
      "|                            14|   40.6|  214.15| 1104.6|\n",
      "|                            15|   40.6|  212.67| 1104.6|\n",
      "|                            16|   40.6|  214.34| 1377.6|\n",
      "|                            17|   40.6|  216.32| 1540.6|\n",
      "|                            18|   40.6|  218.41| 1377.6|\n",
      "|                            19|   40.6|  214.84| 1139.6|\n",
      "|                            20|   53.6|  214.05| 1139.6|\n",
      "+------------------------------+-------+--------+-------+\n",
      "only showing top 20 rows\n",
      "\n"
     ]
    },
    {
     "name": "stderr",
     "output_type": "stream",
     "text": [
      "[Stage 643:=============================================>         (10 + 2) / 12]\r"
     ]
    },
    {
     "name": "stdout",
     "output_type": "stream",
     "text": [
      "+------------------------------+-------+--------+-------+\n",
      "|days_between_search_and_flight|MinFare|MeanFare|MaxFare|\n",
      "+------------------------------+-------+--------+-------+\n",
      "|                             1|  548.6|  617.44| 1484.6|\n",
      "|                             2|  548.6|  614.26| 1248.6|\n",
      "|                             3|  548.6|  614.68| 1248.6|\n",
      "|                             4|  548.6|  614.13| 1248.6|\n",
      "|                             5|  548.6|  613.05| 1484.6|\n",
      "|                             6|  448.6|  509.11| 1834.6|\n",
      "|                             7|  448.6|  503.05| 1484.6|\n",
      "|                             8|  448.6|  501.43| 1248.6|\n",
      "|                             9|  448.6|  502.08| 1248.6|\n",
      "|                            10|  448.6|  501.86| 1834.6|\n",
      "|                            11|  448.6|  502.14| 1834.6|\n",
      "|                            12|  448.6|  505.34| 1834.6|\n",
      "|                            13|  448.6|   506.2| 1834.6|\n",
      "|                            14|  258.6|  410.38| 1834.6|\n",
      "|                            15|  258.6|  409.71| 1248.6|\n",
      "|                            16|  258.6|  412.23| 1248.6|\n",
      "|                            17|  258.6|  414.35| 1248.6|\n",
      "|                            18|  258.6|  416.95| 1248.6|\n",
      "|                            19|  258.6|  417.48| 1248.6|\n",
      "|                            20|  258.6|  417.03| 1248.6|\n",
      "+------------------------------+-------+--------+-------+\n",
      "only showing top 20 rows\n",
      "\n"
     ]
    },
    {
     "name": "stderr",
     "output_type": "stream",
     "text": [
      "                                                                                \r"
     ]
    },
    {
     "name": "stdout",
     "output_type": "stream",
     "text": [
      "+------------------------------+-------+--------+-------+\n",
      "|days_between_search_and_flight|MinFare|MeanFare|MaxFare|\n",
      "+------------------------------+-------+--------+-------+\n",
      "|                             1|  298.6|  495.13|3304.61|\n",
      "|                             2| 253.61|  430.57| 1798.6|\n",
      "|                             3| 253.61|  428.33|3384.61|\n",
      "|                             4| 253.61|  435.09|3384.61|\n",
      "|                             5| 253.61|   431.7|3304.61|\n",
      "|                             6| 168.61|  406.42| 2548.6|\n",
      "|                             7|  148.6|  405.15|3384.61|\n",
      "|                             8| 168.61|  398.01|3304.61|\n",
      "|                             9|  158.6|   389.8|3304.61|\n",
      "|                            10|  148.6|  385.98|3304.61|\n",
      "|                            11|  148.6|   377.3| 2202.6|\n",
      "|                            12|  148.6|  384.55|3304.61|\n",
      "|                            13|  148.6|   381.0| 3498.6|\n",
      "|                            14|  121.6|  373.85|3304.61|\n",
      "|                            15|  121.6|  371.22| 3498.6|\n",
      "|                            16| 166.61|  373.71| 3498.6|\n",
      "|                            17| 166.61|  371.46| 3498.6|\n",
      "|                            18|  161.6|  371.03| 3498.6|\n",
      "|                            19|  153.6|  371.14|3304.61|\n",
      "|                            20|  173.6|  376.32|3304.61|\n",
      "+------------------------------+-------+--------+-------+\n",
      "only showing top 20 rows\n",
      "\n"
     ]
    },
    {
     "name": "stderr",
     "output_type": "stream",
     "text": [
      "                                                                                \r"
     ]
    },
    {
     "name": "stdout",
     "output_type": "stream",
     "text": [
      "+------------------------------+-------+--------+-------+\n",
      "|days_between_search_and_flight|MinFare|MeanFare|MaxFare|\n",
      "+------------------------------+-------+--------+-------+\n",
      "|                             1|  225.6|  456.67| 2023.6|\n",
      "|                             2|  225.6|   438.7| 2023.6|\n",
      "|                             3|  225.6|  435.57| 2023.6|\n",
      "|                             4|  225.6|  430.33| 2023.6|\n",
      "|                             5|  225.6|  425.73| 2023.6|\n",
      "|                             6|  148.6|  352.84| 2023.6|\n",
      "|                             7|  148.6|   344.9|  948.6|\n",
      "|                             8|  148.6|  345.46| 1082.6|\n",
      "|                             9|  148.6|  341.59| 1082.6|\n",
      "|                            10|  148.6|  337.51|  948.6|\n",
      "|                            11|  148.6|  339.12|  948.6|\n",
      "|                            12|  148.6|  341.95|  948.6|\n",
      "|                            13|  183.6|  346.78| 683.61|\n",
      "|                            14|  148.6|  294.54|  798.6|\n",
      "|                            15|  134.6|  294.74|  948.6|\n",
      "|                            16|  134.6|  294.32| 1018.6|\n",
      "|                            17|  158.6|  293.92| 978.61|\n",
      "|                            18|  158.6|  296.14|  948.6|\n",
      "|                            19|  109.6|  293.38|  948.6|\n",
      "|                            20|  134.6|  289.81|  948.6|\n",
      "+------------------------------+-------+--------+-------+\n",
      "only showing top 20 rows\n",
      "\n"
     ]
    },
    {
     "name": "stderr",
     "output_type": "stream",
     "text": [
      "                                                                                \r"
     ]
    },
    {
     "name": "stdout",
     "output_type": "stream",
     "text": [
      "+------------------------------+-------+--------+-------+\n",
      "|days_between_search_and_flight|MinFare|MeanFare|MaxFare|\n",
      "+------------------------------+-------+--------+-------+\n",
      "|                             1|  33.97|  211.37| 1916.6|\n",
      "|                             2|  33.97|   183.1| 1916.6|\n",
      "|                             3|  33.97|   174.8| 1916.6|\n",
      "|                             4|  33.97|  171.77| 1916.6|\n",
      "|                             5|  33.97|  172.56| 1916.6|\n",
      "|                             6|  23.97|  163.67| 1516.6|\n",
      "|                             7|  23.97|  159.13| 1516.6|\n",
      "|                             8|  23.97|  157.71| 1516.6|\n",
      "|                             9|  23.97|  152.38|  564.6|\n",
      "|                            10|  23.97|  149.51|  574.6|\n",
      "|                            11|  23.97|   149.0|  574.6|\n",
      "|                            12|  23.97|  146.62|  564.6|\n",
      "|                            13|  23.97|  146.53| 431.03|\n",
      "|                            14|  23.97|  131.33|  493.6|\n",
      "|                            15|  23.97|  129.36|  574.6|\n",
      "|                            16|  23.97|  127.05| 431.03|\n",
      "|                            17|  23.97|  127.16|  493.6|\n",
      "|                            18|  23.97|  126.76|  493.6|\n",
      "|                            19|  23.97|  125.61|  418.6|\n",
      "|                            20|  23.97|  124.68|  418.6|\n",
      "+------------------------------+-------+--------+-------+\n",
      "only showing top 20 rows\n",
      "\n"
     ]
    },
    {
     "name": "stderr",
     "output_type": "stream",
     "text": [
      "                                                                                \r"
     ]
    },
    {
     "name": "stdout",
     "output_type": "stream",
     "text": [
      "+------------------------------+-------+--------+-------+\n",
      "|days_between_search_and_flight|MinFare|MeanFare|MaxFare|\n",
      "+------------------------------+-------+--------+-------+\n",
      "|                             1|  259.6|  372.26| 2065.6|\n",
      "|                             2|  259.6|  360.03| 2065.6|\n",
      "|                             3|  259.6|  366.75| 2065.6|\n",
      "|                             4|  259.6|   378.6| 2065.6|\n",
      "|                             5|  259.6|  381.12| 1578.6|\n",
      "|                             6|  107.6|  351.45| 1128.6|\n",
      "|                             7|  107.6|  351.49| 2190.6|\n",
      "|                             8|  138.6|  351.43| 2065.6|\n",
      "|                             9|  136.6|  345.16| 2065.6|\n",
      "|                            10|  136.6|  343.62| 2065.6|\n",
      "|                            11|  136.6|  340.76| 1578.6|\n",
      "|                            12|  136.6|   344.3| 2065.6|\n",
      "|                            13|  136.6|   348.0| 2065.6|\n",
      "|                            14|  118.6|  341.28| 2065.6|\n",
      "|                            15|  118.6|  342.32| 2065.6|\n",
      "|                            16|  118.6|  339.94| 2065.6|\n",
      "|                            17|  118.6|  337.43|1028.61|\n",
      "|                            18|  118.6|  336.78| 2065.6|\n",
      "|                            19|  118.6|  339.98| 2065.6|\n",
      "|                            20|  118.6|  334.97| 2065.6|\n",
      "+------------------------------+-------+--------+-------+\n",
      "only showing top 20 rows\n",
      "\n"
     ]
    },
    {
     "name": "stderr",
     "output_type": "stream",
     "text": [
      "                                                                                \r"
     ]
    },
    {
     "name": "stdout",
     "output_type": "stream",
     "text": [
      "+------------------------------+-------+--------+-------+\n",
      "|days_between_search_and_flight|MinFare|MeanFare|MaxFare|\n",
      "+------------------------------+-------+--------+-------+\n",
      "|                             1|  558.6|  632.92| 1784.6|\n",
      "|                             2|  558.6|  620.95| 1784.6|\n",
      "|                             3|  558.6|  623.14| 1784.6|\n",
      "|                             4|  558.6|  625.36| 1784.6|\n",
      "|                             5|  558.6|  625.44| 1784.6|\n",
      "|                             6|  458.6|  536.63| 1534.6|\n",
      "|                             7|  458.6|   534.2| 1534.6|\n",
      "|                             8|  458.6|  535.15| 1534.6|\n",
      "|                             9|  303.6|   545.6| 3214.6|\n",
      "|                            10|  458.6|  541.35| 1534.6|\n",
      "|                            11|  458.6|  542.05| 1248.6|\n",
      "|                            12|  458.6|  544.65| 1293.6|\n",
      "|                            13|  458.6|  547.96| 1293.6|\n",
      "|                            14|  358.6|  487.96| 1293.6|\n",
      "|                            15|  358.6|  491.85| 1293.6|\n",
      "|                            16|  358.6|  494.52| 1293.6|\n",
      "|                            17|  358.6|  497.57| 1293.6|\n",
      "|                            18|  358.6|  501.05| 1293.6|\n",
      "|                            19|  358.6|  502.62| 1293.6|\n",
      "|                            20|  358.6|  503.83|1278.61|\n",
      "+------------------------------+-------+--------+-------+\n",
      "only showing top 20 rows\n",
      "\n"
     ]
    },
    {
     "name": "stderr",
     "output_type": "stream",
     "text": [
      "                                                                                \r"
     ]
    },
    {
     "name": "stdout",
     "output_type": "stream",
     "text": [
      "+------------------------------+-------+--------+-------+\n",
      "|days_between_search_and_flight|MinFare|MeanFare|MaxFare|\n",
      "+------------------------------+-------+--------+-------+\n",
      "|                             1|  33.97|   200.1| 2023.6|\n",
      "|                             2|  33.97|  186.48| 2023.6|\n",
      "|                             3|  33.97|   183.8| 2023.6|\n",
      "|                             4|  33.97|  181.66| 2023.6|\n",
      "|                             5|  33.97|   180.9| 2023.6|\n",
      "|                             6|  23.97|  164.49| 2023.6|\n",
      "|                             7|  23.97|  158.76| 2023.6|\n",
      "|                             8|  23.97|  154.44| 2023.6|\n",
      "|                             9|  23.97|  151.19| 2023.6|\n",
      "|                            10|  23.97|  148.56| 2023.6|\n",
      "|                            11|  23.97|  148.38| 2023.6|\n",
      "|                            12|  23.97|  147.21| 2023.6|\n",
      "|                            13|  23.97|  146.95| 2023.6|\n",
      "|                            14|  23.97|  145.37|  882.6|\n",
      "|                            15|  23.97|  144.77| 2023.6|\n",
      "|                            16|  23.97|  145.59|  882.6|\n",
      "|                            17|  23.97|  144.56|  882.6|\n",
      "|                            18|  23.97|  145.24|  882.6|\n",
      "|                            19|  23.97|  144.51|  882.6|\n",
      "|                            20|  23.97|  144.31|  882.6|\n",
      "+------------------------------+-------+--------+-------+\n",
      "only showing top 20 rows\n",
      "\n"
     ]
    },
    {
     "name": "stderr",
     "output_type": "stream",
     "text": [
      "                                                                                \r"
     ]
    },
    {
     "name": "stdout",
     "output_type": "stream",
     "text": [
      "+------------------------------+-------+--------+-------+\n",
      "|days_between_search_and_flight|MinFare|MeanFare|MaxFare|\n",
      "+------------------------------+-------+--------+-------+\n",
      "|                             1|  214.1|  403.44| 2609.1|\n",
      "|                             2|  214.1|  348.18|  819.1|\n",
      "|                             3|  214.1|  352.18| 1362.1|\n",
      "|                             4|  214.1|  359.12| 1362.1|\n",
      "|                             5|  214.1|  356.87|  819.1|\n",
      "|                             6|  171.1|  336.58|  951.1|\n",
      "|                             7|  171.1|  332.93|  951.1|\n",
      "|                             8|  171.1|   335.0| 1362.1|\n",
      "|                             9|  171.1|  325.91|  951.1|\n",
      "|                            10|  119.1|  326.63| 1362.1|\n",
      "|                            11|  159.1|  325.43| 1362.1|\n",
      "|                            12|  119.1|  321.64|  951.1|\n",
      "|                            13|  119.1|  324.38| 1362.1|\n",
      "|                            14|  119.1|  322.18|  819.1|\n",
      "|                            15|  119.1|  320.94| 2209.1|\n",
      "|                            16|  119.1|  315.42|  951.1|\n",
      "|                            17|  119.1|  317.77| 1362.1|\n",
      "|                            18|  119.1|  322.24| 1362.1|\n",
      "|                            19|  119.1|  322.84| 1362.1|\n",
      "|                            20|  119.1|  315.79|  951.1|\n",
      "+------------------------------+-------+--------+-------+\n",
      "only showing top 20 rows\n",
      "\n"
     ]
    },
    {
     "name": "stderr",
     "output_type": "stream",
     "text": [
      "                                                                                \r"
     ]
    },
    {
     "name": "stdout",
     "output_type": "stream",
     "text": [
      "+------------------------------+-------+--------+-------+\n",
      "|days_between_search_and_flight|MinFare|MeanFare|MaxFare|\n",
      "+------------------------------+-------+--------+-------+\n",
      "|                             1| 165.98|  510.71| 2371.6|\n",
      "|                             2|  86.98|  362.32| 2371.6|\n",
      "|                             3|  86.98|  339.09| 2371.6|\n",
      "|                             4|  86.98|  327.04| 1064.6|\n",
      "|                             5|  86.98|  321.64| 2371.6|\n",
      "|                             6|  62.99|  321.85| 2371.6|\n",
      "|                             7|  62.99|  316.71| 2371.6|\n",
      "|                             8|  62.99|  315.52| 2371.6|\n",
      "|                             9|  64.99|  305.01| 2371.6|\n",
      "|                            10|  64.99|  304.61| 1064.6|\n",
      "|                            11|  64.99|  300.36| 2371.6|\n",
      "|                            12|  64.99|  296.11| 2371.6|\n",
      "|                            13|  64.99|   297.8| 1064.6|\n",
      "|                            14|  62.99|  270.92| 1064.6|\n",
      "|                            15|  62.99|  270.49| 1064.6|\n",
      "|                            16|  57.99|  270.22| 2371.6|\n",
      "|                            17|  57.99|  270.65| 2371.6|\n",
      "|                            18|  57.99|  270.12| 2371.6|\n",
      "|                            19|  57.99|  264.81| 1064.6|\n",
      "|                            20|  57.99|  267.93| 2371.6|\n",
      "+------------------------------+-------+--------+-------+\n",
      "only showing top 20 rows\n",
      "\n"
     ]
    },
    {
     "name": "stderr",
     "output_type": "stream",
     "text": [
      "                                                                                \r"
     ]
    },
    {
     "name": "stdout",
     "output_type": "stream",
     "text": [
      "+------------------------------+-------+--------+-------+\n",
      "|days_between_search_and_flight|MinFare|MeanFare|MaxFare|\n",
      "+------------------------------+-------+--------+-------+\n",
      "|                             1|  128.6|   295.6| 2207.6|\n",
      "|                             2|   74.6|  239.52| 2207.6|\n",
      "|                             3|   74.6|  214.53| 2207.6|\n",
      "|                             4|   74.6|  205.36| 1697.6|\n",
      "|                             5|   74.6|  201.99| 1547.6|\n",
      "|                             6|  38.61|  199.03| 1957.6|\n",
      "|                             7|  38.61|   196.7| 2068.6|\n",
      "|                             8|  38.61|  191.88| 1957.6|\n",
      "|                             9|  38.61|  190.72| 1957.6|\n",
      "|                            10|  38.61|  186.79| 1547.6|\n",
      "|                            11|  38.61|  186.24| 1348.6|\n",
      "|                            12|  38.61|  185.34| 1547.6|\n",
      "|                            13|  38.61|  187.65|  698.6|\n",
      "|                            14|  38.61|  188.38| 681.61|\n",
      "|                            15|  38.61|  188.39| 681.61|\n",
      "|                            16|  38.61|   189.1| 1178.6|\n",
      "|                            17|  38.61|  190.69|1578.61|\n",
      "|                            18|  38.61|  193.05| 1547.6|\n",
      "|                            19|  38.61|  193.37| 1957.6|\n",
      "|                            20|  38.61|  192.34|  460.6|\n",
      "+------------------------------+-------+--------+-------+\n",
      "only showing top 20 rows\n",
      "\n"
     ]
    },
    {
     "name": "stderr",
     "output_type": "stream",
     "text": [
      "                                                                                \r"
     ]
    },
    {
     "name": "stdout",
     "output_type": "stream",
     "text": [
      "+------------------------------+-------+--------+-------+\n",
      "|days_between_search_and_flight|MinFare|MeanFare|MaxFare|\n",
      "+------------------------------+-------+--------+-------+\n",
      "|                             1|  269.1|  496.21| 2666.1|\n",
      "|                             2|  269.1|  465.41| 2178.1|\n",
      "|                             3|  269.1|  466.95| 2178.1|\n",
      "|                             4|  269.1|  467.97| 2178.1|\n",
      "|                             5|  269.1|  463.39| 1015.1|\n",
      "|                             6|  237.1|  443.28| 2178.1|\n",
      "|                             7|  237.1|  442.43| 2178.1|\n",
      "|                             8|  267.1|  444.97| 2178.1|\n",
      "|                             9|  160.1|  435.52| 2178.1|\n",
      "|                            10|  160.1|   439.8| 2178.1|\n",
      "|                            11|  160.1|  436.54| 2178.1|\n",
      "|                            12|  160.1|  431.39| 2178.1|\n",
      "|                            13|  160.1|  438.08| 2178.1|\n",
      "|                            14|  160.1|  425.63| 2178.1|\n",
      "|                            15|  160.1|  424.15| 2178.1|\n",
      "|                            16|  160.1|  426.65| 2666.1|\n",
      "|                            17|  160.1|  430.25| 2666.1|\n",
      "|                            18|  160.1|  435.23| 2666.1|\n",
      "|                            19|  160.1|  442.16| 2178.1|\n",
      "|                            20|  160.1|  440.23| 2178.1|\n",
      "+------------------------------+-------+--------+-------+\n",
      "only showing top 20 rows\n",
      "\n"
     ]
    },
    {
     "name": "stderr",
     "output_type": "stream",
     "text": [
      "                                                                                \r"
     ]
    },
    {
     "name": "stdout",
     "output_type": "stream",
     "text": [
      "+------------------------------+-------+--------+-------+\n",
      "|days_between_search_and_flight|MinFare|MeanFare|MaxFare|\n",
      "+------------------------------+-------+--------+-------+\n",
      "|                             1|  228.6|  377.24| 2271.6|\n",
      "|                             2|  198.6|  355.58| 2149.6|\n",
      "|                             3|  198.6|  359.09|1198.61|\n",
      "|                             4|  198.6|  366.95| 2149.6|\n",
      "|                             5|  198.6|  378.51| 2149.6|\n",
      "|                             6|  115.6|  372.98| 2149.6|\n",
      "|                             7|  118.6|  371.04| 1598.6|\n",
      "|                             8|  118.6|  374.56|1198.61|\n",
      "|                             9|  118.6|  371.21|1198.61|\n",
      "|                            10|  118.6|  370.95|1198.61|\n",
      "|                            11|  118.6|  375.71|1584.61|\n",
      "|                            12|  118.6|  380.68| 1248.6|\n",
      "|                            13|  118.6|  382.03| 1598.6|\n",
      "|                            14|  144.6|  377.21| 1248.6|\n",
      "|                            15|  118.6|  378.63| 1128.6|\n",
      "|                            16|  118.6|   379.1| 1128.6|\n",
      "|                            17|  118.6|  383.41| 1128.6|\n",
      "|                            18|  118.6|   384.3| 1128.6|\n",
      "|                            19|  118.6|   384.2| 1128.6|\n",
      "|                            20|  118.6|  382.35| 1128.6|\n",
      "+------------------------------+-------+--------+-------+\n",
      "only showing top 20 rows\n",
      "\n"
     ]
    },
    {
     "name": "stderr",
     "output_type": "stream",
     "text": [
      "                                                                                \r"
     ]
    },
    {
     "name": "stdout",
     "output_type": "stream",
     "text": [
      "+------------------------------+-------+--------+-------+\n",
      "|days_between_search_and_flight|MinFare|MeanFare|MaxFare|\n",
      "+------------------------------+-------+--------+-------+\n",
      "|                             1|  138.6|  317.95|  824.6|\n",
      "|                             2|  118.6|  294.73|  824.6|\n",
      "|                             3|  118.6|  290.99|  824.6|\n",
      "|                             4|   63.6|  287.44|  824.6|\n",
      "|                             5|   63.6|  288.01|  824.6|\n",
      "|                             6|   63.6|  254.95|  824.6|\n",
      "|                             7|   63.6|  251.11|  824.6|\n",
      "|                             8|   63.6|  249.17|  824.6|\n",
      "|                             9|   63.6|  249.84|  824.6|\n",
      "|                            10|   63.6|  247.44|  824.6|\n",
      "|                            11|   63.6|  249.52|  824.6|\n",
      "|                            12|   63.6|  248.56|  824.6|\n",
      "|                            13|   63.6|  250.05|  824.6|\n",
      "|                            14|   58.6|  228.96|  824.6|\n",
      "|                            15|   58.6|  227.18|  733.6|\n",
      "|                            16|   58.6|  228.81|  824.6|\n",
      "|                            17|   58.6|  230.17|  824.6|\n",
      "|                            18|   58.6|  231.49|  824.6|\n",
      "|                            19|   58.6|  230.91|  824.6|\n",
      "|                            20|   58.6|   230.8|  824.6|\n",
      "+------------------------------+-------+--------+-------+\n",
      "only showing top 20 rows\n",
      "\n"
     ]
    },
    {
     "name": "stderr",
     "output_type": "stream",
     "text": [
      "                                                                                \r"
     ]
    },
    {
     "name": "stdout",
     "output_type": "stream",
     "text": [
      "+------------------------------+-------+--------+-------+\n",
      "|days_between_search_and_flight|MinFare|MeanFare|MaxFare|\n",
      "+------------------------------+-------+--------+-------+\n",
      "|                             1|  548.6|  614.78| 1834.6|\n",
      "|                             2|  548.6|  608.71|  918.6|\n",
      "|                             3|  548.6|  609.83|  998.6|\n",
      "|                             4|  548.6|  609.72|  918.6|\n",
      "|                             5|  548.6|  611.01|  998.6|\n",
      "|                             6|  448.6|   499.4|  998.6|\n",
      "|                             7|  448.6|   499.0| 1248.6|\n",
      "|                             8|  448.6|   499.6| 1248.6|\n",
      "|                             9|  448.6|  501.23| 1248.6|\n",
      "|                            10|  448.6|  503.25| 1248.6|\n",
      "|                            11|  448.6|  504.16| 1248.6|\n",
      "|                            12|  448.6|  505.95| 1248.6|\n",
      "|                            13|  448.6|   507.2| 1248.6|\n",
      "|                            14|  288.6|  431.51| 1248.6|\n",
      "|                            15|  288.6|  434.33| 1248.6|\n",
      "|                            16|  288.6|  436.86| 1248.6|\n",
      "|                            17|  288.6|  441.17| 1248.6|\n",
      "|                            18|  288.6|  441.03| 1248.6|\n",
      "|                            19|  288.6|  442.13| 1248.6|\n",
      "|                            20|  288.6|  444.39| 1248.6|\n",
      "+------------------------------+-------+--------+-------+\n",
      "only showing top 20 rows\n",
      "\n"
     ]
    },
    {
     "name": "stderr",
     "output_type": "stream",
     "text": [
      "                                                                                \r"
     ]
    },
    {
     "name": "stdout",
     "output_type": "stream",
     "text": [
      "+------------------------------+-------+--------+-------+\n",
      "|days_between_search_and_flight|MinFare|MeanFare|MaxFare|\n",
      "+------------------------------+-------+--------+-------+\n",
      "|                             1| 380.61|  572.75| 2860.6|\n",
      "|                             2| 380.61|  566.64| 2860.6|\n",
      "|                             3| 380.61|   577.3| 2860.6|\n",
      "|                             4| 380.61|  573.11| 2860.6|\n",
      "|                             5| 380.61|  586.83| 2860.6|\n",
      "|                             6|  348.6|   547.4| 2860.6|\n",
      "|                             7|  348.6|  539.74| 2460.6|\n",
      "|                             8|  348.6|  549.03| 2460.6|\n",
      "|                             9|  348.6|  542.83| 1649.6|\n",
      "|                            10|  348.6|  536.44| 1649.6|\n",
      "|                            11|  348.6|  531.59| 1649.6|\n",
      "|                            12|  348.6|  535.54| 1649.6|\n",
      "|                            13|  348.6|  544.45| 2860.6|\n",
      "|                            14| 166.61|   497.4| 2860.6|\n",
      "|                            15| 166.61|  488.54| 1669.6|\n",
      "|                            16| 166.61|  486.87| 1669.6|\n",
      "|                            17| 166.61|  477.41| 1679.6|\n",
      "|                            18| 166.61|  476.91| 1679.6|\n",
      "|                            19| 166.61|  479.47| 1669.6|\n",
      "|                            20| 166.61|  470.52| 1669.6|\n",
      "+------------------------------+-------+--------+-------+\n",
      "only showing top 20 rows\n",
      "\n"
     ]
    },
    {
     "name": "stderr",
     "output_type": "stream",
     "text": [
      "                                                                                \r"
     ]
    },
    {
     "name": "stdout",
     "output_type": "stream",
     "text": [
      "+------------------------------+-------+--------+-------+\n",
      "|days_between_search_and_flight|MinFare|MeanFare|MaxFare|\n",
      "+------------------------------+-------+--------+-------+\n",
      "|                            39|   59.6|   95.14|  188.6|\n",
      "+------------------------------+-------+--------+-------+\n",
      "\n"
     ]
    },
    {
     "name": "stderr",
     "output_type": "stream",
     "text": [
      "                                                                                \r"
     ]
    },
    {
     "name": "stdout",
     "output_type": "stream",
     "text": [
      "+------------------------------+-------+--------+-------+\n",
      "|days_between_search_and_flight|MinFare|MeanFare|MaxFare|\n",
      "+------------------------------+-------+--------+-------+\n",
      "|                             1|  88.98|  378.29|2705.61|\n",
      "|                             2|  67.99|   350.2|1198.61|\n",
      "|                             3|  67.99|  356.07|2705.61|\n",
      "|                             4|  47.98|  349.75|2705.61|\n",
      "|                             5|  47.98|  343.58|2705.61|\n",
      "|                             6|  35.97|  306.98|2705.61|\n",
      "|                             7|  35.97|  298.81| 1488.6|\n",
      "|                             8|  47.98|  298.91| 1488.6|\n",
      "|                             9|  35.97|  295.41| 1488.6|\n",
      "|                            10|  35.97|  293.34| 1488.6|\n",
      "|                            11|  35.97|   290.1| 1488.6|\n",
      "|                            12|  35.97|  287.46| 1488.6|\n",
      "|                            13|  35.97|  294.03| 1488.6|\n",
      "|                            14|  35.97|  253.63| 1488.6|\n",
      "|                            15|  47.98|  256.27| 1488.6|\n",
      "|                            16|  47.98|  252.88| 1488.6|\n",
      "|                            17|  44.98|  250.02|1198.61|\n",
      "|                            18|  35.97|  252.88| 1528.6|\n",
      "|                            19|  47.98|  247.09|1198.61|\n",
      "|                            20|  35.97|  251.81|1198.61|\n",
      "+------------------------------+-------+--------+-------+\n",
      "only showing top 20 rows\n",
      "\n"
     ]
    },
    {
     "name": "stderr",
     "output_type": "stream",
     "text": [
      "                                                                                \r"
     ]
    },
    {
     "name": "stdout",
     "output_type": "stream",
     "text": [
      "+------------------------------+-------+--------+-------+\n",
      "|days_between_search_and_flight|MinFare|MeanFare|MaxFare|\n",
      "+------------------------------+-------+--------+-------+\n",
      "|                             1| 123.61|  274.92|2230.61|\n",
      "|                             2|  108.6|  244.62| 2111.6|\n",
      "|                             3|  108.6|   244.4|  828.6|\n",
      "|                             4|   98.6|  249.26| 2111.6|\n",
      "|                             5|   98.6|   251.0|  848.6|\n",
      "|                             6|   77.6|  244.33| 1747.6|\n",
      "|                             7|   77.6|  243.64| 1747.6|\n",
      "|                             8|   88.6|  245.07| 1747.6|\n",
      "|                             9|   88.6|   244.1|  838.6|\n",
      "|                            10|   88.6|  241.92|  718.6|\n",
      "|                            11|   88.6|   244.8|  718.6|\n",
      "|                            12|   88.6|  247.67|  718.6|\n",
      "|                            13|   88.6|   252.1|  718.6|\n",
      "|                            14|   88.6|   245.6|  818.6|\n",
      "|                            15|   88.6|  247.62|  818.6|\n",
      "|                            16|   88.6|  247.65|  818.6|\n",
      "|                            17|   88.6|   248.2| 768.59|\n",
      "|                            18|   88.6|   254.9| 888.61|\n",
      "|                            19|   88.6|  256.15| 893.61|\n",
      "|                            20|   88.6|  258.24|  903.6|\n",
      "+------------------------------+-------+--------+-------+\n",
      "only showing top 20 rows\n",
      "\n"
     ]
    },
    {
     "name": "stderr",
     "output_type": "stream",
     "text": [
      "                                                                                \r"
     ]
    },
    {
     "name": "stdout",
     "output_type": "stream",
     "text": [
      "+------------------------------+-------+--------+-------+\n",
      "|days_between_search_and_flight|MinFare|MeanFare|MaxFare|\n",
      "+------------------------------+-------+--------+-------+\n",
      "|                             1|  356.6|  487.09| 3498.6|\n",
      "|                             2|  238.6|  455.29| 3498.6|\n",
      "|                             3|  238.6|  463.39| 3498.6|\n",
      "|                             4|  238.6|  470.24| 3498.6|\n",
      "|                             5|  238.6|  483.04| 3504.6|\n",
      "|                             6|  143.6|  455.27| 3424.6|\n",
      "|                             7|  133.6|  461.38| 3504.6|\n",
      "|                             8|  133.6|  456.65| 3504.6|\n",
      "|                             9|  133.6|  450.92| 3424.6|\n",
      "|                            10|  133.6|  447.25| 3424.6|\n",
      "|                            11|  133.6|  444.86| 3498.6|\n",
      "|                            12|  133.6|  448.45| 3424.6|\n",
      "|                            13|  133.6|  451.39| 3498.6|\n",
      "|                            14|   98.6|  439.56| 3498.6|\n",
      "|                            15|   98.6|  434.65| 3424.6|\n",
      "|                            16|   98.6|  439.85| 3498.6|\n",
      "|                            17|   98.6|  442.08| 3498.6|\n",
      "|                            18|  133.6|  439.14| 3498.6|\n",
      "|                            19|   98.6|  430.63| 3498.6|\n",
      "|                            20|  133.6|  423.15| 3498.6|\n",
      "+------------------------------+-------+--------+-------+\n",
      "only showing top 20 rows\n",
      "\n"
     ]
    },
    {
     "name": "stderr",
     "output_type": "stream",
     "text": [
      "                                                                                \r"
     ]
    },
    {
     "name": "stdout",
     "output_type": "stream",
     "text": [
      "+------------------------------+-------+--------+-------+\n",
      "|days_between_search_and_flight|MinFare|MeanFare|MaxFare|\n",
      "+------------------------------+-------+--------+-------+\n",
      "|                             1|  274.6|  423.69| 2539.6|\n",
      "|                             2|  274.6|  404.94| 2539.6|\n",
      "|                             3|  274.6|  398.92| 2539.6|\n",
      "|                             4|  274.6|  397.62| 2539.6|\n",
      "|                             5|  274.6|  395.06| 2539.6|\n",
      "|                             6|   93.6|  371.24| 2539.6|\n",
      "|                             7|  107.6|  365.05| 2539.6|\n",
      "|                             8|   99.6|  362.47| 2539.6|\n",
      "|                             9|   99.6|   352.9| 2539.6|\n",
      "|                            10|   99.6|  347.69| 1276.6|\n",
      "|                            11|   99.6|  348.55| 2539.6|\n",
      "|                            12|   99.6|  346.61| 2539.6|\n",
      "|                            13|   88.6|  346.49| 2539.6|\n",
      "|                            14|   88.6|  314.89| 2539.6|\n",
      "|                            15|   88.6|  314.03| 2539.6|\n",
      "|                            16|   88.6|  311.89| 1276.6|\n",
      "|                            17|   88.6|  311.39|  807.6|\n",
      "|                            18|   83.6|  312.53| 1276.6|\n",
      "|                            19|   83.6|  309.71| 1276.6|\n",
      "|                            20|   83.6|  308.66| 1276.6|\n",
      "+------------------------------+-------+--------+-------+\n",
      "only showing top 20 rows\n",
      "\n"
     ]
    },
    {
     "name": "stderr",
     "output_type": "stream",
     "text": [
      "                                                                                \r"
     ]
    },
    {
     "name": "stdout",
     "output_type": "stream",
     "text": [
      "+------------------------------+-------+--------+-------+\n",
      "|days_between_search_and_flight|MinFare|MeanFare|MaxFare|\n",
      "+------------------------------+-------+--------+-------+\n",
      "|                             1|  278.6|  347.27|1197.61|\n",
      "|                             2|  278.6|  331.87|1197.61|\n",
      "|                             3|  278.6|  328.32|1197.61|\n",
      "|                             4|  159.6|  327.84|1197.61|\n",
      "|                             5|  159.6|   330.4|1197.61|\n",
      "|                             6|  119.6|  284.16|1197.61|\n",
      "|                             7|  119.6|  277.91|1197.61|\n",
      "|                             8|  119.6|  276.86|1197.61|\n",
      "|                             9|  119.6|  275.37| 1098.6|\n",
      "|                            10|  116.6|  273.65|  688.6|\n",
      "|                            11|  116.6|  274.45|  688.6|\n",
      "|                            12|  116.6|  275.54|  688.6|\n",
      "|                            13|  116.6|  275.75|  688.6|\n",
      "|                            14|   90.6|  173.05|  688.6|\n",
      "|                            15|   90.6|  173.06|  688.6|\n",
      "|                            16|   90.6|   173.0|  688.6|\n",
      "|                            17|   90.6|  171.29|  408.6|\n",
      "|                            18|   90.6|  171.45|  408.6|\n",
      "|                            19|   90.6|  172.49|  408.6|\n",
      "|                            20|   90.6|   171.2|  688.6|\n",
      "+------------------------------+-------+--------+-------+\n",
      "only showing top 20 rows\n",
      "\n"
     ]
    },
    {
     "name": "stderr",
     "output_type": "stream",
     "text": [
      "                                                                                \r"
     ]
    },
    {
     "name": "stdout",
     "output_type": "stream",
     "text": [
      "+------------------------------+-------+--------+-------+\n",
      "|days_between_search_and_flight|MinFare|MeanFare|MaxFare|\n",
      "+------------------------------+-------+--------+-------+\n",
      "|                             1|  443.6|   529.8| 3026.6|\n",
      "|                             2|  443.6|  510.47| 2626.6|\n",
      "|                             3|  443.6|  519.87| 2626.6|\n",
      "|                             4|  443.6|  506.09| 2626.6|\n",
      "|                             5|  443.6|  507.03| 2626.6|\n",
      "|                             6|  325.6|  468.89|1414.61|\n",
      "|                             7|  238.6|  469.79|1414.61|\n",
      "|                             8|  238.6|  469.81|1414.61|\n",
      "|                             9|  325.6|  464.59|1414.61|\n",
      "|                            10|  325.6|  464.64|1414.61|\n",
      "|                            11|  325.6|  462.53|1414.61|\n",
      "|                            12|  325.6|  466.66|1414.61|\n",
      "|                            13|  325.6|  466.93|1414.61|\n",
      "|                            14| 294.61|  458.25|1414.61|\n",
      "|                            15|  196.6|  454.65| 1434.6|\n",
      "|                            16|  178.6|  454.24|1414.61|\n",
      "|                            17|  178.6|  454.89|1414.61|\n",
      "|                            18|  186.6|  454.77|1414.61|\n",
      "|                            19|  178.6|  461.44|1414.61|\n",
      "|                            20|  186.6|  464.32|1414.61|\n",
      "+------------------------------+-------+--------+-------+\n",
      "only showing top 20 rows\n",
      "\n"
     ]
    },
    {
     "name": "stderr",
     "output_type": "stream",
     "text": [
      "                                                                                \r"
     ]
    },
    {
     "name": "stdout",
     "output_type": "stream",
     "text": [
      "+------------------------------+-------+--------+-------+\n",
      "|days_between_search_and_flight|MinFare|MeanFare|MaxFare|\n",
      "+------------------------------+-------+--------+-------+\n",
      "|                             1|  160.1|  324.84| 1997.1|\n",
      "|                             2| 122.11|  320.37| 1997.1|\n",
      "|                             3|  142.1|  317.66| 1997.1|\n",
      "|                             4| 122.11|  313.69| 597.11|\n",
      "|                             5| 122.11|  313.82|  607.1|\n",
      "|                             6|  101.1|  276.24| 683.11|\n",
      "|                             7|  132.1|  273.35| 683.11|\n",
      "|                             8|  132.1|  273.76| 597.11|\n",
      "|                             9|  132.1|  273.61|  457.1|\n",
      "|                            10|  101.1|  271.04|  457.1|\n",
      "|                            11|  105.1|  270.64|  497.1|\n",
      "|                            12|  105.1|   270.8|  457.1|\n",
      "|                            13|  101.1|   271.7|  457.1|\n",
      "|                            14|  101.1|  210.67|  517.1|\n",
      "|                            15|  101.1|  209.94|  517.1|\n",
      "|                            16|  101.1|  210.87|  517.1|\n",
      "|                            17|  105.1|  212.34|  517.1|\n",
      "|                            18|  105.1|  213.72|  517.1|\n",
      "|                            19|  101.1|  213.54|  457.1|\n",
      "|                            20|  101.1|  213.91|  457.1|\n",
      "+------------------------------+-------+--------+-------+\n",
      "only showing top 20 rows\n",
      "\n"
     ]
    },
    {
     "name": "stderr",
     "output_type": "stream",
     "text": [
      "                                                                                \r"
     ]
    },
    {
     "name": "stdout",
     "output_type": "stream",
     "text": [
      "+------------------------------+-------+--------+-------+\n",
      "|days_between_search_and_flight|MinFare|MeanFare|MaxFare|\n",
      "+------------------------------+-------+--------+-------+\n",
      "|                             1|  138.6|  416.07| 2711.6|\n",
      "|                             2|   98.6|  392.81| 2711.6|\n",
      "|                             3|   98.6|  392.07| 2311.6|\n",
      "|                             4|   98.6|  382.62| 2311.6|\n",
      "|                             5|   98.6|  384.63| 2311.6|\n",
      "|                             6|   83.6|  380.47| 1911.6|\n",
      "|                             7|  128.6|  372.42| 2311.6|\n",
      "|                             8|   88.6|  367.17| 2711.6|\n",
      "|                             9|   88.6|  354.04| 2711.6|\n",
      "|                            10|   88.6|  349.34| 2711.6|\n",
      "|                            11|   88.6|  349.95| 1517.6|\n",
      "|                            12|   83.6|  349.85| 1911.6|\n",
      "|                            13|   83.6|  349.15| 1517.6|\n",
      "|                            14|   83.6|  335.47| 1204.6|\n",
      "|                            15|   83.6|  332.72| 1204.6|\n",
      "|                            16|  113.6|  329.84| 1204.6|\n",
      "|                            17|  103.6|  330.74| 1204.6|\n",
      "|                            18|  103.6|  328.45| 1204.6|\n",
      "|                            19|   98.6|  330.51|  637.6|\n",
      "|                            20|   98.6|   328.5|  887.6|\n",
      "+------------------------------+-------+--------+-------+\n",
      "only showing top 20 rows\n",
      "\n"
     ]
    },
    {
     "name": "stderr",
     "output_type": "stream",
     "text": [
      "                                                                                \r"
     ]
    },
    {
     "name": "stdout",
     "output_type": "stream",
     "text": [
      "+------------------------------+-------+--------+-------+\n",
      "|days_between_search_and_flight|MinFare|MeanFare|MaxFare|\n",
      "+------------------------------+-------+--------+-------+\n",
      "|                             1|  298.6|  412.11| 2415.6|\n",
      "|                             2|  198.6|  385.26| 1998.6|\n",
      "|                             3|  258.6|  395.26| 2142.6|\n",
      "|                             4|  198.6|  407.27| 2142.6|\n",
      "|                             5|  148.6|  409.15| 2415.6|\n",
      "|                             6|  148.6|  405.26| 2142.6|\n",
      "|                             7|  148.6|  403.12| 2087.6|\n",
      "|                             8|  148.6|  407.38| 2087.6|\n",
      "|                             9|  148.6|  408.84| 2087.6|\n",
      "|                            10|  148.6|   406.5| 2087.6|\n",
      "|                            11|  148.6|  408.44|2444.61|\n",
      "|                            12|  148.6|  416.17| 2279.6|\n",
      "|                            13|  148.6|  418.32| 2279.6|\n",
      "|                            14|  128.6|  406.94|2059.61|\n",
      "|                            15|  118.6|  408.43|2059.61|\n",
      "|                            16|  128.6|  415.42| 2417.6|\n",
      "|                            17|  118.6|  417.22|2059.61|\n",
      "|                            18|  128.6|  423.12| 2417.6|\n",
      "|                            19|  128.6|   425.7|2059.61|\n",
      "|                            20|  128.6|  425.81| 1998.6|\n",
      "+------------------------------+-------+--------+-------+\n",
      "only showing top 20 rows\n",
      "\n"
     ]
    },
    {
     "name": "stderr",
     "output_type": "stream",
     "text": [
      "                                                                                \r"
     ]
    },
    {
     "name": "stdout",
     "output_type": "stream",
     "text": [
      "+------------------------------+-------+--------+-------+\n",
      "|days_between_search_and_flight|MinFare|MeanFare|MaxFare|\n",
      "+------------------------------+-------+--------+-------+\n",
      "|                             1|  33.97|  208.95| 1916.6|\n",
      "|                             2|  33.97|  179.46| 1916.6|\n",
      "|                             3|  33.97|  173.49| 1916.6|\n",
      "|                             4|  33.97|  166.79| 1916.6|\n",
      "|                             5|  33.97|  171.34| 1916.6|\n",
      "|                             6|  23.97|  158.08| 1916.6|\n",
      "|                             7|  23.97|  154.78| 1916.6|\n",
      "|                             8|  23.97|  154.96| 1916.6|\n",
      "|                             9|  23.97|  150.15| 1916.6|\n",
      "|                            10|  23.97|  147.68| 1916.6|\n",
      "|                            11|  23.97|  147.98| 1916.6|\n",
      "|                            12|  23.97|   146.1| 1916.6|\n",
      "|                            13|  23.97|  144.99| 1916.6|\n",
      "|                            14|  23.97|  128.43| 1916.6|\n",
      "|                            15|  23.97|  126.98| 1916.6|\n",
      "|                            16|  23.97|  124.64|  438.6|\n",
      "|                            17|  23.97|  123.34|  821.6|\n",
      "|                            18|  23.97|  123.59|  821.6|\n",
      "|                            19|  23.97|  123.26|  824.6|\n",
      "|                            20|  23.97|  123.73| 1916.6|\n",
      "+------------------------------+-------+--------+-------+\n",
      "only showing top 20 rows\n",
      "\n"
     ]
    },
    {
     "name": "stderr",
     "output_type": "stream",
     "text": [
      "                                                                                \r"
     ]
    },
    {
     "name": "stdout",
     "output_type": "stream",
     "text": [
      "+------------------------------+-------+--------+-------+\n",
      "|days_between_search_and_flight|MinFare|MeanFare|MaxFare|\n",
      "+------------------------------+-------+--------+-------+\n",
      "|                             1|  59.99|  184.86| 353.99|\n",
      "|                             2|  83.98|  164.79| 373.98|\n",
      "|                             3|  73.98|  163.04| 227.99|\n",
      "|                             4|  73.98|  155.61| 253.98|\n",
      "|                             5|  73.98|  150.33| 323.99|\n",
      "|                             6|  59.99|  117.94| 273.99|\n",
      "|                             7|  59.99|  114.38| 273.99|\n",
      "|                             8|  73.98|  124.64| 343.98|\n",
      "|                             9|  66.99|  126.89| 323.99|\n",
      "|                            10|  66.99|   128.6| 273.99|\n",
      "|                            11|  73.98|   127.9| 343.98|\n",
      "|                            12|  63.99|  125.63| 393.99|\n",
      "|                            13|  57.99|  120.04| 393.99|\n",
      "|                            14|  43.98|  112.32| 393.99|\n",
      "|                            15|  43.98|  109.32| 393.99|\n",
      "|                            16|  43.98|  115.01| 393.99|\n",
      "|                            17|  43.98|  111.36| 393.99|\n",
      "|                            18|  43.98|  105.81| 393.99|\n",
      "|                            19|  43.98|  100.55| 393.99|\n",
      "|                            20|  43.98|  102.26| 393.99|\n",
      "+------------------------------+-------+--------+-------+\n",
      "only showing top 20 rows\n",
      "\n"
     ]
    },
    {
     "name": "stderr",
     "output_type": "stream",
     "text": [
      "                                                                                \r"
     ]
    },
    {
     "name": "stdout",
     "output_type": "stream",
     "text": [
      "+------------------------------+-------+--------+-------+\n",
      "|days_between_search_and_flight|MinFare|MeanFare|MaxFare|\n",
      "+------------------------------+-------+--------+-------+\n",
      "|                             1|  225.6|  457.92| 2023.6|\n",
      "|                             2|  225.6|  433.86| 2023.6|\n",
      "|                             3|  225.6|  427.44| 2023.6|\n",
      "|                             4|  225.6|  424.23| 2023.6|\n",
      "|                             5|  258.6|  421.08| 2023.6|\n",
      "|                             6|  148.6|  349.31| 2023.6|\n",
      "|                             7|  178.6|  347.19| 2023.6|\n",
      "|                             8|  148.6|  344.48| 2023.6|\n",
      "|                             9|  148.6|  338.03| 2023.6|\n",
      "|                            10|  148.6|  334.51|  931.6|\n",
      "|                            11|  148.6|  336.23|  798.6|\n",
      "|                            12|  148.6|  338.16|  798.6|\n",
      "|                            13|  148.6|  344.45|  824.6|\n",
      "|                            14|  109.6|  290.38|  798.6|\n",
      "|                            15|  109.6|  288.12|  798.6|\n",
      "|                            16|  134.6|  287.89|  798.6|\n",
      "|                            17|  134.6|  287.22|  798.6|\n",
      "|                            18|  134.6|  288.23|  948.6|\n",
      "|                            19|  134.6|  291.48| 1018.6|\n",
      "|                            20|  134.6|  291.23|  948.6|\n",
      "+------------------------------+-------+--------+-------+\n",
      "only showing top 20 rows\n",
      "\n"
     ]
    },
    {
     "name": "stderr",
     "output_type": "stream",
     "text": [
      "                                                                                \r"
     ]
    },
    {
     "name": "stdout",
     "output_type": "stream",
     "text": [
      "+------------------------------+-------+--------+-------+\n",
      "|days_between_search_and_flight|MinFare|MeanFare|MaxFare|\n",
      "+------------------------------+-------+--------+-------+\n",
      "|                             1|  42.98|  289.99| 2264.6|\n",
      "|                             2|  35.97|  252.22| 2264.6|\n",
      "|                             3|  35.97|  236.36| 2264.6|\n",
      "|                             4|  35.97|  227.89| 2264.6|\n",
      "|                             5|  35.97|  228.63| 2264.6|\n",
      "|                             6|  35.97|  208.65| 2264.6|\n",
      "|                             7|  35.97|  202.59| 2264.6|\n",
      "|                             8|  35.97|  203.16| 2264.6|\n",
      "|                             9|  35.97|  198.54| 2264.6|\n",
      "|                            10|  35.97|  194.27|  968.6|\n",
      "|                            11|  35.97|  193.44|  968.6|\n",
      "|                            12|  35.97|  193.68|  968.6|\n",
      "|                            13|  35.97|   194.6|  968.6|\n",
      "|                            14|  35.97|   195.7|  968.6|\n",
      "|                            15|  35.97|  194.38|  968.6|\n",
      "|                            16|  35.97|  193.87|  968.6|\n",
      "|                            17|  35.97|   193.0|  968.6|\n",
      "|                            18|  35.97|  195.61|  968.6|\n",
      "|                            19|  35.97|  197.64|  968.6|\n",
      "|                            20|  35.97|   198.1|  968.6|\n",
      "+------------------------------+-------+--------+-------+\n",
      "only showing top 20 rows\n",
      "\n"
     ]
    },
    {
     "name": "stderr",
     "output_type": "stream",
     "text": [
      "                                                                                \r"
     ]
    },
    {
     "name": "stdout",
     "output_type": "stream",
     "text": [
      "+------------------------------+-------+--------+-------+\n",
      "|days_between_search_and_flight|MinFare|MeanFare|MaxFare|\n",
      "+------------------------------+-------+--------+-------+\n",
      "|                             1|  278.6|  366.89|1197.61|\n",
      "|                             2|  278.6|  351.15|1197.61|\n",
      "|                             3|  278.6|  348.36|1197.61|\n",
      "|                             4|  278.6|  340.67| 1098.6|\n",
      "|                             5|  278.6|  338.22|  678.6|\n",
      "|                             6|  228.6|  299.92| 1098.6|\n",
      "|                             7|  228.6|  301.83|1197.61|\n",
      "|                             8|  228.6|  299.16|1197.61|\n",
      "|                             9|  228.6|  296.01| 1098.6|\n",
      "|                            10|  228.6|  294.84|  678.6|\n",
      "|                            11|  228.6|  293.56|  678.6|\n",
      "|                            12|  228.6|   292.9|  678.6|\n",
      "|                            13|  228.6|  293.38|  678.6|\n",
      "|                            14|  193.6|  245.15|  678.6|\n",
      "|                            15|  193.6|  247.33| 1098.6|\n",
      "|                            16|  193.6|  249.61| 1098.6|\n",
      "|                            17|  193.6|  247.71| 1098.6|\n",
      "|                            18|  193.6|  247.62| 1098.6|\n",
      "|                            19|  193.6|  250.95|1197.61|\n",
      "|                            20|  193.6|  248.63| 1098.6|\n",
      "+------------------------------+-------+--------+-------+\n",
      "only showing top 20 rows\n",
      "\n"
     ]
    },
    {
     "name": "stderr",
     "output_type": "stream",
     "text": [
      "                                                                                \r"
     ]
    },
    {
     "name": "stdout",
     "output_type": "stream",
     "text": [
      "+------------------------------+-------+--------+-------+\n",
      "|days_between_search_and_flight|MinFare|MeanFare|MaxFare|\n",
      "+------------------------------+-------+--------+-------+\n",
      "|                             1|  30.98|  363.79| 2586.6|\n",
      "|                             2|  30.98|  257.31| 2586.6|\n",
      "|                             3|  30.98|  237.51| 2586.6|\n",
      "|                             4|  30.98|  226.89| 1308.6|\n",
      "|                             5|  30.98|  224.83| 2586.6|\n",
      "|                             6|  30.98|  226.03| 1308.6|\n",
      "|                             7|  30.98|  222.03| 1308.6|\n",
      "|                             8|  30.98|  223.97| 2586.6|\n",
      "|                             9|  30.98|  217.09| 2586.6|\n",
      "|                            10|  30.98|  216.44| 2586.6|\n",
      "|                            11|  30.98|  213.68| 1018.6|\n",
      "|                            12|  30.98|  209.62| 1018.6|\n",
      "|                            13|  30.98|  211.77| 1308.6|\n",
      "|                            14|  30.98|  198.95| 1308.6|\n",
      "|                            15|  30.98|  201.63| 1308.6|\n",
      "|                            16|  29.97|  198.84| 1308.6|\n",
      "|                            17|  29.97|  201.01| 2586.6|\n",
      "|                            18|  29.97|  201.18| 2586.6|\n",
      "|                            19|  29.97|  199.43| 2586.6|\n",
      "|                            20|  29.97|  199.24| 1308.6|\n",
      "+------------------------------+-------+--------+-------+\n",
      "only showing top 20 rows\n",
      "\n"
     ]
    },
    {
     "name": "stderr",
     "output_type": "stream",
     "text": [
      "                                                                                \r"
     ]
    },
    {
     "name": "stdout",
     "output_type": "stream",
     "text": [
      "+------------------------------+-------+--------+-------+\n",
      "|days_between_search_and_flight|MinFare|MeanFare|MaxFare|\n",
      "+------------------------------+-------+--------+-------+\n",
      "|                             1|  95.99|  447.83| 2271.6|\n",
      "|                             2|  53.99|  388.18| 1871.6|\n",
      "|                             3|  53.99|  375.83| 2271.6|\n",
      "|                             4|  53.99|  372.05| 1871.6|\n",
      "|                             5|  53.99|  369.02| 1871.6|\n",
      "|                             6|  53.99|  369.39| 1871.6|\n",
      "|                             7|  33.97|  363.44| 1234.6|\n",
      "|                             8|  33.97|  361.84| 1871.6|\n",
      "|                             9|  33.97|  353.65| 2271.6|\n",
      "|                            10|  33.97|  350.31| 1234.6|\n",
      "|                            11|  33.97|  350.85| 2271.6|\n",
      "|                            12|  39.98|  347.41| 2271.6|\n",
      "|                            13|  50.99|  345.36| 1234.6|\n",
      "|                            14|  39.98|  338.45| 2271.6|\n",
      "|                            15|  39.98|  334.15| 1234.6|\n",
      "|                            16|  47.98|  332.16| 2271.6|\n",
      "|                            17|  47.98|  329.69|  799.6|\n",
      "|                            18|  47.98|   329.6|  799.6|\n",
      "|                            19|  47.98|  328.28|  799.6|\n",
      "|                            20|  47.98|  325.77|  799.6|\n",
      "+------------------------------+-------+--------+-------+\n",
      "only showing top 20 rows\n",
      "\n"
     ]
    },
    {
     "name": "stderr",
     "output_type": "stream",
     "text": [
      "                                                                                \r"
     ]
    },
    {
     "name": "stdout",
     "output_type": "stream",
     "text": [
      "+------------------------------+-------+--------+-------+\n",
      "|days_between_search_and_flight|MinFare|MeanFare|MaxFare|\n",
      "+------------------------------+-------+--------+-------+\n",
      "|                             1|  270.6|  467.85| 4913.6|\n",
      "|                             2|  198.6|  445.98| 4923.6|\n",
      "|                             3|  258.6|  446.83| 4913.6|\n",
      "|                             4|  198.6|  445.04| 4913.6|\n",
      "|                             5|  198.6|  443.14| 4913.6|\n",
      "|                             6|  193.6|  432.94| 4913.6|\n",
      "|                             7|  193.6|   423.7| 4913.6|\n",
      "|                             8|  193.6|  429.25| 4913.6|\n",
      "|                             9|  161.6|  434.66| 4913.6|\n",
      "|                            10|  161.6|  437.39| 4913.6|\n",
      "|                            11|  161.6|   438.8| 4913.6|\n",
      "|                            12|  161.6|  440.83| 2598.6|\n",
      "|                            13|  161.6|  442.08| 4923.6|\n",
      "|                            14|  121.6|  433.59| 4923.6|\n",
      "|                            15|  121.6|  438.44| 4923.6|\n",
      "|                            16|  121.6|  445.03| 4923.6|\n",
      "|                            17|  121.6|  445.31| 4913.6|\n",
      "|                            18|  121.6|  449.23| 2148.6|\n",
      "|                            19|  121.6|   445.5| 2148.6|\n",
      "|                            20|  121.6|  439.76|3564.61|\n",
      "+------------------------------+-------+--------+-------+\n",
      "only showing top 20 rows\n",
      "\n"
     ]
    },
    {
     "name": "stderr",
     "output_type": "stream",
     "text": [
      "                                                                                \r"
     ]
    },
    {
     "name": "stdout",
     "output_type": "stream",
     "text": [
      "+------------------------------+-------+--------+-------+\n",
      "|days_between_search_and_flight|MinFare|MeanFare|MaxFare|\n",
      "+------------------------------+-------+--------+-------+\n",
      "|                             1|  183.6|  292.11| 1347.6|\n",
      "|                             2|  183.6|  280.05| 1347.6|\n",
      "|                             3|  183.6|  278.72| 854.61|\n",
      "|                             4|  183.6|  276.62|1197.61|\n",
      "|                             5|  183.6|  276.13|  754.6|\n",
      "|                             6|   92.6|  231.15|  798.6|\n",
      "|                             7|  118.6|  227.26|  698.6|\n",
      "|                             8|  118.6|  224.46|  698.6|\n",
      "|                             9|   83.6|  219.09|  648.6|\n",
      "|                            10|   83.6|  216.41| 598.61|\n",
      "|                            11|   83.6|  214.73| 598.61|\n",
      "|                            12|   83.6|   214.4|  548.6|\n",
      "|                            13|   83.6|  212.94|  698.6|\n",
      "|                            14|   83.6|  192.05|  698.6|\n",
      "|                            15|   83.6|  191.22|  698.6|\n",
      "|                            16|   83.6|  190.05|  558.6|\n",
      "|                            17|   83.6|  190.79| 598.61|\n",
      "|                            18|   83.6|  192.96| 598.61|\n",
      "|                            19|   83.6|  190.18|  648.6|\n",
      "|                            20|   83.6|  189.88|  648.6|\n",
      "+------------------------------+-------+--------+-------+\n",
      "only showing top 20 rows\n",
      "\n"
     ]
    },
    {
     "name": "stderr",
     "output_type": "stream",
     "text": [
      "                                                                                \r"
     ]
    },
    {
     "name": "stdout",
     "output_type": "stream",
     "text": [
      "+------------------------------+-------+--------+-------+\n",
      "|days_between_search_and_flight|MinFare|MeanFare|MaxFare|\n",
      "+------------------------------+-------+--------+-------+\n",
      "|                             1|  148.6|  288.74| 1597.6|\n",
      "|                             2|  103.6|  234.89|  518.6|\n",
      "|                             3|  103.6|   234.4|  563.6|\n",
      "|                             4|  103.6|  229.55|  508.6|\n",
      "|                             5|  103.6|   223.3|  508.6|\n",
      "|                             6|   98.6|  214.64|  518.6|\n",
      "|                             7|   98.6|  212.72|  508.6|\n",
      "|                             8|   98.6|  213.02|  518.6|\n",
      "|                             9|   98.6|  209.48|  508.6|\n",
      "|                            10|   98.6|  209.84|  508.6|\n",
      "|                            11|   98.6|  211.31| 528.59|\n",
      "|                            12|   98.6|  216.16| 528.59|\n",
      "|                            13|   98.6|  218.89| 528.59|\n",
      "|                            14|   98.6|  194.27|  583.6|\n",
      "|                            15|   98.6|  195.06|  583.6|\n",
      "|                            16|   98.6|  196.54|  493.6|\n",
      "|                            17|   98.6|  201.27|  498.6|\n",
      "|                            18|   98.6|  205.47| 518.59|\n",
      "|                            19|   98.6|  206.31|  583.6|\n",
      "|                            20|   98.6|  204.65| 528.59|\n",
      "+------------------------------+-------+--------+-------+\n",
      "only showing top 20 rows\n",
      "\n"
     ]
    },
    {
     "name": "stderr",
     "output_type": "stream",
     "text": [
      "                                                                                \r"
     ]
    },
    {
     "name": "stdout",
     "output_type": "stream",
     "text": [
      "+------------------------------+-------+--------+-------+\n",
      "|days_between_search_and_flight|MinFare|MeanFare|MaxFare|\n",
      "+------------------------------+-------+--------+-------+\n",
      "|                             1|  53.98|  296.65|2057.61|\n",
      "|                             2|  53.98|  242.19|2057.61|\n",
      "|                             3|  53.98|  241.37|2057.61|\n",
      "|                             4|  53.98|   239.1|  668.6|\n",
      "|                             5|  50.98|  241.76|2057.61|\n",
      "|                             6|  43.98|  220.46|2057.61|\n",
      "|                             7|  43.98|  213.83|2057.61|\n",
      "|                             8|  43.98|  212.63|2057.61|\n",
      "|                             9|  43.98|  209.82|2057.61|\n",
      "|                            10|  43.98|  207.26|2057.61|\n",
      "|                            11|  43.98|  208.93|2057.61|\n",
      "|                            12|  43.98|  208.04|2057.61|\n",
      "|                            13|  42.98|  206.19|1027.61|\n",
      "|                            14|  23.97|  192.17|2057.61|\n",
      "|                            15|  23.97|   192.8|2057.61|\n",
      "|                            16|  23.97|  192.14|2057.61|\n",
      "|                            17|  23.97|  192.97|2057.61|\n",
      "|                            18|  23.97|   194.1|2057.61|\n",
      "|                            19|  31.97|  191.48|2057.61|\n",
      "|                            20|  31.97|  191.86|2057.61|\n",
      "+------------------------------+-------+--------+-------+\n",
      "only showing top 20 rows\n",
      "\n"
     ]
    },
    {
     "name": "stderr",
     "output_type": "stream",
     "text": [
      "                                                                                \r"
     ]
    },
    {
     "name": "stdout",
     "output_type": "stream",
     "text": [
      "+------------------------------+-------+--------+-------+\n",
      "|days_between_search_and_flight|MinFare|MeanFare|MaxFare|\n",
      "+------------------------------+-------+--------+-------+\n",
      "|                             1|  344.1|  546.48| 2953.1|\n",
      "|                             2|  344.1|  551.67| 2953.1|\n",
      "|                             3|  344.1|  570.36| 1550.1|\n",
      "|                             4|  344.1|  581.54| 2953.1|\n",
      "|                             5|  344.1|  597.12| 2953.1|\n",
      "|                             6| 336.11|  568.97| 2953.1|\n",
      "|                             7| 336.11|  561.26| 1550.1|\n",
      "|                             8| 336.11|  564.89| 1550.1|\n",
      "|                             9| 336.11|   555.6| 1550.1|\n",
      "|                            10| 336.11|  561.34| 1550.1|\n",
      "|                            11| 336.11|  561.86| 2553.1|\n",
      "|                            12| 336.11|  556.32| 1550.1|\n",
      "|                            13| 336.11|  561.24| 1550.1|\n",
      "|                            14| 336.11|  552.92| 1550.1|\n",
      "|                            15| 336.11|  553.06| 1570.1|\n",
      "|                            16| 336.11|  550.82| 1550.1|\n",
      "|                            17| 336.11|  553.07| 1550.1|\n",
      "|                            18| 379.11|  548.45| 1550.1|\n",
      "|                            19| 379.11|  557.77| 1550.1|\n",
      "|                            20| 379.11|  551.72| 1550.1|\n",
      "+------------------------------+-------+--------+-------+\n",
      "only showing top 20 rows\n",
      "\n"
     ]
    },
    {
     "name": "stderr",
     "output_type": "stream",
     "text": [
      "                                                                                \r"
     ]
    },
    {
     "name": "stdout",
     "output_type": "stream",
     "text": [
      "+------------------------------+-------+--------+-------+\n",
      "|days_between_search_and_flight|MinFare|MeanFare|MaxFare|\n",
      "+------------------------------+-------+--------+-------+\n",
      "|                             1| 598.61|  623.15|  818.6|\n",
      "|                             2| 598.61|  606.79|  648.6|\n",
      "|                             3| 598.61|  606.79|  648.6|\n",
      "|                             4| 598.61|  606.79|  648.6|\n",
      "|                             5| 598.61|  606.79|  648.6|\n",
      "|                             6|  498.6|  532.24|  818.6|\n",
      "|                             7|  498.6|  520.42| 638.61|\n",
      "|                             8|  498.6|   508.6|  548.6|\n",
      "|                             9|  498.6|  507.69|  548.6|\n",
      "|                            10|  498.6|  503.14|  528.6|\n",
      "|                            11|  498.6|  503.14|  528.6|\n",
      "|                            12|  498.6|  509.51|  533.6|\n",
      "|                            13|  498.6|  509.51|  533.6|\n",
      "|                            14|  378.6|  412.24|  558.6|\n",
      "|                            15|  378.6|  415.87|  618.6|\n",
      "|                            16|  378.6|  424.96|  488.6|\n",
      "|                            17|  378.6|   436.1| 503.61|\n",
      "|                            18|  378.6|   443.6|  498.6|\n",
      "|                            19|  408.6|  440.27|  498.6|\n",
      "|                            20|  378.6|  444.71|  558.6|\n",
      "+------------------------------+-------+--------+-------+\n",
      "only showing top 20 rows\n",
      "\n"
     ]
    },
    {
     "name": "stderr",
     "output_type": "stream",
     "text": [
      "                                                                                \r"
     ]
    },
    {
     "name": "stdout",
     "output_type": "stream",
     "text": [
      "+------------------------------+-------+--------+-------+\n",
      "|days_between_search_and_flight|MinFare|MeanFare|MaxFare|\n",
      "+------------------------------+-------+--------+-------+\n",
      "|                             1|  86.98|  275.54| 2039.6|\n",
      "|                             2|  81.98|  262.87| 1639.6|\n",
      "|                             3|  81.98|  264.66| 1639.6|\n",
      "|                             4|  81.98|  260.07| 1094.6|\n",
      "|                             5|  62.99|  261.15| 1639.6|\n",
      "|                             6|  47.98|  248.41| 1639.6|\n",
      "|                             7|  33.97|   244.9| 1639.6|\n",
      "|                             8|  33.97|  242.36| 1054.6|\n",
      "|                             9|  23.97|  240.04| 1054.6|\n",
      "|                            10|  23.97|  238.73| 1054.6|\n",
      "|                            11|  33.97|  237.97|  848.6|\n",
      "|                            12|  37.98|  240.84|  878.6|\n",
      "|                            13|  30.98|  243.97|  878.6|\n",
      "|                            14|  23.97|  232.93|  848.6|\n",
      "|                            15|  23.97|  234.18|  848.6|\n",
      "|                            16|  30.98|   231.8|  848.6|\n",
      "|                            17|  30.98|  232.88|  848.6|\n",
      "|                            18|  30.98|  232.41|  848.6|\n",
      "|                            19|  30.98|  231.37|  888.6|\n",
      "|                            20|  30.98|  229.09|  888.6|\n",
      "+------------------------------+-------+--------+-------+\n",
      "only showing top 20 rows\n",
      "\n"
     ]
    },
    {
     "name": "stderr",
     "output_type": "stream",
     "text": [
      "                                                                                \r"
     ]
    },
    {
     "name": "stdout",
     "output_type": "stream",
     "text": [
      "+------------------------------+-------+--------+-------+\n",
      "|days_between_search_and_flight|MinFare|MeanFare|MaxFare|\n",
      "+------------------------------+-------+--------+-------+\n",
      "|                             1|  145.6|  295.23| 2453.6|\n",
      "|                             2|  103.6|  237.69| 2453.6|\n",
      "|                             3|  103.6|  226.88| 2453.6|\n",
      "|                             4|   93.6|  220.19| 2453.6|\n",
      "|                             5|   93.6|  215.24| 2453.6|\n",
      "|                             6|   78.6|  199.29| 2053.6|\n",
      "|                             7|   78.6|  193.08| 2053.6|\n",
      "|                             8|   78.6|  189.12| 2053.6|\n",
      "|                             9|   68.6|  184.32| 1246.6|\n",
      "|                            10|   68.6|  177.87|  668.6|\n",
      "|                            11|   68.6|  176.09|  668.6|\n",
      "|                            12|   68.6|  171.15|  668.6|\n",
      "|                            13|   68.6|  168.61|  508.6|\n",
      "|                            14|   48.6|  166.96|  508.6|\n",
      "|                            15|   68.6|  166.58|  508.6|\n",
      "|                            16|   48.6|  167.84|  578.6|\n",
      "|                            17|   48.6|  167.28| 898.61|\n",
      "|                            18|   48.6|  167.26|  613.6|\n",
      "|                            19|   78.6|  163.74|  578.6|\n",
      "|                            20|   78.6|   161.8|  568.6|\n",
      "+------------------------------+-------+--------+-------+\n",
      "only showing top 20 rows\n",
      "\n"
     ]
    },
    {
     "name": "stderr",
     "output_type": "stream",
     "text": [
      "                                                                                \r"
     ]
    },
    {
     "name": "stdout",
     "output_type": "stream",
     "text": [
      "+------------------------------+-------+--------+-------+\n",
      "|days_between_search_and_flight|MinFare|MeanFare|MaxFare|\n",
      "+------------------------------+-------+--------+-------+\n",
      "|                             1|   93.6|   193.6|  650.6|\n",
      "|                             2|   54.6|  155.89|  650.6|\n",
      "|                             3|   54.6|   155.1|  650.6|\n",
      "|                             4|   48.6|  153.63|  650.6|\n",
      "|                             5|   48.6|  152.68|  650.6|\n",
      "|                             6|   48.6|  138.43|  650.6|\n",
      "|                             7|   48.6|  137.37|  650.6|\n",
      "|                             8|   48.6|  136.62|  570.6|\n",
      "|                             9|   48.6|  134.69|  570.6|\n",
      "|                            10|   48.6|  133.27|  570.6|\n",
      "|                            11|   48.6|   131.9|  570.6|\n",
      "|                            12|   48.6|  131.98|  570.6|\n",
      "|                            13|   48.6|  130.92|  570.6|\n",
      "|                            14|   48.6|  110.56|  570.6|\n",
      "|                            15|   48.6|  108.63|  570.6|\n",
      "|                            16|   48.6|  107.86|  570.6|\n",
      "|                            17|   48.6|  107.82|  570.6|\n",
      "|                            18|   48.6|  107.31|  570.6|\n",
      "|                            19|   48.6|  106.78|  570.6|\n",
      "|                            20|   48.6|  105.26|  570.6|\n",
      "+------------------------------+-------+--------+-------+\n",
      "only showing top 20 rows\n",
      "\n"
     ]
    },
    {
     "name": "stderr",
     "output_type": "stream",
     "text": [
      "                                                                                \r"
     ]
    },
    {
     "name": "stdout",
     "output_type": "stream",
     "text": [
      "+------------------------------+-------+--------+-------+\n",
      "|days_between_search_and_flight|MinFare|MeanFare|MaxFare|\n",
      "+------------------------------+-------+--------+-------+\n",
      "|                             1|  138.6|   310.9| 1687.6|\n",
      "|                             2|  118.6|  290.32| 1687.6|\n",
      "|                             3|  118.6|  288.51| 1687.6|\n",
      "|                             4|  118.6|   285.0| 1687.6|\n",
      "|                             5|  118.6|  283.99| 1687.6|\n",
      "|                             6|   98.6|  247.23| 1687.6|\n",
      "|                             7|   98.6|  241.69|  872.6|\n",
      "|                             8|   98.6|  241.22| 1034.6|\n",
      "|                             9|   98.6|  239.97|  885.6|\n",
      "|                            10|   98.6|  239.31| 1687.6|\n",
      "|                            11|   98.6|  239.83|  885.6|\n",
      "|                            12|   98.6|  238.79|  872.6|\n",
      "|                            13|   98.6|  236.09| 1687.6|\n",
      "|                            14|   98.6|  203.67| 1687.6|\n",
      "|                            15|   98.6|  202.13| 1687.6|\n",
      "|                            16|   98.6|   200.3| 1687.6|\n",
      "|                            17|   98.6|  200.61| 1687.6|\n",
      "|                            18|   98.6|  201.36| 1687.6|\n",
      "|                            19|   98.6|  199.77| 1687.6|\n",
      "|                            20|   98.6|  196.81| 1687.6|\n",
      "+------------------------------+-------+--------+-------+\n",
      "only showing top 20 rows\n",
      "\n"
     ]
    },
    {
     "name": "stderr",
     "output_type": "stream",
     "text": [
      "                                                                                \r"
     ]
    },
    {
     "name": "stdout",
     "output_type": "stream",
     "text": [
      "+------------------------------+-------+--------+-------+\n",
      "|days_between_search_and_flight|MinFare|MeanFare|MaxFare|\n",
      "+------------------------------+-------+--------+-------+\n",
      "|                             1|  274.6|  396.48| 2539.6|\n",
      "|                             2|  274.6|   375.5| 1448.6|\n",
      "|                             3|  274.6|  375.01| 1276.6|\n",
      "|                             4|  274.6|  373.54| 2149.6|\n",
      "|                             5|  274.6|  371.98| 1048.6|\n",
      "|                             6|   99.6|  331.94| 1048.6|\n",
      "|                             7|   99.6|  329.12| 1276.6|\n",
      "|                             8|   99.6|  329.13| 1048.6|\n",
      "|                             9|   99.6|  320.28| 1747.6|\n",
      "|                            10|   99.6|   317.6|  917.6|\n",
      "|                            11|   99.6|  319.27|  808.6|\n",
      "|                            12|   99.6|  318.06| 1048.6|\n",
      "|                            13|  119.6|  318.03| 1107.6|\n",
      "|                            14|   64.6|  281.39| 1048.6|\n",
      "|                            15|   88.6|  282.76| 1107.6|\n",
      "|                            16|   88.6|   284.6| 2539.6|\n",
      "|                            17|   64.6|  286.92| 1048.6|\n",
      "|                            18|   88.6|  288.37| 1107.6|\n",
      "|                            19|   88.6|  285.74| 1107.6|\n",
      "|                            20|   88.6|  282.44| 727.61|\n",
      "+------------------------------+-------+--------+-------+\n",
      "only showing top 20 rows\n",
      "\n"
     ]
    },
    {
     "name": "stderr",
     "output_type": "stream",
     "text": [
      "                                                                                \r"
     ]
    },
    {
     "name": "stdout",
     "output_type": "stream",
     "text": [
      "+------------------------------+-------+--------+-------+\n",
      "|days_between_search_and_flight|MinFare|MeanFare|MaxFare|\n",
      "+------------------------------+-------+--------+-------+\n",
      "|                             1|  278.6|  336.62|1197.61|\n",
      "|                             2|  278.6|  324.86|1197.61|\n",
      "|                             3|  278.6|  324.46|1197.61|\n",
      "|                             4|  159.6|  323.16|  418.6|\n",
      "|                             5|  159.6|  323.62|1197.61|\n",
      "|                             6|  119.6|  278.77|1197.61|\n",
      "|                             7|  119.6|  272.92|  688.6|\n",
      "|                             8|  119.6|  273.67|  688.6|\n",
      "|                             9|  116.6|  273.88|  358.6|\n",
      "|                            10|  116.6|  272.84|  378.6|\n",
      "|                            11|  116.6|  273.26|  378.6|\n",
      "|                            12|  116.6|  274.28|  378.6|\n",
      "|                            13|  116.6|  274.33|  378.6|\n",
      "|                            14|   90.6|  170.78|  378.6|\n",
      "|                            15|   90.6|  170.29|  378.6|\n",
      "|                            16|   90.6|  170.54|  358.6|\n",
      "|                            17|   90.6|  169.34|  298.6|\n",
      "|                            18|   90.6|   169.8|  378.6|\n",
      "|                            19|   90.6|  170.58| 298.59|\n",
      "|                            20|   90.6|  168.97| 298.59|\n",
      "+------------------------------+-------+--------+-------+\n",
      "only showing top 20 rows\n",
      "\n"
     ]
    },
    {
     "name": "stderr",
     "output_type": "stream",
     "text": [
      "                                                                                \r"
     ]
    },
    {
     "name": "stdout",
     "output_type": "stream",
     "text": [
      "+------------------------------+-------+--------+-------+\n",
      "|days_between_search_and_flight|MinFare|MeanFare|MaxFare|\n",
      "+------------------------------+-------+--------+-------+\n",
      "|                             5|  648.6|   723.6| 1048.6|\n",
      "+------------------------------+-------+--------+-------+\n",
      "\n"
     ]
    },
    {
     "name": "stderr",
     "output_type": "stream",
     "text": [
      "                                                                                \r"
     ]
    },
    {
     "name": "stdout",
     "output_type": "stream",
     "text": [
      "+------------------------------+-------+--------+-------+\n",
      "|days_between_search_and_flight|MinFare|MeanFare|MaxFare|\n",
      "+------------------------------+-------+--------+-------+\n",
      "|                             5|  648.6|   723.6| 1048.6|\n",
      "+------------------------------+-------+--------+-------+\n",
      "\n"
     ]
    },
    {
     "name": "stderr",
     "output_type": "stream",
     "text": [
      "                                                                                \r"
     ]
    },
    {
     "name": "stdout",
     "output_type": "stream",
     "text": [
      "+------------------------------+-------+--------+-------+\n",
      "|days_between_search_and_flight|MinFare|MeanFare|MaxFare|\n",
      "+------------------------------+-------+--------+-------+\n",
      "|                             5|  648.6|   723.6| 1048.6|\n",
      "+------------------------------+-------+--------+-------+\n",
      "\n"
     ]
    },
    {
     "name": "stderr",
     "output_type": "stream",
     "text": [
      "[Stage 784:==================================================>    (11 + 1) / 12]\r"
     ]
    },
    {
     "name": "stdout",
     "output_type": "stream",
     "text": [
      "+------------------------------+-------+--------+-------+\n",
      "|days_between_search_and_flight|MinFare|MeanFare|MaxFare|\n",
      "+------------------------------+-------+--------+-------+\n",
      "|                             5|  648.6|   723.6| 1048.6|\n",
      "+------------------------------+-------+--------+-------+\n",
      "\n",
      "{11.534762144088745}\n"
     ]
    },
    {
     "name": "stderr",
     "output_type": "stream",
     "text": [
      "                                                                                \r"
     ]
    }
   ],
   "source": [
    "# This took 40 minutes to run\n",
    "import time\n",
    "\n",
    "# Collect the distinct flights into a list of rows\n",
    "distinct_flights = num_flight.collect()\n",
    "\n",
    "# Iterate over the list and pass the columns to the specific_flight function\n",
    "time_table = []\n",
    "\n",
    "for flight in distinct_flights:\n",
    "    start_time = time.time()\n",
    "\n",
    "    startingAirport = flight['startingAirport']\n",
    "    destinationAirport = flight['destinationAirport']\n",
    "    flight_df = specific_flight(startingAirport, destinationAirport)\n",
    "    get_stats_for_flight(flight_df)\n",
    "\n",
    "    end_time = time.time()\n",
    "    time_table.append(end_time - start_time)\n",
    "print({end_time - start_time})"
   ]
  }
 ],
 "metadata": {
  "kernelspec": {
   "display_name": "Python 3",
   "language": "python",
   "name": "python3"
  },
  "language_info": {
   "codemirror_mode": {
    "name": "ipython",
    "version": 3
   },
   "file_extension": ".py",
   "mimetype": "text/x-python",
   "name": "python",
   "nbconvert_exporter": "python",
   "pygments_lexer": "ipython3",
   "version": "3.8.10"
  }
 },
 "nbformat": 4,
 "nbformat_minor": 2
}
